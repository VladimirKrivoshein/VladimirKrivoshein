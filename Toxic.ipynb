{
 "cells": [
  {
   "cell_type": "markdown",
   "metadata": {
    "toc": true
   },
   "source": [
    "<h1>Содержание<span class=\"tocSkip\"></span></h1>\n",
    "<div class=\"toc\"><ul class=\"toc-item\"><li><span><a href=\"#Подготовка\" data-toc-modified-id=\"Подготовка-1\"><span class=\"toc-item-num\">1&nbsp;&nbsp;</span>Подготовка</a></span><ul class=\"toc-item\"><li><span><a href=\"#Импорт-библиотек\" data-toc-modified-id=\"Импорт-библиотек-1.1\"><span class=\"toc-item-num\">1.1&nbsp;&nbsp;</span>Импорт библиотек</a></span></li><li><span><a href=\"#Загрузка-данных\" data-toc-modified-id=\"Загрузка-данных-1.2\"><span class=\"toc-item-num\">1.2&nbsp;&nbsp;</span>Загрузка данных</a></span></li><li><span><a href=\"#Очистка-и-лемматизация\" data-toc-modified-id=\"Очистка-и-лемматизация-1.3\"><span class=\"toc-item-num\">1.3&nbsp;&nbsp;</span>Очистка и лемматизация</a></span></li></ul></li><li><span><a href=\"#Обучение\" data-toc-modified-id=\"Обучение-2\"><span class=\"toc-item-num\">2&nbsp;&nbsp;</span>Обучение</a></span><ul class=\"toc-item\"><li><span><a href=\"#Баланс-классов\" data-toc-modified-id=\"Баланс-классов-2.1\"><span class=\"toc-item-num\">2.1&nbsp;&nbsp;</span>Баланс классов</a></span></li><li><span><a href=\"#Признаки-и-целевой-признак\" data-toc-modified-id=\"Признаки-и-целевой-признак-2.2\"><span class=\"toc-item-num\">2.2&nbsp;&nbsp;</span>Признаки и целевой признак</a></span></li><li><span><a href=\"#Стоп-слова-и-векторизация\" data-toc-modified-id=\"Стоп-слова-и-векторизация-2.3\"><span class=\"toc-item-num\">2.3&nbsp;&nbsp;</span>Стоп-слова и векторизация</a></span></li><li><span><a href=\"#Логистическая-регрессия\" data-toc-modified-id=\"Логистическая-регрессия-2.4\"><span class=\"toc-item-num\">2.4&nbsp;&nbsp;</span>Логистическая регрессия</a></span></li><li><span><a href=\"#Случайный-лес\" data-toc-modified-id=\"Случайный-лес-2.5\"><span class=\"toc-item-num\">2.5&nbsp;&nbsp;</span>Случайный лес</a></span></li><li><span><a href=\"#CatBoost\" data-toc-modified-id=\"CatBoost-2.6\"><span class=\"toc-item-num\">2.6&nbsp;&nbsp;</span>CatBoost</a></span></li><li><span><a href=\"#Случайная-модель\" data-toc-modified-id=\"Случайная-модель-2.7\"><span class=\"toc-item-num\">2.7&nbsp;&nbsp;</span>Случайная модель</a></span></li></ul></li><li><span><a href=\"#Выводы\" data-toc-modified-id=\"Выводы-3\"><span class=\"toc-item-num\">3&nbsp;&nbsp;</span>Выводы</a></span></li><li><span><a href=\"#Чек-лист-проверки\" data-toc-modified-id=\"Чек-лист-проверки-4\"><span class=\"toc-item-num\">4&nbsp;&nbsp;</span>Чек-лист проверки</a></span></li></ul></div>"
   ]
  },
  {
   "cell_type": "markdown",
   "metadata": {},
   "source": [
    "# Проект для «Викишоп»"
   ]
  },
  {
   "cell_type": "markdown",
   "metadata": {},
   "source": [
    "Интернет-магазин «Викишоп» запускает новый сервис. Теперь пользователи могут редактировать и дополнять описания товаров, как в вики-сообществах. То есть клиенты предлагают свои правки и комментируют изменения других. Магазину нужен инструмент, который будет искать токсичные комментарии и отправлять их на модерацию. \n",
    "\n",
    "Обучите модель классифицировать комментарии на позитивные и негативные. В вашем распоряжении набор данных с разметкой о токсичности правок.\n",
    "\n",
    "Постройте модель со значением метрики качества *F1* не меньше 0.75. \n",
    "\n",
    "**Инструкция по выполнению проекта**\n",
    "\n",
    "1. Загрузите и подготовьте данные.\n",
    "2. Обучите разные модели. \n",
    "3. Сделайте выводы.\n",
    "\n",
    "\n",
    "**Описание данных**\n",
    "\n",
    "Данные находятся в файле `toxic_comments.csv`. Столбец *text* в нём содержит текст комментария, а *toxic* — целевой признак."
   ]
  },
  {
   "cell_type": "markdown",
   "metadata": {},
   "source": [
    "## Подготовка"
   ]
  },
  {
   "cell_type": "markdown",
   "metadata": {},
   "source": [
    "### Импорт библиотек"
   ]
  },
  {
   "cell_type": "code",
   "execution_count": 2,
   "metadata": {},
   "outputs": [
    {
     "name": "stdout",
     "output_type": "stream",
     "text": [
      "Requirement already satisfied: catboost in /opt/conda/lib/python3.9/site-packages (1.0.3)\n",
      "Requirement already satisfied: plotly in /opt/conda/lib/python3.9/site-packages (from catboost) (5.4.0)\n",
      "Requirement already satisfied: six in /opt/conda/lib/python3.9/site-packages (from catboost) (1.16.0)\n",
      "Requirement already satisfied: matplotlib in /opt/conda/lib/python3.9/site-packages (from catboost) (3.3.4)\n",
      "Requirement already satisfied: pandas>=0.24.0 in /opt/conda/lib/python3.9/site-packages (from catboost) (1.2.4)\n",
      "Requirement already satisfied: graphviz in /opt/conda/lib/python3.9/site-packages (from catboost) (0.20.1)\n",
      "Requirement already satisfied: numpy>=1.16.0 in /opt/conda/lib/python3.9/site-packages (from catboost) (1.21.1)\n",
      "Requirement already satisfied: scipy in /opt/conda/lib/python3.9/site-packages (from catboost) (1.9.1)\n",
      "Requirement already satisfied: python-dateutil>=2.7.3 in /opt/conda/lib/python3.9/site-packages (from pandas>=0.24.0->catboost) (2.8.1)\n",
      "Requirement already satisfied: pytz>=2017.3 in /opt/conda/lib/python3.9/site-packages (from pandas>=0.24.0->catboost) (2021.1)\n",
      "Requirement already satisfied: kiwisolver>=1.0.1 in /opt/conda/lib/python3.9/site-packages (from matplotlib->catboost) (1.4.4)\n",
      "Requirement already satisfied: pillow>=6.2.0 in /opt/conda/lib/python3.9/site-packages (from matplotlib->catboost) (8.4.0)\n",
      "Requirement already satisfied: cycler>=0.10 in /opt/conda/lib/python3.9/site-packages (from matplotlib->catboost) (0.11.0)\n",
      "Requirement already satisfied: pyparsing!=2.0.4,!=2.1.2,!=2.1.6,>=2.0.3 in /opt/conda/lib/python3.9/site-packages (from matplotlib->catboost) (2.4.7)\n",
      "Requirement already satisfied: tenacity>=6.2.0 in /opt/conda/lib/python3.9/site-packages (from plotly->catboost) (8.0.1)\n",
      "Requirement already satisfied: tqdm in /opt/conda/lib/python3.9/site-packages (4.61.2)\n"
     ]
    },
    {
     "name": "stderr",
     "output_type": "stream",
     "text": [
      "[nltk_data] Downloading package wordnet to /home/jovyan/nltk_data...\n",
      "[nltk_data]   Package wordnet is already up-to-date!\n"
     ]
    }
   ],
   "source": [
    "!pip install catboost\n",
    "!pip install tqdm\n",
    "import pandas as pd \n",
    "import numpy as np \n",
    "from tqdm import tqdm\n",
    "import nltk\n",
    "nltk.download('wordnet')\n",
    "import re \n",
    "from nltk.stem import WordNetLemmatizer \n",
    "from sklearn.feature_extraction.text import TfidfVectorizer \n",
    "from nltk.corpus import stopwords \n",
    "%matplotlib inline\n",
    "import matplotlib.pyplot as plt \n",
    "import seaborn as sns \n",
    "from sklearn.model_selection import train_test_split, cross_val_score, GridSearchCV\n",
    "import catboost as cb\n",
    "from sklearn.linear_model import LogisticRegression\n",
    "from sklearn.tree import DecisionTreeClassifier\n",
    "from sklearn.ensemble import RandomForestClassifier\n",
    "from sklearn.metrics import f1_score\n",
    "import warnings\n",
    "warnings.filterwarnings('ignore')"
   ]
  },
  {
   "cell_type": "markdown",
   "metadata": {},
   "source": [
    "### Загрузка данных"
   ]
  },
  {
   "cell_type": "code",
   "execution_count": 2,
   "metadata": {},
   "outputs": [
    {
     "data": {
      "text/html": [
       "<div>\n",
       "<style scoped>\n",
       "    .dataframe tbody tr th:only-of-type {\n",
       "        vertical-align: middle;\n",
       "    }\n",
       "\n",
       "    .dataframe tbody tr th {\n",
       "        vertical-align: top;\n",
       "    }\n",
       "\n",
       "    .dataframe thead th {\n",
       "        text-align: right;\n",
       "    }\n",
       "</style>\n",
       "<table border=\"1\" class=\"dataframe\">\n",
       "  <thead>\n",
       "    <tr style=\"text-align: right;\">\n",
       "      <th></th>\n",
       "      <th>text</th>\n",
       "      <th>toxic</th>\n",
       "    </tr>\n",
       "  </thead>\n",
       "  <tbody>\n",
       "    <tr>\n",
       "      <th>0</th>\n",
       "      <td>Explanation\\nWhy the edits made under my usern...</td>\n",
       "      <td>0</td>\n",
       "    </tr>\n",
       "    <tr>\n",
       "      <th>1</th>\n",
       "      <td>D'aww! He matches this background colour I'm s...</td>\n",
       "      <td>0</td>\n",
       "    </tr>\n",
       "    <tr>\n",
       "      <th>2</th>\n",
       "      <td>Hey man, I'm really not trying to edit war. It...</td>\n",
       "      <td>0</td>\n",
       "    </tr>\n",
       "    <tr>\n",
       "      <th>3</th>\n",
       "      <td>\"\\nMore\\nI can't make any real suggestions on ...</td>\n",
       "      <td>0</td>\n",
       "    </tr>\n",
       "    <tr>\n",
       "      <th>4</th>\n",
       "      <td>You, sir, are my hero. Any chance you remember...</td>\n",
       "      <td>0</td>\n",
       "    </tr>\n",
       "  </tbody>\n",
       "</table>\n",
       "</div>"
      ],
      "text/plain": [
       "                                                text  toxic\n",
       "0  Explanation\\nWhy the edits made under my usern...      0\n",
       "1  D'aww! He matches this background colour I'm s...      0\n",
       "2  Hey man, I'm really not trying to edit war. It...      0\n",
       "3  \"\\nMore\\nI can't make any real suggestions on ...      0\n",
       "4  You, sir, are my hero. Any chance you remember...      0"
      ]
     },
     "metadata": {},
     "output_type": "display_data"
    },
    {
     "name": "stdout",
     "output_type": "stream",
     "text": [
      "<class 'pandas.core.frame.DataFrame'>\n",
      "Int64Index: 159571 entries, 0 to 159570\n",
      "Data columns (total 2 columns):\n",
      " #   Column  Non-Null Count   Dtype \n",
      "---  ------  --------------   ----- \n",
      " 0   text    159571 non-null  object\n",
      " 1   toxic   159571 non-null  int64 \n",
      "dtypes: int64(1), object(1)\n",
      "memory usage: 3.7+ MB\n"
     ]
    }
   ],
   "source": [
    "toxic_comments = pd.read_csv('H:/toxic_comments.csv')\n",
    "display(toxic_comments.head())\n",
    "toxic_comments = toxic_comments.drop_duplicates()\n",
    "toxic_comments.info()        "
   ]
  },
  {
   "cell_type": "markdown",
   "metadata": {},
   "source": [
    "<div class=\"alert alert-info\">\n",
    "    \n",
    "<font size=\"3\"><b> 159571 строк без пропусков. Необходимо будет перевести в корпус текстов, очистить и лемматизировать для\n",
    "    построения модели, где целевым признаком является столбец toxic.\n",
    "\n",
    "</b></font>\n",
    "    \n",
    "</div>"
   ]
  },
  {
   "cell_type": "markdown",
   "metadata": {},
   "source": [
    "###  Очистка и лемматизация"
   ]
  },
  {
   "cell_type": "code",
   "execution_count": 3,
   "metadata": {},
   "outputs": [
    {
     "name": "stderr",
     "output_type": "stream",
     "text": [
      "100%|███████████████████████████████████████████████████████████████████████| 159571/159571 [00:14<00:00, 10713.20it/s]\n"
     ]
    },
    {
     "data": {
      "text/html": [
       "<div>\n",
       "<style scoped>\n",
       "    .dataframe tbody tr th:only-of-type {\n",
       "        vertical-align: middle;\n",
       "    }\n",
       "\n",
       "    .dataframe tbody tr th {\n",
       "        vertical-align: top;\n",
       "    }\n",
       "\n",
       "    .dataframe thead th {\n",
       "        text-align: right;\n",
       "    }\n",
       "</style>\n",
       "<table border=\"1\" class=\"dataframe\">\n",
       "  <thead>\n",
       "    <tr style=\"text-align: right;\">\n",
       "      <th></th>\n",
       "      <th>0</th>\n",
       "    </tr>\n",
       "  </thead>\n",
       "  <tbody>\n",
       "    <tr>\n",
       "      <th>0</th>\n",
       "      <td>explanation why the edits made under my userna...</td>\n",
       "    </tr>\n",
       "    <tr>\n",
       "      <th>1</th>\n",
       "      <td>d aww he matches this background colour i m se...</td>\n",
       "    </tr>\n",
       "    <tr>\n",
       "      <th>2</th>\n",
       "      <td>hey man i m really not trying to edit war it s...</td>\n",
       "    </tr>\n",
       "    <tr>\n",
       "      <th>3</th>\n",
       "      <td>more i can t make any real suggestions on impr...</td>\n",
       "    </tr>\n",
       "    <tr>\n",
       "      <th>4</th>\n",
       "      <td>you sir are my hero any chance you remember wh...</td>\n",
       "    </tr>\n",
       "  </tbody>\n",
       "</table>\n",
       "</div>"
      ],
      "text/plain": [
       "                                                   0\n",
       "0  explanation why the edits made under my userna...\n",
       "1  d aww he matches this background colour i m se...\n",
       "2  hey man i m really not trying to edit war it s...\n",
       "3  more i can t make any real suggestions on impr...\n",
       "4  you sir are my hero any chance you remember wh..."
      ]
     },
     "execution_count": 3,
     "metadata": {},
     "output_type": "execute_result"
    }
   ],
   "source": [
    "# корпус, текст в Юникод\n",
    "corpus = toxic_comments['text'].values.astype('U')\n",
    "\n",
    "# класс для лемматизации\n",
    "WNL = WordNetLemmatizer()\n",
    "\n",
    "# функция очистки и лемматизации \n",
    "def clean(text):\n",
    "    \n",
    "    text = text.lower()\n",
    "    lemm_text = \"\".join(WNL.lemmatize(text))\n",
    "    clear_text = re.sub(r'[^a-zA-Z]', ' ', lemm_text) \n",
    "    return \" \".join(clear_text.split())\n",
    "\n",
    "# обработка корпуса\n",
    "for i in tqdm(range(len(corpus))):\n",
    "    corpus[i] = clean(corpus[i])\n",
    "# переводим из массива в таблицу\n",
    "toxic_comments_corpus = pd.DataFrame(corpus)\n",
    "toxic_comments_corpus.head()"
   ]
  },
  {
   "cell_type": "code",
   "execution_count": 4,
   "metadata": {},
   "outputs": [
    {
     "data": {
      "text/html": [
       "<div>\n",
       "<style scoped>\n",
       "    .dataframe tbody tr th:only-of-type {\n",
       "        vertical-align: middle;\n",
       "    }\n",
       "\n",
       "    .dataframe tbody tr th {\n",
       "        vertical-align: top;\n",
       "    }\n",
       "\n",
       "    .dataframe thead th {\n",
       "        text-align: right;\n",
       "    }\n",
       "</style>\n",
       "<table border=\"1\" class=\"dataframe\">\n",
       "  <thead>\n",
       "    <tr style=\"text-align: right;\">\n",
       "      <th></th>\n",
       "      <th>text</th>\n",
       "      <th>toxic</th>\n",
       "      <th>lemm_text</th>\n",
       "    </tr>\n",
       "  </thead>\n",
       "  <tbody>\n",
       "    <tr>\n",
       "      <th>0</th>\n",
       "      <td>Explanation\\nWhy the edits made under my usern...</td>\n",
       "      <td>0</td>\n",
       "      <td>explanation why the edits made under my userna...</td>\n",
       "    </tr>\n",
       "    <tr>\n",
       "      <th>1</th>\n",
       "      <td>D'aww! He matches this background colour I'm s...</td>\n",
       "      <td>0</td>\n",
       "      <td>d aww he matches this background colour i m se...</td>\n",
       "    </tr>\n",
       "    <tr>\n",
       "      <th>2</th>\n",
       "      <td>Hey man, I'm really not trying to edit war. It...</td>\n",
       "      <td>0</td>\n",
       "      <td>hey man i m really not trying to edit war it s...</td>\n",
       "    </tr>\n",
       "    <tr>\n",
       "      <th>3</th>\n",
       "      <td>\"\\nMore\\nI can't make any real suggestions on ...</td>\n",
       "      <td>0</td>\n",
       "      <td>more i can t make any real suggestions on impr...</td>\n",
       "    </tr>\n",
       "    <tr>\n",
       "      <th>4</th>\n",
       "      <td>You, sir, are my hero. Any chance you remember...</td>\n",
       "      <td>0</td>\n",
       "      <td>you sir are my hero any chance you remember wh...</td>\n",
       "    </tr>\n",
       "  </tbody>\n",
       "</table>\n",
       "</div>"
      ],
      "text/plain": [
       "                                                text  toxic  \\\n",
       "0  Explanation\\nWhy the edits made under my usern...      0   \n",
       "1  D'aww! He matches this background colour I'm s...      0   \n",
       "2  Hey man, I'm really not trying to edit war. It...      0   \n",
       "3  \"\\nMore\\nI can't make any real suggestions on ...      0   \n",
       "4  You, sir, are my hero. Any chance you remember...      0   \n",
       "\n",
       "                                           lemm_text  \n",
       "0  explanation why the edits made under my userna...  \n",
       "1  d aww he matches this background colour i m se...  \n",
       "2  hey man i m really not trying to edit war it s...  \n",
       "3  more i can t make any real suggestions on impr...  \n",
       "4  you sir are my hero any chance you remember wh...  "
      ]
     },
     "metadata": {},
     "output_type": "display_data"
    },
    {
     "name": "stdout",
     "output_type": "stream",
     "text": [
      "<class 'pandas.core.frame.DataFrame'>\n",
      "Int64Index: 159571 entries, 0 to 159570\n",
      "Data columns (total 3 columns):\n",
      " #   Column     Non-Null Count   Dtype \n",
      "---  ------     --------------   ----- \n",
      " 0   text       159571 non-null  object\n",
      " 1   toxic      159571 non-null  int64 \n",
      " 2   lemm_text  159571 non-null  object\n",
      "dtypes: int64(1), object(2)\n",
      "memory usage: 4.9+ MB\n"
     ]
    }
   ],
   "source": [
    "# соединяем в общую таблицу\n",
    "toxic_comments['lemm_text'] = toxic_comments_corpus[0]\n",
    "display(toxic_comments.head())\n",
    "toxic_comments.info()"
   ]
  },
  {
   "cell_type": "markdown",
   "metadata": {},
   "source": [
    "<div class=\"alert alert-info\">\n",
    "    \n",
    "<font size=\"3\"><b> Провели очистку и лемматизацию текста.\n",
    "\n",
    "</b></font>\n",
    "    \n",
    "</div>"
   ]
  },
  {
   "cell_type": "markdown",
   "metadata": {},
   "source": [
    "## Обучение"
   ]
  },
  {
   "cell_type": "markdown",
   "metadata": {},
   "source": [
    "### Баланс классов"
   ]
  },
  {
   "cell_type": "code",
   "execution_count": 5,
   "metadata": {},
   "outputs": [
    {
     "name": "stdout",
     "output_type": "stream",
     "text": [
      "0    143346\n",
      "1     16225\n",
      "Name: toxic, dtype: int64\n"
     ]
    }
   ],
   "source": [
    "print(toxic_comments['toxic'].value_counts())"
   ]
  },
  {
   "cell_type": "markdown",
   "metadata": {},
   "source": [
    "<div class=\"alert alert-info\">\n",
    "    \n",
    "<font size=\"3\"><b> С положительным значением почти в 10 раз меньше. Дисбаланс. Укажен в гиперпараметрах моделей баланс классов.\n",
    "\n",
    "</b></font>\n",
    "    \n",
    "</div>"
   ]
  },
  {
   "cell_type": "markdown",
   "metadata": {},
   "source": [
    "### Признаки и целевой признак"
   ]
  },
  {
   "cell_type": "code",
   "execution_count": 6,
   "metadata": {},
   "outputs": [],
   "source": [
    "x = toxic_comments['lemm_text']\n",
    "y = toxic_comments['toxic']\n",
    "\n",
    "x_train, x_test, y_train, y_test = train_test_split(\n",
    "    x, y, test_size=0.25, random_state=12345, stratify = y)"
   ]
  },
  {
   "cell_type": "markdown",
   "metadata": {},
   "source": [
    "### Стоп-слова и векторизация"
   ]
  },
  {
   "cell_type": "code",
   "execution_count": 7,
   "metadata": {},
   "outputs": [
    {
     "name": "stderr",
     "output_type": "stream",
     "text": [
      "[nltk_data] Downloading package stopwords to\n",
      "[nltk_data]     C:\\Users\\Vladimir.DESKTOP-\n",
      "[nltk_data]     SUBKJ68\\AppData\\Roaming\\nltk_data...\n",
      "[nltk_data]   Package stopwords is already up-to-date!\n"
     ]
    }
   ],
   "source": [
    "# загружаем стоп-слова\n",
    "nltk.download('stopwords')\n",
    "stopwords = set(stopwords.words('english'))\n",
    "\n",
    "# TFIDF\n",
    "count_tf_idf = TfidfVectorizer(stop_words=stopwords)\n",
    "                \n",
    "# векторизация\n",
    "x_train_tf_idf = count_tf_idf.fit_transform(x_train)\n",
    "x_test_tf_idf = count_tf_idf.transform(x_test)"
   ]
  },
  {
   "cell_type": "code",
   "execution_count": 8,
   "metadata": {},
   "outputs": [
    {
     "name": "stdout",
     "output_type": "stream",
     "text": [
      "(119678, 142100)\n",
      "(39893, 142100)\n",
      "(119678,)\n",
      "(39893,)\n"
     ]
    }
   ],
   "source": [
    "print(x_train_tf_idf.shape)\n",
    "print(x_test_tf_idf.shape)\n",
    "print(y_train.shape)\n",
    "print(y_test.shape)"
   ]
  },
  {
   "cell_type": "markdown",
   "metadata": {},
   "source": [
    "<div class=\"alert alert-info\">\n",
    "    \n",
    "<font size=\"3\"><b> Определили признаки, разделили выборку на обучающую и тестовую. Провели векторизацию.\n",
    "\n",
    "</b></font>\n",
    "    \n",
    "</div>"
   ]
  },
  {
   "cell_type": "markdown",
   "metadata": {},
   "source": [
    "### Логистическая регрессия"
   ]
  },
  {
   "cell_type": "code",
   "execution_count": 9,
   "metadata": {},
   "outputs": [
    {
     "name": "stdout",
     "output_type": "stream",
     "text": [
      "Среднее качество Логистической регрессии на кросс-валидации: 0.7476875732454532\n",
      "Wall time: 43.4 s\n"
     ]
    }
   ],
   "source": [
    "%%time\n",
    "\n",
    "# модель\n",
    "LR = LogisticRegression(fit_intercept=True, \n",
    "                      n_jobs=None,\n",
    "                      class_weight='balanced',\n",
    "                      solver='lbfgs',  \n",
    "                      random_state=12345\n",
    "                     )\n",
    "# словарь\n",
    "hyperparams = {'C': [0.1, 1, 10]}\n",
    "\n",
    "# обучение\n",
    "LR_grid = GridSearchCV(LR, hyperparams, scoring='f1', cv=3)\n",
    "LR_grid.fit(x_train_tf_idf, y_train)\n",
    "\n",
    "# F1 с помощью кросс-валидации\n",
    "LR.fit(x_train_tf_idf, y_train)\n",
    "LR_cv_score = cross_val_score(LR ,x_train_tf_idf, y_train, scoring='f1', cv=3).mean()\n",
    "print('Среднее качество Логистической регрессии на кросс-валидации:', LR_cv_score)"
   ]
  },
  {
   "cell_type": "code",
   "execution_count": 10,
   "metadata": {},
   "outputs": [
    {
     "name": "stdout",
     "output_type": "stream",
     "text": [
      "Лучшее значение гиперпараметров:  {'C': 10}\n",
      "Лучшее значение F1:  0.9220527256818959\n",
      "Wall time: 59.8 ms\n"
     ]
    }
   ],
   "source": [
    "%%time\n",
    "\n",
    "LR_params = LR_grid.best_params_\n",
    "LR_score = LR_grid.score(x_train_tf_idf, y_train)\n",
    "print('Лучшее значение гиперпараметров: ', LR_params)\n",
    "print('Лучшее значение F1: ', LR_score)"
   ]
  },
  {
   "cell_type": "code",
   "execution_count": 11,
   "metadata": {},
   "outputs": [
    {
     "name": "stdout",
     "output_type": "stream",
     "text": [
      "Метрика F1:  0.777\n",
      "Wall time: 4.44 s\n"
     ]
    }
   ],
   "source": [
    "%%time\n",
    "# проверка на тестовой\n",
    "LR_test_model = LogisticRegression(fit_intercept=True,\n",
    "                                class_weight='balanced',\n",
    "                                random_state=12345,\n",
    "                                solver='lbfgs',\n",
    "                                C=LR_params['C']\n",
    "                               )\n",
    "\n",
    "LR_test_model.fit(x_train_tf_idf, y_train)\n",
    "LR_test_model_predict = LR_test_model.predict(x_test_tf_idf)\n",
    "\n",
    "LR_F1 = round(f1_score(y_test, LR_test_model_predict), 3) \n",
    "print('Метрика F1: ', LR_F1)"
   ]
  },
  {
   "cell_type": "markdown",
   "metadata": {},
   "source": [
    "### Случайный лес"
   ]
  },
  {
   "cell_type": "code",
   "execution_count": 12,
   "metadata": {},
   "outputs": [
    {
     "name": "stdout",
     "output_type": "stream",
     "text": [
      "Среднее качество Случайного леса на кросс-валидации: 0.6270805394280781\n",
      "Wall time: 27min 13s\n"
     ]
    }
   ],
   "source": [
    "%%time\n",
    "\n",
    "# модель\n",
    "RFC = RandomForestClassifier(class_weight='balanced', n_jobs=-1)\n",
    "#словарь \n",
    "RFC_parametrs = {'n_estimators': range(15, 25, 5),\n",
    "                     'max_depth': range(1, 8, 2),\n",
    "                     'min_samples_leaf': range(1, 5),\n",
    "                     'min_samples_split': range(2, 8, 2)}\n",
    "\n",
    "RFC_grid = GridSearchCV(RFC, RFC_parametrs, scoring='f1', cv=3)\n",
    "RFC_grid.fit(x_train_tf_idf, y_train)\n",
    "\n",
    "# F1 с помощью кросс-валидации\n",
    "RFC.fit(x_train_tf_idf, y_train)\n",
    "RFC_cv_score = cross_val_score(RFC, x_train_tf_idf, y_train, scoring='f1', cv=3).mean()\n",
    "print('Среднее качество Случайного леса на кросс-валидации:', RFC_cv_score)\n"
   ]
  },
  {
   "cell_type": "code",
   "execution_count": 13,
   "metadata": {},
   "outputs": [
    {
     "name": "stdout",
     "output_type": "stream",
     "text": [
      "Лучшее значение гиперпараметров:  {'max_depth': 3, 'min_samples_leaf': 3, 'min_samples_split': 6, 'n_estimators': 20}\n",
      "Лучшее значение F1:  0.2605310936663227\n",
      "Wall time: 358 ms\n"
     ]
    }
   ],
   "source": [
    "%%time\n",
    "\n",
    "RFC_params = RFC_grid.best_params_\n",
    "RFC_score = RFC_grid.score(x_train_tf_idf, y_train)\n",
    "print('Лучшее значение гиперпараметров: ', RFC_params)\n",
    "print('Лучшее значение F1: ', RFC_score) "
   ]
  },
  {
   "cell_type": "code",
   "execution_count": 14,
   "metadata": {},
   "outputs": [
    {
     "name": "stdout",
     "output_type": "stream",
     "text": [
      "Метрика F1:  0.447\n",
      "Wall time: 395 ms\n"
     ]
    }
   ],
   "source": [
    "%%time\n",
    "# проверка на тестовой\n",
    "RFC_test_model = RandomForestClassifier(random_state=42, n_jobs=-1, class_weight='balanced',\n",
    "                                     max_depth=RFC_params['max_depth'],\n",
    "                                     min_samples_leaf = RFC_params['min_samples_leaf'],\n",
    "                                     min_samples_split = RFC_params['min_samples_split'],\n",
    "                                     n_estimators = RFC_params['n_estimators'])\n",
    "\n",
    "RFC_test_model.fit(x_train_tf_idf, y_train)\n",
    "RFC_test_model_predict = RFC_test_model.predict(x_test_tf_idf)\n",
    "\n",
    "RFC_F1 = round(f1_score(y_test, RFC_test_model_predict), 3) \n",
    "print('Метрика F1: ', RFC_F1)"
   ]
  },
  {
   "cell_type": "markdown",
   "metadata": {},
   "source": [
    "### CatBoost"
   ]
  },
  {
   "cell_type": "code",
   "execution_count": 15,
   "metadata": {},
   "outputs": [
    {
     "name": "stdout",
     "output_type": "stream",
     "text": [
      "0:\tlearn: 0.6847399\ttotal: 923ms\tremaining: 3m 3s\n",
      "10:\tlearn: 0.6294951\ttotal: 6.05s\tremaining: 1m 43s\n",
      "20:\tlearn: 0.6018560\ttotal: 11.1s\tremaining: 1m 34s\n",
      "30:\tlearn: 0.5837055\ttotal: 16.3s\tremaining: 1m 28s\n",
      "40:\tlearn: 0.5686616\ttotal: 21.3s\tremaining: 1m 22s\n",
      "50:\tlearn: 0.5563110\ttotal: 26.2s\tremaining: 1m 16s\n",
      "60:\tlearn: 0.5454715\ttotal: 31s\tremaining: 1m 10s\n",
      "70:\tlearn: 0.5371627\ttotal: 35.9s\tremaining: 1m 5s\n",
      "80:\tlearn: 0.5286974\ttotal: 40.7s\tremaining: 59.8s\n",
      "90:\tlearn: 0.5211454\ttotal: 45.6s\tremaining: 54.6s\n",
      "100:\tlearn: 0.5146935\ttotal: 50.4s\tremaining: 49.4s\n",
      "110:\tlearn: 0.5092538\ttotal: 55.2s\tremaining: 44.3s\n",
      "120:\tlearn: 0.5036169\ttotal: 1m\tremaining: 39.2s\n",
      "130:\tlearn: 0.4973420\ttotal: 1m 4s\tremaining: 34.2s\n",
      "140:\tlearn: 0.4917916\ttotal: 1m 9s\tremaining: 29.1s\n",
      "150:\tlearn: 0.4870895\ttotal: 1m 14s\tremaining: 24.2s\n",
      "160:\tlearn: 0.4821851\ttotal: 1m 19s\tremaining: 19.2s\n",
      "170:\tlearn: 0.4784299\ttotal: 1m 24s\tremaining: 14.3s\n",
      "180:\tlearn: 0.4741990\ttotal: 1m 28s\tremaining: 9.34s\n",
      "190:\tlearn: 0.4705013\ttotal: 1m 33s\tremaining: 4.42s\n",
      "199:\tlearn: 0.4671682\ttotal: 1m 38s\tremaining: 0us\n",
      "0:\tlearn: 0.6850243\ttotal: 538ms\tremaining: 1m 46s\n",
      "10:\tlearn: 0.6271760\ttotal: 5.54s\tremaining: 1m 35s\n",
      "20:\tlearn: 0.6005337\ttotal: 10.6s\tremaining: 1m 30s\n",
      "30:\tlearn: 0.5825560\ttotal: 15.6s\tremaining: 1m 24s\n",
      "40:\tlearn: 0.5679019\ttotal: 20.6s\tremaining: 1m 19s\n",
      "50:\tlearn: 0.5572259\ttotal: 25.5s\tremaining: 1m 14s\n",
      "60:\tlearn: 0.5473201\ttotal: 30.5s\tremaining: 1m 9s\n",
      "70:\tlearn: 0.5386578\ttotal: 35.4s\tremaining: 1m 4s\n",
      "80:\tlearn: 0.5313150\ttotal: 40.4s\tremaining: 59.4s\n",
      "90:\tlearn: 0.5236292\ttotal: 45.3s\tremaining: 54.3s\n",
      "100:\tlearn: 0.5164816\ttotal: 50.2s\tremaining: 49.2s\n",
      "110:\tlearn: 0.5106808\ttotal: 55.1s\tremaining: 44.2s\n",
      "120:\tlearn: 0.5051850\ttotal: 60s\tremaining: 39.2s\n",
      "130:\tlearn: 0.4998201\ttotal: 1m 4s\tremaining: 34.2s\n",
      "140:\tlearn: 0.4946742\ttotal: 1m 9s\tremaining: 29.2s\n",
      "150:\tlearn: 0.4900661\ttotal: 1m 14s\tremaining: 24.2s\n",
      "160:\tlearn: 0.4861436\ttotal: 1m 19s\tremaining: 19.3s\n",
      "170:\tlearn: 0.4820800\ttotal: 1m 24s\tremaining: 14.3s\n",
      "180:\tlearn: 0.4774193\ttotal: 1m 29s\tremaining: 9.37s\n",
      "190:\tlearn: 0.4731688\ttotal: 1m 34s\tremaining: 4.43s\n",
      "199:\tlearn: 0.4692970\ttotal: 1m 38s\tremaining: 0us\n",
      "0:\tlearn: 0.6844872\ttotal: 539ms\tremaining: 1m 47s\n",
      "10:\tlearn: 0.6288786\ttotal: 5.53s\tremaining: 1m 35s\n",
      "20:\tlearn: 0.6011882\ttotal: 10.5s\tremaining: 1m 29s\n",
      "30:\tlearn: 0.5812379\ttotal: 15.5s\tremaining: 1m 24s\n",
      "40:\tlearn: 0.5665422\ttotal: 20.4s\tremaining: 1m 19s\n",
      "50:\tlearn: 0.5546778\ttotal: 25.4s\tremaining: 1m 14s\n",
      "60:\tlearn: 0.5436316\ttotal: 30.3s\tremaining: 1m 8s\n",
      "70:\tlearn: 0.5346737\ttotal: 35.2s\tremaining: 1m 3s\n",
      "80:\tlearn: 0.5255444\ttotal: 40.1s\tremaining: 58.9s\n",
      "90:\tlearn: 0.5195009\ttotal: 45s\tremaining: 53.8s\n",
      "100:\tlearn: 0.5135148\ttotal: 49.8s\tremaining: 48.9s\n",
      "110:\tlearn: 0.5074945\ttotal: 54.8s\tremaining: 43.9s\n",
      "120:\tlearn: 0.5016748\ttotal: 59.6s\tremaining: 38.9s\n",
      "130:\tlearn: 0.4961135\ttotal: 1m 4s\tremaining: 34s\n",
      "140:\tlearn: 0.4910076\ttotal: 1m 9s\tremaining: 29.1s\n",
      "150:\tlearn: 0.4862478\ttotal: 1m 14s\tremaining: 24.1s\n",
      "160:\tlearn: 0.4823500\ttotal: 1m 19s\tremaining: 19.2s\n",
      "170:\tlearn: 0.4781695\ttotal: 1m 24s\tremaining: 14.3s\n",
      "180:\tlearn: 0.4740306\ttotal: 1m 28s\tremaining: 9.34s\n",
      "190:\tlearn: 0.4704332\ttotal: 1m 33s\tremaining: 4.42s\n",
      "199:\tlearn: 0.4678416\ttotal: 1m 38s\tremaining: 0us\n",
      "0:\tlearn: 0.6110485\ttotal: 517ms\tremaining: 1m 42s\n",
      "10:\tlearn: 0.4682415\ttotal: 5.35s\tremaining: 1m 31s\n",
      "20:\tlearn: 0.4234517\ttotal: 10.2s\tremaining: 1m 26s\n",
      "30:\tlearn: 0.3975515\ttotal: 14.9s\tremaining: 1m 21s\n",
      "40:\tlearn: 0.3777794\ttotal: 19.7s\tremaining: 1m 16s\n",
      "50:\tlearn: 0.3565132\ttotal: 24.4s\tremaining: 1m 11s\n",
      "60:\tlearn: 0.3410506\ttotal: 29.1s\tremaining: 1m 6s\n",
      "70:\tlearn: 0.3280026\ttotal: 33.8s\tremaining: 1m 1s\n",
      "80:\tlearn: 0.3179310\ttotal: 38.5s\tremaining: 56.6s\n",
      "90:\tlearn: 0.3075566\ttotal: 43.2s\tremaining: 51.8s\n",
      "100:\tlearn: 0.2997927\ttotal: 47.9s\tremaining: 46.9s\n",
      "110:\tlearn: 0.2918736\ttotal: 52.5s\tremaining: 42.1s\n",
      "120:\tlearn: 0.2849841\ttotal: 57.2s\tremaining: 37.4s\n",
      "130:\tlearn: 0.2789102\ttotal: 1m 1s\tremaining: 32.6s\n",
      "140:\tlearn: 0.2713809\ttotal: 1m 6s\tremaining: 27.9s\n",
      "150:\tlearn: 0.2661947\ttotal: 1m 11s\tremaining: 23.1s\n",
      "160:\tlearn: 0.2611918\ttotal: 1m 15s\tremaining: 18.4s\n",
      "170:\tlearn: 0.2564073\ttotal: 1m 20s\tremaining: 13.7s\n",
      "180:\tlearn: 0.2514164\ttotal: 1m 25s\tremaining: 8.95s\n",
      "190:\tlearn: 0.2472680\ttotal: 1m 29s\tremaining: 4.24s\n",
      "199:\tlearn: 0.2437603\ttotal: 1m 34s\tremaining: 0us\n",
      "0:\tlearn: 0.6126239\ttotal: 545ms\tremaining: 1m 48s\n",
      "10:\tlearn: 0.4773649\ttotal: 5.49s\tremaining: 1m 34s\n",
      "20:\tlearn: 0.4278613\ttotal: 10.4s\tremaining: 1m 28s\n",
      "30:\tlearn: 0.4036714\ttotal: 15.3s\tremaining: 1m 23s\n",
      "40:\tlearn: 0.3806202\ttotal: 20.1s\tremaining: 1m 17s\n",
      "50:\tlearn: 0.3610579\ttotal: 24.9s\tremaining: 1m 12s\n",
      "60:\tlearn: 0.3439883\ttotal: 29.7s\tremaining: 1m 7s\n",
      "70:\tlearn: 0.3306861\ttotal: 34.5s\tremaining: 1m 2s\n",
      "80:\tlearn: 0.3203235\ttotal: 39.3s\tremaining: 57.7s\n",
      "90:\tlearn: 0.3095095\ttotal: 44.1s\tremaining: 52.8s\n",
      "100:\tlearn: 0.2997780\ttotal: 48.9s\tremaining: 48s\n",
      "110:\tlearn: 0.2914997\ttotal: 53.7s\tremaining: 43.1s\n",
      "120:\tlearn: 0.2854916\ttotal: 58.5s\tremaining: 38.2s\n",
      "130:\tlearn: 0.2784412\ttotal: 1m 3s\tremaining: 33.4s\n",
      "140:\tlearn: 0.2721361\ttotal: 1m 8s\tremaining: 28.6s\n",
      "150:\tlearn: 0.2665474\ttotal: 1m 13s\tremaining: 23.9s\n",
      "160:\tlearn: 0.2609823\ttotal: 1m 18s\tremaining: 19s\n",
      "170:\tlearn: 0.2568970\ttotal: 1m 23s\tremaining: 14.1s\n",
      "180:\tlearn: 0.2523295\ttotal: 1m 27s\tremaining: 9.23s\n",
      "190:\tlearn: 0.2482274\ttotal: 1m 32s\tremaining: 4.37s\n",
      "199:\tlearn: 0.2450525\ttotal: 1m 37s\tremaining: 0us\n",
      "0:\tlearn: 0.6077408\ttotal: 522ms\tremaining: 1m 43s\n",
      "10:\tlearn: 0.4664449\ttotal: 5.37s\tremaining: 1m 32s\n",
      "20:\tlearn: 0.4262109\ttotal: 10.1s\tremaining: 1m 26s\n",
      "30:\tlearn: 0.4045827\ttotal: 14.9s\tremaining: 1m 21s\n",
      "40:\tlearn: 0.3809552\ttotal: 19.7s\tremaining: 1m 16s\n",
      "50:\tlearn: 0.3588073\ttotal: 24.5s\tremaining: 1m 11s\n",
      "60:\tlearn: 0.3440679\ttotal: 29.2s\tremaining: 1m 6s\n",
      "70:\tlearn: 0.3320139\ttotal: 33.9s\tremaining: 1m 1s\n",
      "80:\tlearn: 0.3209786\ttotal: 38.6s\tremaining: 56.7s\n",
      "90:\tlearn: 0.3116381\ttotal: 43.3s\tremaining: 51.9s\n",
      "100:\tlearn: 0.3035358\ttotal: 48.2s\tremaining: 47.2s\n",
      "110:\tlearn: 0.2961925\ttotal: 52.9s\tremaining: 42.5s\n",
      "120:\tlearn: 0.2890791\ttotal: 57.7s\tremaining: 37.6s\n",
      "130:\tlearn: 0.2833907\ttotal: 1m 2s\tremaining: 32.8s\n",
      "140:\tlearn: 0.2776173\ttotal: 1m 7s\tremaining: 28.1s\n",
      "150:\tlearn: 0.2722493\ttotal: 1m 11s\tremaining: 23.3s\n",
      "160:\tlearn: 0.2669073\ttotal: 1m 16s\tremaining: 18.5s\n",
      "170:\tlearn: 0.2624145\ttotal: 1m 21s\tremaining: 13.8s\n",
      "180:\tlearn: 0.2574564\ttotal: 1m 25s\tremaining: 9.01s\n",
      "190:\tlearn: 0.2523719\ttotal: 1m 30s\tremaining: 4.27s\n",
      "199:\tlearn: 0.2484117\ttotal: 1m 34s\tremaining: 0us\n",
      "0:\tlearn: 0.6838250\ttotal: 1.11s\tremaining: 3m 41s\n",
      "10:\tlearn: 0.6163875\ttotal: 11.7s\tremaining: 3m 20s\n",
      "20:\tlearn: 0.5833982\ttotal: 22.2s\tremaining: 3m 9s\n",
      "30:\tlearn: 0.5622653\ttotal: 32.8s\tremaining: 2m 58s\n",
      "40:\tlearn: 0.5462723\ttotal: 43.3s\tremaining: 2m 47s\n",
      "50:\tlearn: 0.5317589\ttotal: 53.8s\tremaining: 2m 37s\n",
      "60:\tlearn: 0.5214605\ttotal: 1m 4s\tremaining: 2m 26s\n",
      "70:\tlearn: 0.5120748\ttotal: 1m 14s\tremaining: 2m 15s\n",
      "80:\tlearn: 0.5033893\ttotal: 1m 24s\tremaining: 2m 4s\n",
      "90:\tlearn: 0.4954685\ttotal: 1m 35s\tremaining: 1m 54s\n",
      "100:\tlearn: 0.4889577\ttotal: 1m 45s\tremaining: 1m 43s\n",
      "110:\tlearn: 0.4821482\ttotal: 1m 56s\tremaining: 1m 33s\n",
      "120:\tlearn: 0.4761622\ttotal: 2m 6s\tremaining: 1m 22s\n",
      "130:\tlearn: 0.4706570\ttotal: 2m 16s\tremaining: 1m 12s\n",
      "140:\tlearn: 0.4654399\ttotal: 2m 27s\tremaining: 1m 1s\n",
      "150:\tlearn: 0.4606107\ttotal: 2m 37s\tremaining: 51.1s\n",
      "160:\tlearn: 0.4568096\ttotal: 2m 47s\tremaining: 40.6s\n",
      "170:\tlearn: 0.4524338\ttotal: 2m 57s\tremaining: 30.2s\n",
      "180:\tlearn: 0.4484439\ttotal: 3m 8s\tremaining: 19.8s\n",
      "190:\tlearn: 0.4445208\ttotal: 3m 18s\tremaining: 9.36s\n",
      "199:\tlearn: 0.4417134\ttotal: 3m 27s\tremaining: 0us\n",
      "0:\tlearn: 0.6839896\ttotal: 1.13s\tremaining: 3m 45s\n",
      "10:\tlearn: 0.6186000\ttotal: 11.8s\tremaining: 3m 22s\n",
      "20:\tlearn: 0.5862546\ttotal: 22.5s\tremaining: 3m 11s\n",
      "30:\tlearn: 0.5637721\ttotal: 33.1s\tremaining: 3m\n",
      "40:\tlearn: 0.5475821\ttotal: 43.7s\tremaining: 2m 49s\n",
      "50:\tlearn: 0.5342253\ttotal: 54.2s\tremaining: 2m 38s\n",
      "60:\tlearn: 0.5234025\ttotal: 1m 4s\tremaining: 2m 27s\n",
      "70:\tlearn: 0.5136349\ttotal: 1m 15s\tremaining: 2m 16s\n",
      "80:\tlearn: 0.5054769\ttotal: 1m 25s\tremaining: 2m 6s\n",
      "90:\tlearn: 0.4970031\ttotal: 1m 36s\tremaining: 1m 55s\n",
      "100:\tlearn: 0.4893391\ttotal: 1m 46s\tremaining: 1m 44s\n",
      "110:\tlearn: 0.4825849\ttotal: 1m 57s\tremaining: 1m 34s\n",
      "120:\tlearn: 0.4769913\ttotal: 2m 7s\tremaining: 1m 23s\n",
      "130:\tlearn: 0.4707434\ttotal: 2m 18s\tremaining: 1m 12s\n",
      "140:\tlearn: 0.4661889\ttotal: 2m 28s\tremaining: 1m 2s\n",
      "150:\tlearn: 0.4618410\ttotal: 2m 39s\tremaining: 51.6s\n",
      "160:\tlearn: 0.4574349\ttotal: 2m 49s\tremaining: 41.1s\n",
      "170:\tlearn: 0.4526031\ttotal: 2m 59s\tremaining: 30.5s\n",
      "180:\tlearn: 0.4486916\ttotal: 3m 10s\tremaining: 20s\n",
      "190:\tlearn: 0.4449586\ttotal: 3m 20s\tremaining: 9.47s\n",
      "199:\tlearn: 0.4417454\ttotal: 3m 30s\tremaining: 0us\n",
      "0:\tlearn: 0.6830347\ttotal: 1.12s\tremaining: 3m 42s\n",
      "10:\tlearn: 0.6162294\ttotal: 11.7s\tremaining: 3m 20s\n",
      "20:\tlearn: 0.5817976\ttotal: 22.3s\tremaining: 3m 9s\n",
      "30:\tlearn: 0.5620629\ttotal: 32.7s\tremaining: 2m 58s\n",
      "40:\tlearn: 0.5469866\ttotal: 43.3s\tremaining: 2m 47s\n",
      "50:\tlearn: 0.5319765\ttotal: 53.7s\tremaining: 2m 36s\n",
      "60:\tlearn: 0.5201459\ttotal: 1m 4s\tremaining: 2m 26s\n",
      "70:\tlearn: 0.5106761\ttotal: 1m 14s\tremaining: 2m 15s\n",
      "80:\tlearn: 0.5027884\ttotal: 1m 24s\tremaining: 2m 4s\n",
      "90:\tlearn: 0.4949017\ttotal: 1m 35s\tremaining: 1m 54s\n",
      "100:\tlearn: 0.4885050\ttotal: 1m 45s\tremaining: 1m 43s\n",
      "110:\tlearn: 0.4820089\ttotal: 1m 56s\tremaining: 1m 33s\n",
      "120:\tlearn: 0.4770149\ttotal: 2m 6s\tremaining: 1m 22s\n",
      "130:\tlearn: 0.4719744\ttotal: 2m 16s\tremaining: 1m 12s\n",
      "140:\tlearn: 0.4663519\ttotal: 2m 27s\tremaining: 1m 1s\n",
      "150:\tlearn: 0.4606072\ttotal: 2m 37s\tremaining: 51.1s\n",
      "160:\tlearn: 0.4564377\ttotal: 2m 47s\tremaining: 40.7s\n",
      "170:\tlearn: 0.4521137\ttotal: 2m 58s\tremaining: 30.2s\n",
      "180:\tlearn: 0.4481551\ttotal: 3m 8s\tremaining: 19.8s\n",
      "190:\tlearn: 0.4445106\ttotal: 3m 18s\tremaining: 9.36s\n",
      "199:\tlearn: 0.4412214\ttotal: 3m 28s\tremaining: 0us\n",
      "0:\tlearn: 0.5999381\ttotal: 1.1s\tremaining: 3m 38s\n",
      "10:\tlearn: 0.4409570\ttotal: 11.4s\tremaining: 3m 16s\n",
      "20:\tlearn: 0.4004621\ttotal: 21.7s\tremaining: 3m 4s\n",
      "30:\tlearn: 0.3757605\ttotal: 31.8s\tremaining: 2m 53s\n",
      "40:\tlearn: 0.3514574\ttotal: 42s\tremaining: 2m 42s\n",
      "50:\tlearn: 0.3287547\ttotal: 52.2s\tremaining: 2m 32s\n",
      "60:\tlearn: 0.3114660\ttotal: 1m 2s\tremaining: 2m 22s\n",
      "70:\tlearn: 0.2993189\ttotal: 1m 12s\tremaining: 2m 11s\n",
      "80:\tlearn: 0.2863507\ttotal: 1m 22s\tremaining: 2m 1s\n",
      "90:\tlearn: 0.2755696\ttotal: 1m 32s\tremaining: 1m 51s\n",
      "100:\tlearn: 0.2662644\ttotal: 1m 43s\tremaining: 1m 40s\n",
      "110:\tlearn: 0.2584607\ttotal: 1m 53s\tremaining: 1m 30s\n",
      "120:\tlearn: 0.2510282\ttotal: 2m 3s\tremaining: 1m 20s\n",
      "130:\tlearn: 0.2450698\ttotal: 2m 13s\tremaining: 1m 10s\n",
      "140:\tlearn: 0.2392642\ttotal: 2m 23s\tremaining: 1m\n",
      "150:\tlearn: 0.2330445\ttotal: 2m 34s\tremaining: 50s\n",
      "160:\tlearn: 0.2277660\ttotal: 2m 44s\tremaining: 39.8s\n",
      "170:\tlearn: 0.2231436\ttotal: 2m 54s\tremaining: 29.5s\n",
      "180:\tlearn: 0.2184485\ttotal: 3m 4s\tremaining: 19.3s\n",
      "190:\tlearn: 0.2138777\ttotal: 3m 14s\tremaining: 9.16s\n",
      "199:\tlearn: 0.2096945\ttotal: 3m 23s\tremaining: 0us\n",
      "0:\tlearn: 0.6004741\ttotal: 1.14s\tremaining: 3m 47s\n",
      "10:\tlearn: 0.4496461\ttotal: 11.7s\tremaining: 3m 20s\n",
      "20:\tlearn: 0.4058262\ttotal: 22.2s\tremaining: 3m 8s\n",
      "30:\tlearn: 0.3779119\ttotal: 32.6s\tremaining: 2m 57s\n",
      "40:\tlearn: 0.3550306\ttotal: 42.9s\tremaining: 2m 46s\n",
      "50:\tlearn: 0.3317914\ttotal: 53.2s\tremaining: 2m 35s\n",
      "60:\tlearn: 0.3144540\ttotal: 1m 3s\tremaining: 2m 24s\n",
      "70:\tlearn: 0.3009168\ttotal: 1m 13s\tremaining: 2m 14s\n",
      "80:\tlearn: 0.2880705\ttotal: 1m 24s\tremaining: 2m 3s\n",
      "90:\tlearn: 0.2784744\ttotal: 1m 34s\tremaining: 1m 53s\n",
      "100:\tlearn: 0.2692591\ttotal: 1m 44s\tremaining: 1m 42s\n",
      "110:\tlearn: 0.2605208\ttotal: 1m 55s\tremaining: 1m 32s\n",
      "120:\tlearn: 0.2538195\ttotal: 2m 5s\tremaining: 1m 21s\n",
      "130:\tlearn: 0.2454133\ttotal: 2m 15s\tremaining: 1m 11s\n",
      "140:\tlearn: 0.2392498\ttotal: 2m 25s\tremaining: 1m 1s\n",
      "150:\tlearn: 0.2343154\ttotal: 2m 36s\tremaining: 50.7s\n",
      "160:\tlearn: 0.2295565\ttotal: 2m 46s\tremaining: 40.3s\n",
      "170:\tlearn: 0.2244296\ttotal: 2m 56s\tremaining: 30s\n",
      "180:\tlearn: 0.2196528\ttotal: 3m 6s\tremaining: 19.6s\n",
      "190:\tlearn: 0.2146227\ttotal: 3m 17s\tremaining: 9.28s\n",
      "199:\tlearn: 0.2110461\ttotal: 3m 26s\tremaining: 0us\n",
      "0:\tlearn: 0.5899891\ttotal: 1.12s\tremaining: 3m 43s\n",
      "10:\tlearn: 0.4456591\ttotal: 11.5s\tremaining: 3m 17s\n",
      "20:\tlearn: 0.4032910\ttotal: 21.7s\tremaining: 3m 5s\n",
      "30:\tlearn: 0.3786537\ttotal: 32s\tremaining: 2m 54s\n",
      "40:\tlearn: 0.3562424\ttotal: 42.2s\tremaining: 2m 43s\n",
      "50:\tlearn: 0.3336285\ttotal: 52.3s\tremaining: 2m 32s\n",
      "60:\tlearn: 0.3177091\ttotal: 1m 2s\tremaining: 2m 22s\n",
      "70:\tlearn: 0.3049971\ttotal: 1m 12s\tremaining: 2m 12s\n",
      "80:\tlearn: 0.2931102\ttotal: 1m 22s\tremaining: 2m 1s\n",
      "90:\tlearn: 0.2820184\ttotal: 1m 33s\tremaining: 1m 51s\n",
      "100:\tlearn: 0.2737162\ttotal: 1m 43s\tremaining: 1m 41s\n",
      "110:\tlearn: 0.2659319\ttotal: 1m 53s\tremaining: 1m 30s\n",
      "120:\tlearn: 0.2585124\ttotal: 2m 3s\tremaining: 1m 20s\n",
      "130:\tlearn: 0.2507708\ttotal: 2m 13s\tremaining: 1m 10s\n",
      "140:\tlearn: 0.2446239\ttotal: 2m 23s\tremaining: 1m\n",
      "150:\tlearn: 0.2392330\ttotal: 2m 33s\tremaining: 49.9s\n",
      "160:\tlearn: 0.2330396\ttotal: 2m 43s\tremaining: 39.7s\n",
      "170:\tlearn: 0.2276984\ttotal: 2m 53s\tremaining: 29.5s\n",
      "180:\tlearn: 0.2227472\ttotal: 3m 4s\tremaining: 19.3s\n",
      "190:\tlearn: 0.2179723\ttotal: 3m 14s\tremaining: 9.15s\n",
      "199:\tlearn: 0.2142594\ttotal: 3m 23s\tremaining: 0us\n",
      "0:\tlearn: 0.5963400\ttotal: 1.72s\tremaining: 5m 42s\n",
      "10:\tlearn: 0.4410746\ttotal: 16.8s\tremaining: 4m 48s\n",
      "20:\tlearn: 0.4008971\ttotal: 31.6s\tremaining: 4m 29s\n",
      "30:\tlearn: 0.3730711\ttotal: 46.2s\tremaining: 4m 11s\n",
      "40:\tlearn: 0.3491721\ttotal: 1m\tremaining: 3m 53s\n",
      "50:\tlearn: 0.3301680\ttotal: 1m 14s\tremaining: 3m 38s\n",
      "60:\tlearn: 0.3152757\ttotal: 1m 29s\tremaining: 3m 24s\n",
      "70:\tlearn: 0.3021045\ttotal: 1m 43s\tremaining: 3m 8s\n",
      "80:\tlearn: 0.2913827\ttotal: 1m 57s\tremaining: 2m 52s\n",
      "90:\tlearn: 0.2824482\ttotal: 2m 11s\tremaining: 2m 37s\n",
      "100:\tlearn: 0.2737554\ttotal: 2m 25s\tremaining: 2m 22s\n",
      "110:\tlearn: 0.2664327\ttotal: 2m 39s\tremaining: 2m 7s\n",
      "120:\tlearn: 0.2594647\ttotal: 2m 53s\tremaining: 1m 52s\n",
      "130:\tlearn: 0.2536144\ttotal: 3m 6s\tremaining: 1m 38s\n",
      "140:\tlearn: 0.2486191\ttotal: 3m 20s\tremaining: 1m 23s\n",
      "150:\tlearn: 0.2435912\ttotal: 3m 34s\tremaining: 1m 9s\n",
      "160:\tlearn: 0.2390864\ttotal: 3m 47s\tremaining: 55.2s\n",
      "170:\tlearn: 0.2340574\ttotal: 4m 1s\tremaining: 41s\n",
      "180:\tlearn: 0.2291962\ttotal: 4m 15s\tremaining: 26.8s\n",
      "190:\tlearn: 0.2257933\ttotal: 4m 29s\tremaining: 12.7s\n",
      "199:\tlearn: 0.2215031\ttotal: 4m 41s\tremaining: 0us\n",
      "Wall time: 38min 29s\n"
     ]
    },
    {
     "data": {
      "text/plain": [
       "GridSearchCV(cv=3,\n",
       "             estimator=<catboost.core.CatBoostClassifier object at 0x00000270059DE100>,\n",
       "             param_grid={'depth': [4, 6, 8], 'learning_rate': [0.02, 0.3]},\n",
       "             scoring='f1')"
      ]
     },
     "execution_count": 15,
     "metadata": {},
     "output_type": "execute_result"
    }
   ],
   "source": [
    "%%time\n",
    "\n",
    "# модель \n",
    "CB = cb.CatBoostClassifier(class_weights=[1, 143346/16225], \n",
    "                           verbose=10, \n",
    "                           loss_function=\"Logloss\",\n",
    "                           iterations=200\n",
    "                          )\n",
    "#словарь\n",
    "CB_parametrs = {'learning_rate': [0.02, 0.3],\n",
    "                'depth': [4, 6, 8]\n",
    "               }\n",
    "\n",
    "CB_grid = GridSearchCV(CB, CB_parametrs, scoring='f1', cv=3)\n",
    "CB_grid.fit(x_train_tf_idf, y_train, verbose=10)"
   ]
  },
  {
   "cell_type": "code",
   "execution_count": 16,
   "metadata": {},
   "outputs": [
    {
     "name": "stdout",
     "output_type": "stream",
     "text": [
      "Лучшее значение гиперпараметров:  {'depth': 6, 'learning_rate': 0.3}\n",
      "Лучшее значение F1:  0.8006453268800645\n",
      "Wall time: 951 ms\n"
     ]
    }
   ],
   "source": [
    "%%time\n",
    "\n",
    "CB_params = CB_grid.best_params_\n",
    "CB_score = CB_grid.score(x_train_tf_idf, y_train)\n",
    "print('Лучшее значение гиперпараметров: ', CB_params)\n",
    "print('Лучшее значение F1: ', CB_score)"
   ]
  },
  {
   "cell_type": "code",
   "execution_count": 17,
   "metadata": {},
   "outputs": [
    {
     "name": "stdout",
     "output_type": "stream",
     "text": [
      "0:\tlearn: 0.5963400\ttotal: 1.54s\tremaining: 5m 7s\n",
      "10:\tlearn: 0.4410746\ttotal: 15.9s\tremaining: 4m 32s\n",
      "20:\tlearn: 0.4008971\ttotal: 29.9s\tremaining: 4m 14s\n",
      "30:\tlearn: 0.3730711\ttotal: 43.8s\tremaining: 3m 58s\n",
      "40:\tlearn: 0.3491721\ttotal: 57.9s\tremaining: 3m 44s\n",
      "50:\tlearn: 0.3301680\ttotal: 1m 11s\tremaining: 3m 29s\n",
      "60:\tlearn: 0.3152757\ttotal: 1m 25s\tremaining: 3m 15s\n",
      "70:\tlearn: 0.3021045\ttotal: 1m 40s\tremaining: 3m 2s\n",
      "80:\tlearn: 0.2913827\ttotal: 1m 54s\tremaining: 2m 48s\n",
      "90:\tlearn: 0.2824482\ttotal: 2m 8s\tremaining: 2m 33s\n",
      "100:\tlearn: 0.2737554\ttotal: 2m 22s\tremaining: 2m 19s\n",
      "110:\tlearn: 0.2664327\ttotal: 2m 35s\tremaining: 2m 5s\n",
      "120:\tlearn: 0.2594647\ttotal: 2m 49s\tremaining: 1m 50s\n",
      "130:\tlearn: 0.2536144\ttotal: 3m 3s\tremaining: 1m 36s\n",
      "140:\tlearn: 0.2486191\ttotal: 3m 17s\tremaining: 1m 22s\n",
      "150:\tlearn: 0.2435912\ttotal: 3m 31s\tremaining: 1m 8s\n",
      "160:\tlearn: 0.2390864\ttotal: 3m 45s\tremaining: 54.5s\n",
      "170:\tlearn: 0.2340574\ttotal: 3m 58s\tremaining: 40.5s\n",
      "180:\tlearn: 0.2291962\ttotal: 4m 12s\tremaining: 26.5s\n",
      "190:\tlearn: 0.2257933\ttotal: 4m 26s\tremaining: 12.5s\n",
      "199:\tlearn: 0.2215031\ttotal: 4m 38s\tremaining: 0us\n",
      "Метрика F1:  0.755\n",
      "Wall time: 4min 55s\n"
     ]
    }
   ],
   "source": [
    "%%time\n",
    "\n",
    "CB_test_model = cb.CatBoostClassifier(class_weights=[1, 143346/16225], \n",
    "                                      depth=CB_params['depth'],\n",
    "                                      learning_rate=CB_params['learning_rate'],\n",
    "                                      iterations=200)\n",
    "CB_test_model.fit(x_train_tf_idf, y_train, verbose=10)\n",
    "CB_model_predict = CB_test_model.predict(x_test_tf_idf)\n",
    "\n",
    "CB_F1 = round(f1_score(y_test, CB_model_predict), 3)\n",
    "print('Метрика F1: ', CB_F1)"
   ]
  },
  {
   "cell_type": "markdown",
   "metadata": {},
   "source": [
    "### Случайная модель"
   ]
  },
  {
   "cell_type": "code",
   "execution_count": 18,
   "metadata": {},
   "outputs": [
    {
     "name": "stdout",
     "output_type": "stream",
     "text": [
      "Метрика F1:  0.18457757855696372\n",
      "Wall time: 31.1 ms\n"
     ]
    }
   ],
   "source": [
    "%%time\n",
    "\n",
    "# модель\n",
    "DUM_model = [1 for i in range(len(y_test))]\n",
    "\n",
    "# предсказание\n",
    "DUM_F1 = f1_score(y_test.reset_index(drop=True), DUM_model)\n",
    "\n",
    "print('Метрика F1: ', DUM_F1)"
   ]
  },
  {
   "cell_type": "code",
   "execution_count": 3,
   "metadata": {},
   "outputs": [
    {
     "data": {
      "text/html": [
       "<div>\n",
       "<style scoped>\n",
       "    .dataframe tbody tr th:only-of-type {\n",
       "        vertical-align: middle;\n",
       "    }\n",
       "\n",
       "    .dataframe tbody tr th {\n",
       "        vertical-align: top;\n",
       "    }\n",
       "\n",
       "    .dataframe thead th {\n",
       "        text-align: right;\n",
       "    }\n",
       "</style>\n",
       "<table border=\"1\" class=\"dataframe\">\n",
       "  <thead>\n",
       "    <tr style=\"text-align: right;\">\n",
       "      <th></th>\n",
       "      <th>Model</th>\n",
       "      <th>Wall_time_fit</th>\n",
       "      <th>F1</th>\n",
       "    </tr>\n",
       "  </thead>\n",
       "  <tbody>\n",
       "    <tr>\n",
       "      <th>0</th>\n",
       "      <td>Логистическая регрессия</td>\n",
       "      <td>43.4 c</td>\n",
       "      <td>0.777</td>\n",
       "    </tr>\n",
       "    <tr>\n",
       "      <th>1</th>\n",
       "      <td>Случайный лес</td>\n",
       "      <td>27 мин 13 с</td>\n",
       "      <td>0.447</td>\n",
       "    </tr>\n",
       "    <tr>\n",
       "      <th>2</th>\n",
       "      <td>CatBoost</td>\n",
       "      <td>38 мин 29 c</td>\n",
       "      <td>0.755</td>\n",
       "    </tr>\n",
       "    <tr>\n",
       "      <th>3</th>\n",
       "      <td>Cлучайная модель</td>\n",
       "      <td>31.1 мc</td>\n",
       "      <td>0.185</td>\n",
       "    </tr>\n",
       "  </tbody>\n",
       "</table>\n",
       "</div>"
      ],
      "text/plain": [
       "                     Model Wall_time_fit     F1\n",
       "0  Логистическая регрессия        43.4 c  0.777\n",
       "1            Случайный лес   27 мин 13 с  0.447\n",
       "2                 CatBoost   38 мин 29 c  0.755\n",
       "3         Cлучайная модель       31.1 мc  0.185"
      ]
     },
     "metadata": {},
     "output_type": "display_data"
    }
   ],
   "source": [
    "# сводная таблица\n",
    "model_F1=[\n",
    "    ['Логистическая регрессия', '43.4 c', '0.777'],\n",
    "    ['Случайный лес', '27 мин 13 с','0.447'],\n",
    "    ['CatBoost', '38 мин 29 c', '0.755'],\n",
    "    ['Cлучайная модель', '31.1 мc','0.185']\n",
    "]\n",
    "columns=['Model', 'Wall_time_fit', 'F1']\n",
    "results_F1 = pd.DataFrame(data=model_F1, columns=columns)\n",
    "display(results_F1) "
   ]
  },
  {
   "cell_type": "markdown",
   "metadata": {},
   "source": [
    "<div class=\"alert alert-info\">\n",
    "    \n",
    "<font size=\"3\"><b> Обучили модели с учетом дисбаланса классов и проверили их на тестовой выборке.\n",
    "\n",
    "</b></font>\n",
    "    \n",
    "</div>"
   ]
  },
  {
   "cell_type": "markdown",
   "metadata": {},
   "source": [
    "## Выводы"
   ]
  },
  {
   "cell_type": "markdown",
   "metadata": {},
   "source": [
    "<div class=\"alert alert-info\">\n",
    "    \n",
    "<font size=\"3\"><b> По результатам прошли две модели - Логистическая регрессия и CatBoost. Наилучший результат показала Логистическая регрессия, наихудший - Случайный лес. \n",
    "По времени также Логистическая регрессия наилучшая, время подбора параметров меньше минуты. \n",
    "\n",
    "</b></font>\n",
    "    \n",
    "</div>"
   ]
  }
 ],
 "metadata": {
  "ExecuteTimeLog": [
   {
    "duration": 2098,
    "start_time": "2022-05-24T10:01:11.261Z"
   },
   {
    "duration": 2985,
    "start_time": "2022-05-24T10:01:13.361Z"
   },
   {
    "duration": 6,
    "start_time": "2022-05-24T10:03:05.773Z"
   },
   {
    "duration": 45,
    "start_time": "2022-05-24T10:03:06.934Z"
   },
   {
    "duration": 75,
    "start_time": "2022-05-24T10:03:19.599Z"
   },
   {
    "duration": 731,
    "start_time": "2022-05-24T10:03:36.991Z"
   },
   {
    "duration": 214,
    "start_time": "2022-05-24T10:10:38.836Z"
   },
   {
    "duration": 28,
    "start_time": "2022-05-24T10:10:53.475Z"
   },
   {
    "duration": 974,
    "start_time": "2022-05-24T10:12:01.436Z"
   },
   {
    "duration": 1887,
    "start_time": "2022-05-24T10:21:57.321Z"
   },
   {
    "duration": 50,
    "start_time": "2022-05-24T10:27:40.985Z"
   },
   {
    "duration": 1358,
    "start_time": "2022-05-24T10:27:53.653Z"
   },
   {
    "duration": 3220,
    "start_time": "2022-05-24T10:27:55.013Z"
   },
   {
    "duration": 1864,
    "start_time": "2022-05-24T10:27:58.234Z"
   },
   {
    "duration": 1331,
    "start_time": "2022-05-24T10:30:29.569Z"
   },
   {
    "duration": 3203,
    "start_time": "2022-05-24T10:30:30.902Z"
   },
   {
    "duration": 1343,
    "start_time": "2022-05-24T10:32:02.565Z"
   },
   {
    "duration": 3202,
    "start_time": "2022-05-24T10:32:03.910Z"
   },
   {
    "duration": 82800,
    "start_time": "2022-05-24T10:32:07.113Z"
   },
   {
    "duration": 5,
    "start_time": "2022-05-24T10:40:46.433Z"
   },
   {
    "duration": 997,
    "start_time": "2022-05-24T10:40:48.150Z"
   },
   {
    "duration": 235,
    "start_time": "2022-05-24T10:40:52.297Z"
   },
   {
    "duration": 4093,
    "start_time": "2022-05-24T10:41:04.396Z"
   },
   {
    "duration": 1362,
    "start_time": "2022-05-24T10:47:04.586Z"
   },
   {
    "duration": 3389,
    "start_time": "2022-05-24T10:47:05.950Z"
   },
   {
    "duration": 3958,
    "start_time": "2022-05-24T10:47:09.340Z"
   },
   {
    "duration": 2514,
    "start_time": "2022-05-24T10:47:13.299Z"
   },
   {
    "duration": 75,
    "start_time": "2022-05-24T10:47:53.626Z"
   },
   {
    "duration": 1510,
    "start_time": "2022-05-24T10:48:01.896Z"
   },
   {
    "duration": 3396,
    "start_time": "2022-05-24T10:48:03.408Z"
   },
   {
    "duration": 3989,
    "start_time": "2022-05-24T10:48:06.805Z"
   },
   {
    "duration": 2772,
    "start_time": "2022-05-24T10:48:10.795Z"
   },
   {
    "duration": 1580,
    "start_time": "2022-05-24T10:55:12.263Z"
   },
   {
    "duration": 3369,
    "start_time": "2022-05-24T10:55:13.845Z"
   },
   {
    "duration": 4024,
    "start_time": "2022-05-24T10:55:17.216Z"
   },
   {
    "duration": 2587,
    "start_time": "2022-05-24T10:55:21.242Z"
   },
   {
    "duration": 1591,
    "start_time": "2022-05-24T10:58:56.618Z"
   },
   {
    "duration": 3533,
    "start_time": "2022-05-24T10:58:58.211Z"
   },
   {
    "duration": 4434,
    "start_time": "2022-05-24T10:59:01.745Z"
   },
   {
    "duration": 2765,
    "start_time": "2022-05-24T10:59:06.182Z"
   },
   {
    "duration": 1450,
    "start_time": "2022-05-24T10:59:55.378Z"
   },
   {
    "duration": 3491,
    "start_time": "2022-05-24T10:59:56.831Z"
   },
   {
    "duration": 4411,
    "start_time": "2022-05-24T11:00:00.324Z"
   },
   {
    "duration": 2860,
    "start_time": "2022-05-24T11:00:04.736Z"
   },
   {
    "duration": 1585,
    "start_time": "2022-05-24T11:22:31.405Z"
   },
   {
    "duration": 1101,
    "start_time": "2022-05-24T11:22:32.992Z"
   },
   {
    "duration": 2316,
    "start_time": "2022-05-24T11:22:34.095Z"
   },
   {
    "duration": 0,
    "start_time": "2022-05-24T11:22:36.413Z"
   },
   {
    "duration": 0,
    "start_time": "2022-05-24T11:22:36.415Z"
   },
   {
    "duration": 1548,
    "start_time": "2022-05-24T11:24:02.184Z"
   },
   {
    "duration": 3543,
    "start_time": "2022-05-24T11:24:03.734Z"
   },
   {
    "duration": 1516,
    "start_time": "2022-05-24T11:24:25.981Z"
   },
   {
    "duration": 3650,
    "start_time": "2022-05-24T11:24:28.777Z"
   },
   {
    "duration": 1441,
    "start_time": "2022-05-24T11:31:38.668Z"
   },
   {
    "duration": 3336,
    "start_time": "2022-05-24T11:31:40.110Z"
   },
   {
    "duration": 4382,
    "start_time": "2022-05-24T11:31:43.447Z"
   },
   {
    "duration": 1949,
    "start_time": "2022-05-24T11:31:47.831Z"
   },
   {
    "duration": 5,
    "start_time": "2022-05-24T11:31:49.783Z"
   },
   {
    "duration": 1328,
    "start_time": "2022-05-24T11:32:43.864Z"
   },
   {
    "duration": 1023,
    "start_time": "2022-05-24T11:32:45.194Z"
   },
   {
    "duration": 4377,
    "start_time": "2022-05-24T11:32:46.219Z"
   },
   {
    "duration": 2788,
    "start_time": "2022-05-24T11:32:50.598Z"
   },
   {
    "duration": 3,
    "start_time": "2022-05-24T11:32:53.388Z"
   },
   {
    "duration": 1464,
    "start_time": "2022-05-24T11:35:43.092Z"
   },
   {
    "duration": 1075,
    "start_time": "2022-05-24T11:35:44.559Z"
   },
   {
    "duration": 4417,
    "start_time": "2022-05-24T11:35:45.636Z"
   },
   {
    "duration": 74229,
    "start_time": "2022-05-24T11:35:50.055Z"
   },
   {
    "duration": 2,
    "start_time": "2022-05-24T11:37:04.286Z"
   },
   {
    "duration": 6,
    "start_time": "2022-05-24T13:09:15.884Z"
   },
   {
    "duration": 2182,
    "start_time": "2022-05-24T13:09:17.704Z"
   },
   {
    "duration": 2426,
    "start_time": "2022-05-24T13:10:07.318Z"
   },
   {
    "duration": 3549,
    "start_time": "2022-05-24T13:10:09.746Z"
   },
   {
    "duration": 2737,
    "start_time": "2022-05-24T13:10:13.296Z"
   },
   {
    "duration": 8,
    "start_time": "2022-05-24T13:11:14.755Z"
   },
   {
    "duration": 1214,
    "start_time": "2022-05-24T13:11:16.406Z"
   },
   {
    "duration": 2269,
    "start_time": "2022-05-24T13:11:39.842Z"
   },
   {
    "duration": 3454,
    "start_time": "2022-05-24T13:11:42.113Z"
   },
   {
    "duration": 2133,
    "start_time": "2022-05-24T13:11:45.569Z"
   },
   {
    "duration": 2161,
    "start_time": "2022-05-24T13:13:06.574Z"
   },
   {
    "duration": 3492,
    "start_time": "2022-05-24T13:13:08.737Z"
   },
   {
    "duration": 2239,
    "start_time": "2022-05-24T13:13:12.230Z"
   },
   {
    "duration": 2345,
    "start_time": "2022-05-24T13:22:32.325Z"
   },
   {
    "duration": 3448,
    "start_time": "2022-05-24T13:22:34.674Z"
   },
   {
    "duration": 2091,
    "start_time": "2022-05-24T13:27:45.749Z"
   },
   {
    "duration": 3497,
    "start_time": "2022-05-24T13:27:47.842Z"
   },
   {
    "duration": 110209,
    "start_time": "2022-05-24T13:27:51.341Z"
   },
   {
    "duration": 56,
    "start_time": "2022-05-24T13:29:41.553Z"
   },
   {
    "duration": 152,
    "start_time": "2022-05-24T13:29:53.828Z"
   },
   {
    "duration": 89,
    "start_time": "2022-05-24T13:32:57.616Z"
   },
   {
    "duration": 5,
    "start_time": "2022-05-24T13:35:09.909Z"
   },
   {
    "duration": 58,
    "start_time": "2022-05-24T17:17:17.004Z"
   },
   {
    "duration": 1786,
    "start_time": "2022-05-24T17:17:31.059Z"
   },
   {
    "duration": 2701,
    "start_time": "2022-05-24T17:17:32.848Z"
   },
   {
    "duration": 112766,
    "start_time": "2022-05-24T17:17:35.551Z"
   },
   {
    "duration": 107,
    "start_time": "2022-05-24T17:19:28.323Z"
   },
   {
    "duration": 6,
    "start_time": "2022-05-24T17:19:28.432Z"
   },
   {
    "duration": 87,
    "start_time": "2022-05-24T17:19:28.439Z"
   },
   {
    "duration": 26,
    "start_time": "2022-05-24T17:28:05.523Z"
   },
   {
    "duration": 23,
    "start_time": "2022-05-24T17:29:48.550Z"
   },
   {
    "duration": 52,
    "start_time": "2022-05-24T17:29:55.941Z"
   },
   {
    "duration": 28,
    "start_time": "2022-05-24T17:30:40.071Z"
   },
   {
    "duration": 26,
    "start_time": "2022-05-24T17:32:09.855Z"
   },
   {
    "duration": 66,
    "start_time": "2022-05-24T17:34:08.336Z"
   },
   {
    "duration": 2059,
    "start_time": "2022-05-24T17:34:45.403Z"
   },
   {
    "duration": 2817,
    "start_time": "2022-05-24T17:34:47.464Z"
   },
   {
    "duration": 125347,
    "start_time": "2022-05-24T17:34:50.283Z"
   },
   {
    "duration": 104,
    "start_time": "2022-05-24T17:36:55.631Z"
   },
   {
    "duration": 6,
    "start_time": "2022-05-24T17:36:55.737Z"
   },
   {
    "duration": 87,
    "start_time": "2022-05-24T17:36:55.745Z"
   },
   {
    "duration": 61,
    "start_time": "2022-05-24T17:37:24.128Z"
   },
   {
    "duration": 2434,
    "start_time": "2022-05-24T17:38:30.098Z"
   },
   {
    "duration": 2905,
    "start_time": "2022-05-24T17:38:32.536Z"
   },
   {
    "duration": 124262,
    "start_time": "2022-05-24T17:38:35.443Z"
   },
   {
    "duration": 94,
    "start_time": "2022-05-24T17:40:39.707Z"
   },
   {
    "duration": 21,
    "start_time": "2022-05-24T17:40:39.803Z"
   },
   {
    "duration": 83,
    "start_time": "2022-05-24T17:40:39.826Z"
   },
   {
    "duration": 2336,
    "start_time": "2022-05-24T17:41:11.127Z"
   },
   {
    "duration": 2730,
    "start_time": "2022-05-24T17:41:13.465Z"
   },
   {
    "duration": 123494,
    "start_time": "2022-05-24T17:41:16.197Z"
   },
   {
    "duration": 89,
    "start_time": "2022-05-24T17:43:19.693Z"
   },
   {
    "duration": 5,
    "start_time": "2022-05-24T17:43:19.784Z"
   },
   {
    "duration": 82,
    "start_time": "2022-05-24T17:43:19.790Z"
   },
   {
    "duration": 6710,
    "start_time": "2022-05-24T17:43:19.874Z"
   },
   {
    "duration": 4,
    "start_time": "2022-05-24T17:43:26.586Z"
   },
   {
    "duration": 163,
    "start_time": "2022-05-24T18:13:12.066Z"
   },
   {
    "duration": 31,
    "start_time": "2022-05-24T18:14:45.569Z"
   },
   {
    "duration": 157738,
    "start_time": "2022-05-24T18:14:53.878Z"
   },
   {
    "duration": 3192,
    "start_time": "2022-05-24T18:44:55.910Z"
   },
   {
    "duration": 3289,
    "start_time": "2022-05-24T18:44:59.104Z"
   },
   {
    "duration": 2608,
    "start_time": "2022-05-24T18:45:34.857Z"
   },
   {
    "duration": 3173,
    "start_time": "2022-05-24T18:45:37.467Z"
   },
   {
    "duration": 96740,
    "start_time": "2022-05-24T18:45:40.642Z"
   },
   {
    "duration": 87,
    "start_time": "2022-05-24T18:47:17.384Z"
   },
   {
    "duration": 5,
    "start_time": "2022-05-24T18:47:17.473Z"
   },
   {
    "duration": 62,
    "start_time": "2022-05-24T18:47:17.479Z"
   },
   {
    "duration": 6552,
    "start_time": "2022-05-24T18:47:17.543Z"
   },
   {
    "duration": 3,
    "start_time": "2022-05-24T18:47:24.097Z"
   },
   {
    "duration": 494468,
    "start_time": "2022-05-24T18:47:24.102Z"
   },
   {
    "duration": 299992,
    "start_time": "2022-05-24T18:56:17.674Z"
   },
   {
    "duration": 192005,
    "start_time": "2022-05-24T19:09:16.376Z"
   },
   {
    "duration": 177,
    "start_time": "2022-05-24T19:12:28.383Z"
   },
   {
    "duration": 46,
    "start_time": "2022-05-24T19:13:44.483Z"
   },
   {
    "duration": 44,
    "start_time": "2022-05-24T19:16:13.265Z"
   },
   {
    "duration": 46,
    "start_time": "2022-05-24T19:18:41.666Z"
   },
   {
    "duration": 26531,
    "start_time": "2022-05-24T19:18:55.054Z"
   },
   {
    "duration": 26385,
    "start_time": "2022-05-24T19:21:09.400Z"
   },
   {
    "duration": 26336,
    "start_time": "2022-05-24T19:22:15.752Z"
   },
   {
    "duration": 26459,
    "start_time": "2022-05-24T19:22:55.640Z"
   },
   {
    "duration": 489536,
    "start_time": "2022-05-24T19:24:00.831Z"
   },
   {
    "duration": 130,
    "start_time": "2022-05-24T19:32:10.370Z"
   },
   {
    "duration": 26385,
    "start_time": "2022-05-24T19:32:10.502Z"
   },
   {
    "duration": 49096,
    "start_time": "2022-05-24T19:32:56.865Z"
   },
   {
    "duration": 2553539,
    "start_time": "2022-05-24T19:48:19.656Z"
   },
   {
    "duration": 48,
    "start_time": "2022-05-24T20:31:47.861Z"
   },
   {
    "duration": 1356,
    "start_time": "2022-05-24T20:56:35.103Z"
   },
   {
    "duration": 3145,
    "start_time": "2022-05-24T20:56:36.461Z"
   },
   {
    "duration": 100596,
    "start_time": "2022-05-24T20:56:39.608Z"
   },
   {
    "duration": 87,
    "start_time": "2022-05-24T20:58:20.206Z"
   },
   {
    "duration": 4,
    "start_time": "2022-05-24T20:58:20.294Z"
   },
   {
    "duration": 74,
    "start_time": "2022-05-24T20:58:20.300Z"
   },
   {
    "duration": 6144,
    "start_time": "2022-05-24T20:58:20.376Z"
   },
   {
    "duration": 3,
    "start_time": "2022-05-24T20:58:26.522Z"
   },
   {
    "duration": 498458,
    "start_time": "2022-05-24T20:58:26.527Z"
   },
   {
    "duration": 42,
    "start_time": "2022-05-24T21:06:44.987Z"
   },
   {
    "duration": 53737,
    "start_time": "2022-05-24T21:06:45.031Z"
   },
   {
    "duration": 1377,
    "start_time": "2022-05-24T21:46:16.417Z"
   },
   {
    "duration": 3199,
    "start_time": "2022-05-24T21:46:17.797Z"
   },
   {
    "duration": 90867,
    "start_time": "2022-05-24T21:46:20.998Z"
   },
   {
    "duration": 79,
    "start_time": "2022-05-24T21:47:51.867Z"
   },
   {
    "duration": 12,
    "start_time": "2022-05-24T21:47:51.948Z"
   },
   {
    "duration": 56,
    "start_time": "2022-05-24T21:47:51.961Z"
   },
   {
    "duration": 6074,
    "start_time": "2022-05-24T21:47:52.018Z"
   },
   {
    "duration": 3,
    "start_time": "2022-05-24T21:47:58.094Z"
   },
   {
    "duration": 509281,
    "start_time": "2022-05-24T21:47:58.099Z"
   },
   {
    "duration": 92,
    "start_time": "2022-05-24T21:56:27.382Z"
   },
   {
    "duration": 54686,
    "start_time": "2022-05-24T21:56:27.476Z"
   },
   {
    "duration": 1749,
    "start_time": "2022-05-25T09:56:49.785Z"
   },
   {
    "duration": 3855,
    "start_time": "2022-05-25T09:56:51.536Z"
   },
   {
    "duration": 112366,
    "start_time": "2022-05-25T09:56:55.392Z"
   },
   {
    "duration": 93,
    "start_time": "2022-05-25T09:58:47.759Z"
   },
   {
    "duration": 6,
    "start_time": "2022-05-25T09:58:47.855Z"
   },
   {
    "duration": 80,
    "start_time": "2022-05-25T09:58:47.862Z"
   },
   {
    "duration": 7309,
    "start_time": "2022-05-25T09:58:47.943Z"
   },
   {
    "duration": 4,
    "start_time": "2022-05-25T09:58:55.255Z"
   },
   {
    "duration": 492082,
    "start_time": "2022-05-25T09:58:55.260Z"
   },
   {
    "duration": 43,
    "start_time": "2022-05-25T10:07:07.344Z"
   },
   {
    "duration": 48660,
    "start_time": "2022-05-25T10:07:07.390Z"
   },
   {
    "duration": 1957,
    "start_time": "2022-05-25T10:28:40.568Z"
   },
   {
    "duration": 3778,
    "start_time": "2022-05-25T10:28:42.527Z"
   },
   {
    "duration": 98824,
    "start_time": "2022-05-25T10:28:46.307Z"
   },
   {
    "duration": 92,
    "start_time": "2022-05-25T10:30:25.132Z"
   },
   {
    "duration": 25,
    "start_time": "2022-05-25T10:30:25.226Z"
   },
   {
    "duration": 69,
    "start_time": "2022-05-25T10:30:25.256Z"
   },
   {
    "duration": 7138,
    "start_time": "2022-05-25T10:30:25.327Z"
   },
   {
    "duration": 4,
    "start_time": "2022-05-25T10:30:32.467Z"
   },
   {
    "duration": 509270,
    "start_time": "2022-05-25T10:30:32.472Z"
   },
   {
    "duration": 55,
    "start_time": "2022-05-25T10:39:01.744Z"
   },
   {
    "duration": 50155,
    "start_time": "2022-05-25T10:39:01.801Z"
   },
   {
    "duration": 243,
    "start_time": "2022-05-25T10:39:51.958Z"
   },
   {
    "duration": 110,
    "start_time": "2022-05-25T10:39:52.203Z"
   },
   {
    "duration": 59,
    "start_time": "2022-05-25T10:39:52.315Z"
   },
   {
    "duration": 68,
    "start_time": "2022-05-25T10:39:52.376Z"
   },
   {
    "duration": 98,
    "start_time": "2022-05-25T10:39:52.445Z"
   },
   {
    "duration": 75,
    "start_time": "2022-05-25T10:39:52.544Z"
   },
   {
    "duration": 1975,
    "start_time": "2022-05-25T10:58:41.979Z"
   },
   {
    "duration": 4097,
    "start_time": "2022-05-25T10:58:43.956Z"
   },
   {
    "duration": 12625,
    "start_time": "2022-05-25T10:58:48.055Z"
   },
   {
    "duration": 75,
    "start_time": "2022-05-25T10:59:00.683Z"
   },
   {
    "duration": 5,
    "start_time": "2022-05-25T10:59:00.760Z"
   },
   {
    "duration": 90,
    "start_time": "2022-05-25T10:59:00.766Z"
   },
   {
    "duration": 7238,
    "start_time": "2022-05-25T10:59:00.858Z"
   },
   {
    "duration": 3,
    "start_time": "2022-05-25T10:59:08.098Z"
   },
   {
    "duration": 6422,
    "start_time": "2022-05-25T10:59:08.103Z"
   },
   {
    "duration": 40,
    "start_time": "2022-05-25T10:59:14.528Z"
   },
   {
    "duration": 14,
    "start_time": "2022-05-25T10:59:14.570Z"
   },
   {
    "duration": 17526,
    "start_time": "2022-05-25T10:59:14.586Z"
   },
   {
    "duration": 11,
    "start_time": "2022-05-25T10:59:32.114Z"
   },
   {
    "duration": 28,
    "start_time": "2022-05-25T10:59:32.127Z"
   },
   {
    "duration": 11,
    "start_time": "2022-05-25T10:59:32.157Z"
   },
   {
    "duration": 14,
    "start_time": "2022-05-25T10:59:32.170Z"
   },
   {
    "duration": 11,
    "start_time": "2022-05-25T10:59:32.185Z"
   },
   {
    "duration": 1473,
    "start_time": "2022-05-25T10:59:39.759Z"
   },
   {
    "duration": 1096,
    "start_time": "2022-05-25T10:59:41.234Z"
   },
   {
    "duration": 12765,
    "start_time": "2022-05-25T10:59:42.331Z"
   },
   {
    "duration": 70,
    "start_time": "2022-05-25T10:59:55.098Z"
   },
   {
    "duration": 6,
    "start_time": "2022-05-25T10:59:55.170Z"
   },
   {
    "duration": 90,
    "start_time": "2022-05-25T10:59:55.178Z"
   },
   {
    "duration": 7526,
    "start_time": "2022-05-25T10:59:55.269Z"
   },
   {
    "duration": 3,
    "start_time": "2022-05-25T11:00:02.797Z"
   },
   {
    "duration": 476246,
    "start_time": "2022-05-25T11:00:02.802Z"
   },
   {
    "duration": 59,
    "start_time": "2022-05-25T11:07:59.051Z"
   },
   {
    "duration": 47442,
    "start_time": "2022-05-25T11:07:59.112Z"
   },
   {
    "duration": 53,
    "start_time": "2022-05-26T15:04:08.452Z"
   },
   {
    "duration": 6489,
    "start_time": "2022-05-26T15:10:26.895Z"
   },
   {
    "duration": 134,
    "start_time": "2022-05-26T15:10:33.386Z"
   },
   {
    "duration": 0,
    "start_time": "2022-05-26T15:10:33.522Z"
   },
   {
    "duration": 0,
    "start_time": "2022-05-26T15:10:33.523Z"
   },
   {
    "duration": 0,
    "start_time": "2022-05-26T15:10:33.524Z"
   },
   {
    "duration": 0,
    "start_time": "2022-05-26T15:10:33.525Z"
   },
   {
    "duration": 0,
    "start_time": "2022-05-26T15:10:33.526Z"
   },
   {
    "duration": 0,
    "start_time": "2022-05-26T15:10:33.527Z"
   },
   {
    "duration": 0,
    "start_time": "2022-05-26T15:10:33.528Z"
   },
   {
    "duration": 0,
    "start_time": "2022-05-26T15:10:33.529Z"
   },
   {
    "duration": 0,
    "start_time": "2022-05-26T15:10:33.531Z"
   },
   {
    "duration": 0,
    "start_time": "2022-05-26T15:10:33.532Z"
   },
   {
    "duration": 0,
    "start_time": "2022-05-26T15:10:33.533Z"
   },
   {
    "duration": 0,
    "start_time": "2022-05-26T15:10:33.534Z"
   },
   {
    "duration": 0,
    "start_time": "2022-05-26T15:10:33.535Z"
   },
   {
    "duration": 0,
    "start_time": "2022-05-26T15:10:33.536Z"
   },
   {
    "duration": 0,
    "start_time": "2022-05-26T15:10:33.537Z"
   },
   {
    "duration": 0,
    "start_time": "2022-05-26T15:10:33.537Z"
   },
   {
    "duration": 0,
    "start_time": "2022-05-26T15:10:33.538Z"
   },
   {
    "duration": 43,
    "start_time": "2022-09-13T15:43:33.158Z"
   },
   {
    "duration": 6380,
    "start_time": "2022-09-13T15:43:52.174Z"
   },
   {
    "duration": 12,
    "start_time": "2022-09-13T15:44:16.649Z"
   }
  ],
  "kernelspec": {
   "display_name": "Python 3 (ipykernel)",
   "language": "python",
   "name": "python3"
  },
  "language_info": {
   "codemirror_mode": {
    "name": "ipython",
    "version": 3
   },
   "file_extension": ".py",
   "mimetype": "text/x-python",
   "name": "python",
   "nbconvert_exporter": "python",
   "pygments_lexer": "ipython3",
   "version": "3.9.5"
  },
  "toc": {
   "base_numbering": 1,
   "nav_menu": {},
   "number_sections": true,
   "sideBar": true,
   "skip_h1_title": true,
   "title_cell": "Содержание",
   "title_sidebar": "Contents",
   "toc_cell": true,
   "toc_position": {
    "height": "calc(100% - 180px)",
    "left": "10px",
    "top": "150px",
    "width": "302.391px"
   },
   "toc_section_display": true,
   "toc_window_display": true
  }
 },
 "nbformat": 4,
 "nbformat_minor": 2
}
