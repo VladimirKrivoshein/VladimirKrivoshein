{
 "cells": [
  {
   "cell_type": "markdown",
   "metadata": {
    "toc": true
   },
   "source": [
    "<h1>Table of Contents<span class=\"tocSkip\"></span></h1>\n",
    "<div class=\"toc\"><ul class=\"toc-item\"><li><span><a href=\"#Изучение-данных\" data-toc-modified-id=\"Изучение-данных-1\"><span class=\"toc-item-num\">1&nbsp;&nbsp;</span>Изучение данных</a></span><ul class=\"toc-item\"><li><span><a href=\"#Импорт-библиотек\" data-toc-modified-id=\"Импорт-библиотек-1.1\"><span class=\"toc-item-num\">1.1&nbsp;&nbsp;</span>Импорт библиотек</a></span></li><li><span><a href=\"#Чтение-файла\" data-toc-modified-id=\"Чтение-файла-1.2\"><span class=\"toc-item-num\">1.2&nbsp;&nbsp;</span>Чтение файла</a></span></li></ul></li><li><span><a href=\"#Разбиение-на-выборки\" data-toc-modified-id=\"Разбиение-на-выборки-2\"><span class=\"toc-item-num\">2&nbsp;&nbsp;</span>Разбиение на выборки</a></span></li><li><span><a href=\"#Исследование-моделей\" data-toc-modified-id=\"Исследование-моделей-3\"><span class=\"toc-item-num\">3&nbsp;&nbsp;</span>Исследование моделей</a></span><ul class=\"toc-item\"><li><span><a href=\"#Переменные-для-признаков-и-целевого-признака\" data-toc-modified-id=\"Переменные-для-признаков-и-целевого-признака-3.1\"><span class=\"toc-item-num\">3.1&nbsp;&nbsp;</span>Переменные для признаков и целевого признака</a></span></li><li><span><a href=\"#Предварительная-визуализация-данных\" data-toc-modified-id=\"Предварительная-визуализация-данных-3.2\"><span class=\"toc-item-num\">3.2&nbsp;&nbsp;</span>Предварительная визуализация данных</a></span></li><li><span><a href=\"#Обучим-модель-для-решающего-дерева\" data-toc-modified-id=\"Обучим-модель-для-решающего-дерева-3.3\"><span class=\"toc-item-num\">3.3&nbsp;&nbsp;</span>Обучим модель для решающего дерева</a></span></li><li><span><a href=\"#Обучим-модель-для-случайного-леса\" data-toc-modified-id=\"Обучим-модель-для-случайного-леса-3.4\"><span class=\"toc-item-num\">3.4&nbsp;&nbsp;</span>Обучим модель для случайного леса</a></span></li><li><span><a href=\"#Обучим-модель-для-логистической-регрессии\" data-toc-modified-id=\"Обучим-модель-для-логистической-регрессии-3.5\"><span class=\"toc-item-num\">3.5&nbsp;&nbsp;</span>Обучим модель для логистической регрессии</a></span></li><li><span><a href=\"#Сводная-таблица\" data-toc-modified-id=\"Сводная-таблица-3.6\"><span class=\"toc-item-num\">3.6&nbsp;&nbsp;</span>Сводная таблица</a></span></li></ul></li><li><span><a href=\"#Проверка-модели-на-тестовой-выборке\" data-toc-modified-id=\"Проверка-модели-на-тестовой-выборке-4\"><span class=\"toc-item-num\">4&nbsp;&nbsp;</span>Проверка модели на тестовой выборке</a></span><ul class=\"toc-item\"><li><span><a href=\"#Проверка-тестовой-выборки-на-решающем-дереве\" data-toc-modified-id=\"Проверка-тестовой-выборки-на-решающем-дереве-4.1\"><span class=\"toc-item-num\">4.1&nbsp;&nbsp;</span>Проверка тестовой выборки на решающем дереве</a></span></li><li><span><a href=\"#Проверка-тестовой-выборки-на-случайном-лесе\" data-toc-modified-id=\"Проверка-тестовой-выборки-на-случайном-лесе-4.2\"><span class=\"toc-item-num\">4.2&nbsp;&nbsp;</span>Проверка тестовой выборки на случайном лесе</a></span></li><li><span><a href=\"#Проверка-тестовой-выборки-на-логистической-регрессии\" data-toc-modified-id=\"Проверка-тестовой-выборки-на-логистической-регрессии-4.3\"><span class=\"toc-item-num\">4.3&nbsp;&nbsp;</span>Проверка тестовой выборки на логистической регрессии</a></span></li><li><span><a href=\"#Сводная-таблица\" data-toc-modified-id=\"Сводная-таблица-4.4\"><span class=\"toc-item-num\">4.4&nbsp;&nbsp;</span>Сводная таблица</a></span></li></ul></li><li><span><a href=\"#Проверка-модели-на-адекватность\" data-toc-modified-id=\"Проверка-модели-на-адекватность-5\"><span class=\"toc-item-num\">5&nbsp;&nbsp;</span>Проверка модели на адекватность</a></span><ul class=\"toc-item\"><li><span><a href=\"#Проверка-модели-случайного-леса\" data-toc-modified-id=\"Проверка-модели-случайного-леса-5.1\"><span class=\"toc-item-num\">5.1&nbsp;&nbsp;</span>Проверка модели случайного леса</a></span></li><li><span><a href=\"#Проверка-модели-решающего-дерева\" data-toc-modified-id=\"Проверка-модели-решающего-дерева-5.2\"><span class=\"toc-item-num\">5.2&nbsp;&nbsp;</span>Проверка модели решающего дерева</a></span></li><li><span><a href=\"#Проверка-модели-логистической-регрессии\" data-toc-modified-id=\"Проверка-модели-логистической-регрессии-5.3\"><span class=\"toc-item-num\">5.3&nbsp;&nbsp;</span>Проверка модели логистической регрессии</a></span></li><li><span><a href=\"#Выводы\" data-toc-modified-id=\"Выводы-5.4\"><span class=\"toc-item-num\">5.4&nbsp;&nbsp;</span>Выводы</a></span></li></ul></li><li><span><a href=\"#Чек-лист-готовности-проекта\" data-toc-modified-id=\"Чек-лист-готовности-проекта-6\"><span class=\"toc-item-num\">6&nbsp;&nbsp;</span>Чек-лист готовности проекта</a></span></li></ul></div>"
   ]
  },
  {
   "cell_type": "markdown",
   "metadata": {},
   "source": [
    "# Рекомендация тарифов"
   ]
  },
  {
   "cell_type": "markdown",
   "metadata": {},
   "source": [
    "В вашем распоряжении данные о поведении клиентов, которые уже перешли на эти тарифы (из проекта курса «Статистический анализ данных»). Нужно построить модель для задачи классификации, которая выберет подходящий тариф. Предобработка данных не понадобится — вы её уже сделали.\n",
    "\n",
    "Постройте модель с максимально большим значением *accuracy*. Чтобы сдать проект успешно, нужно довести долю правильных ответов по крайней мере до 0.75. Проверьте *accuracy* на тестовой выборке самостоятельно."
   ]
  },
  {
   "cell_type": "markdown",
   "metadata": {},
   "source": [
    "## Изучение данных"
   ]
  },
  {
   "cell_type": "markdown",
   "metadata": {},
   "source": [
    "### Импорт библиотек"
   ]
  },
  {
   "cell_type": "code",
   "execution_count": 1,
   "metadata": {},
   "outputs": [],
   "source": [
    "# импортирую библиотеки\n",
    "import pandas as pd\n",
    "from sklearn.ensemble import RandomForestClassifier\n",
    "from sklearn.tree import DecisionTreeClassifier\n",
    "from sklearn.metrics import accuracy_score\n",
    "from sklearn.linear_model import LogisticRegression\n",
    "from sklearn.model_selection import train_test_split\n",
    "from sklearn.metrics import confusion_matrix\n",
    "from sklearn.metrics import recall_score\n",
    "from sklearn.metrics import precision_score\n",
    "from sklearn.metrics import f1_score\n",
    "from sklearn.metrics import roc_auc_score\n",
    "import time\n",
    "\n",
    "pd.set_option('display.max_columns', None)"
   ]
  },
  {
   "cell_type": "markdown",
   "metadata": {},
   "source": [
    "### Чтение файла"
   ]
  },
  {
   "cell_type": "code",
   "execution_count": 2,
   "metadata": {},
   "outputs": [
    {
     "data": {
      "text/html": [
       "<div>\n",
       "<style scoped>\n",
       "    .dataframe tbody tr th:only-of-type {\n",
       "        vertical-align: middle;\n",
       "    }\n",
       "\n",
       "    .dataframe tbody tr th {\n",
       "        vertical-align: top;\n",
       "    }\n",
       "\n",
       "    .dataframe thead th {\n",
       "        text-align: right;\n",
       "    }\n",
       "</style>\n",
       "<table border=\"1\" class=\"dataframe\">\n",
       "  <thead>\n",
       "    <tr style=\"text-align: right;\">\n",
       "      <th></th>\n",
       "      <th>calls</th>\n",
       "      <th>minutes</th>\n",
       "      <th>messages</th>\n",
       "      <th>mb_used</th>\n",
       "      <th>is_ultra</th>\n",
       "    </tr>\n",
       "  </thead>\n",
       "  <tbody>\n",
       "    <tr>\n",
       "      <td>0</td>\n",
       "      <td>40.0</td>\n",
       "      <td>311.90</td>\n",
       "      <td>83.0</td>\n",
       "      <td>19915.42</td>\n",
       "      <td>0</td>\n",
       "    </tr>\n",
       "    <tr>\n",
       "      <td>1</td>\n",
       "      <td>85.0</td>\n",
       "      <td>516.75</td>\n",
       "      <td>56.0</td>\n",
       "      <td>22696.96</td>\n",
       "      <td>0</td>\n",
       "    </tr>\n",
       "    <tr>\n",
       "      <td>2</td>\n",
       "      <td>77.0</td>\n",
       "      <td>467.66</td>\n",
       "      <td>86.0</td>\n",
       "      <td>21060.45</td>\n",
       "      <td>0</td>\n",
       "    </tr>\n",
       "    <tr>\n",
       "      <td>3</td>\n",
       "      <td>106.0</td>\n",
       "      <td>745.53</td>\n",
       "      <td>81.0</td>\n",
       "      <td>8437.39</td>\n",
       "      <td>1</td>\n",
       "    </tr>\n",
       "    <tr>\n",
       "      <td>4</td>\n",
       "      <td>66.0</td>\n",
       "      <td>418.74</td>\n",
       "      <td>1.0</td>\n",
       "      <td>14502.75</td>\n",
       "      <td>0</td>\n",
       "    </tr>\n",
       "  </tbody>\n",
       "</table>\n",
       "</div>"
      ],
      "text/plain": [
       "   calls  minutes  messages   mb_used  is_ultra\n",
       "0   40.0   311.90      83.0  19915.42         0\n",
       "1   85.0   516.75      56.0  22696.96         0\n",
       "2   77.0   467.66      86.0  21060.45         0\n",
       "3  106.0   745.53      81.0   8437.39         1\n",
       "4   66.0   418.74       1.0  14502.75         0"
      ]
     },
     "metadata": {},
     "output_type": "display_data"
    },
    {
     "name": "stdout",
     "output_type": "stream",
     "text": [
      "<class 'pandas.core.frame.DataFrame'>\n",
      "RangeIndex: 3214 entries, 0 to 3213\n",
      "Data columns (total 5 columns):\n",
      "calls       3214 non-null float64\n",
      "minutes     3214 non-null float64\n",
      "messages    3214 non-null float64\n",
      "mb_used     3214 non-null float64\n",
      "is_ultra    3214 non-null int64\n",
      "dtypes: float64(4), int64(1)\n",
      "memory usage: 125.7 KB\n"
     ]
    }
   ],
   "source": [
    "# читаю файл\n",
    "df = pd.read_csv('/datasets/users_behavior.csv')\n",
    "display(df.head())\n",
    "df.info()"
   ]
  },
  {
   "cell_type": "code",
   "execution_count": 3,
   "metadata": {},
   "outputs": [],
   "source": [
    "# меняю вещественный тип на целочисленный\n",
    "df['calls'] = df['calls'].astype(int) \n",
    "df['messages'] = df['messages'].astype(int) "
   ]
  },
  {
   "cell_type": "markdown",
   "metadata": {},
   "source": [
    "## Разбиение на выборки"
   ]
  },
  {
   "cell_type": "code",
   "execution_count": 4,
   "metadata": {},
   "outputs": [],
   "source": [
    "# разбиваю на обучающую и проверочную выборки\n",
    "df_train, df_verificate = train_test_split(df, test_size=0.40, random_state=12345)\n",
    "# разбиваю проверочную выборку на валицационную и тестовую\n",
    "df_valid, df_test = train_test_split(df_verificate, test_size=0.50, random_state=12345)\n"
   ]
  },
  {
   "cell_type": "markdown",
   "metadata": {},
   "source": [
    "## Исследование моделей"
   ]
  },
  {
   "cell_type": "markdown",
   "metadata": {},
   "source": [
    "### Переменные для признаков и целевого признака"
   ]
  },
  {
   "cell_type": "code",
   "execution_count": 5,
   "metadata": {},
   "outputs": [
    {
     "data": {
      "text/plain": [
       "'Признаки обучающей выборки:'"
      ]
     },
     "metadata": {},
     "output_type": "display_data"
    },
    {
     "data": {
      "text/plain": [
       "(1928, 4)"
      ]
     },
     "metadata": {},
     "output_type": "display_data"
    },
    {
     "data": {
      "text/plain": [
       "'Целевой признак обучающей выборки:'"
      ]
     },
     "metadata": {},
     "output_type": "display_data"
    },
    {
     "data": {
      "text/plain": [
       "(1928,)"
      ]
     },
     "metadata": {},
     "output_type": "display_data"
    },
    {
     "data": {
      "text/plain": [
       "'Признаки валидационной выборки:'"
      ]
     },
     "metadata": {},
     "output_type": "display_data"
    },
    {
     "data": {
      "text/plain": [
       "(643, 4)"
      ]
     },
     "metadata": {},
     "output_type": "display_data"
    },
    {
     "data": {
      "text/plain": [
       "'Целевой признак валидационной выборки:'"
      ]
     },
     "metadata": {},
     "output_type": "display_data"
    },
    {
     "data": {
      "text/plain": [
       "(643,)"
      ]
     },
     "metadata": {},
     "output_type": "display_data"
    },
    {
     "data": {
      "text/plain": [
       "'Признаки тестовой выборки:'"
      ]
     },
     "metadata": {},
     "output_type": "display_data"
    },
    {
     "data": {
      "text/plain": [
       "(643, 4)"
      ]
     },
     "metadata": {},
     "output_type": "display_data"
    },
    {
     "data": {
      "text/plain": [
       "'Целевой признак тестовой выборки:'"
      ]
     },
     "metadata": {},
     "output_type": "display_data"
    },
    {
     "data": {
      "text/plain": [
       "(643,)"
      ]
     },
     "metadata": {},
     "output_type": "display_data"
    }
   ],
   "source": [
    "# переменные для обучающей выборки\n",
    "features_train = df_train.drop(['is_ultra'], axis=1)\n",
    "target_train = df_train['is_ultra']\n",
    "# переменные для валидационной выборки\n",
    "features_valid = df_valid.drop(['is_ultra'], axis=1)\n",
    "target_valid = df_valid['is_ultra']\n",
    "# переменные для тестовой выборки\n",
    "features_test = df_test.drop(['is_ultra'], axis=1)\n",
    "target_test = df_test['is_ultra']\n",
    "\n",
    "display('Признаки обучающей выборки:', features_train.shape, \n",
    "        'Целевой признак обучающей выборки:', target_train.shape, \n",
    "        'Признаки валидационной выборки:', features_valid.shape, \n",
    "        'Целевой признак валидационной выборки:', target_valid.shape, \n",
    "        'Признаки тестовой выборки:', features_test.shape, \n",
    "        'Целевой признак тестовой выборки:', target_test.shape)"
   ]
  },
  {
   "cell_type": "markdown",
   "metadata": {},
   "source": [
    "### Предварительная визуализация данных"
   ]
  },
  {
   "cell_type": "code",
   "execution_count": 6,
   "metadata": {},
   "outputs": [
    {
     "data": {
      "text/plain": [
       "array([[<matplotlib.axes._subplots.AxesSubplot object at 0x7f39b54ee310>,\n",
       "        <matplotlib.axes._subplots.AxesSubplot object at 0x7f39acc6a990>,\n",
       "        <matplotlib.axes._subplots.AxesSubplot object at 0x7f39acc29bd0>,\n",
       "        <matplotlib.axes._subplots.AxesSubplot object at 0x7f39acbe1810>],\n",
       "       [<matplotlib.axes._subplots.AxesSubplot object at 0x7f39acc13f90>,\n",
       "        <matplotlib.axes._subplots.AxesSubplot object at 0x7f39acbd4850>,\n",
       "        <matplotlib.axes._subplots.AxesSubplot object at 0x7f39acb90cd0>,\n",
       "        <matplotlib.axes._subplots.AxesSubplot object at 0x7f39acb49890>],\n",
       "       [<matplotlib.axes._subplots.AxesSubplot object at 0x7f39acb53410>,\n",
       "        <matplotlib.axes._subplots.AxesSubplot object at 0x7f39acb07d90>,\n",
       "        <matplotlib.axes._subplots.AxesSubplot object at 0x7f39aca7bc50>,\n",
       "        <matplotlib.axes._subplots.AxesSubplot object at 0x7f39aca31910>],\n",
       "       [<matplotlib.axes._subplots.AxesSubplot object at 0x7f39ac9eec90>,\n",
       "        <matplotlib.axes._subplots.AxesSubplot object at 0x7f39ac9a6950>,\n",
       "        <matplotlib.axes._subplots.AxesSubplot object at 0x7f39ac961cd0>,\n",
       "        <matplotlib.axes._subplots.AxesSubplot object at 0x7f39ac999990>]],\n",
       "      dtype=object)"
      ]
     },
     "execution_count": 6,
     "metadata": {},
     "output_type": "execute_result"
    },
    {
     "data": {
      "image/png": "[encoded data removed]",
      "text/plain": [
       "<Figure size 864x864 with 16 Axes>"
      ]
     },
     "metadata": {
      "needs_background": "light"
     },
     "output_type": "display_data"
    }
   ],
   "source": [
    "# визуализируем данные тренировочной выборки\n",
    "pd.plotting.scatter_matrix(features_train, c=target_train, figsize=(12, 12), marker='o', \n",
    "                        hist_kwds={'bins': 20}, s=20, alpha=.8) "
   ]
  },
  {
   "cell_type": "markdown",
   "metadata": {},
   "source": [
    "<div class=\"alert alert-info\">\n",
    "    \n",
    "<font size=\"3\"><b> Взглянув на матрицу, можно предположить, по форме областей тарифов, что у модели машинного \n",
    "обучения хорошие шансы научиться их различать с определенной точностью.\n",
    "     \n",
    "</b></font>\n",
    "    \n",
    "</div>"
   ]
  },
  {
   "cell_type": "markdown",
   "metadata": {},
   "source": [
    "### Обучим модель для решающего дерева"
   ]
  },
  {
   "cell_type": "code",
   "execution_count": 7,
   "metadata": {},
   "outputs": [
    {
     "name": "stdout",
     "output_type": "stream",
     "text": [
      "max_depth = 1 : 0.7542768273716952\n",
      "max_depth = 2 : 0.7822706065318819\n",
      "max_depth = 3 : 0.7853810264385692\n",
      "max_depth = 4 : 0.7791601866251944\n",
      "max_depth = 5 : 0.7791601866251944\n",
      "max_depth = 6 : 0.7838258164852255\n",
      "max_depth = 7 : 0.7822706065318819\n",
      "max_depth = 8 : 0.7791601866251944\n",
      "max_depth = 9 : 0.7822706065318819\n",
      "max_depth = 10 : 0.7744945567651633\n",
      "max_depth = 11 : 0.7620528771384136\n",
      "max_depth = 12 : 0.7620528771384136\n",
      "max_depth = 13 : 0.7558320373250389\n",
      "max_depth = 14 : 0.7589424572317263\n",
      "Лучшая глубина : 3\n",
      "Лучшая точность : 0.7853810264385692\n",
      "Время исполнения кода:  0.1352384090423584 с\n"
     ]
    },
    {
     "data": {
      "text/plain": [
       "'Баланс классов на обучающей выборке: '"
      ]
     },
     "metadata": {},
     "output_type": "display_data"
    },
    {
     "data": {
      "text/plain": [
       "0    0.692427\n",
       "1    0.307573\n",
       "Name: is_ultra, dtype: float64"
      ]
     },
     "metadata": {},
     "output_type": "display_data"
    },
    {
     "data": {
      "text/plain": [
       "'Баланс классов на валидационной выборке: '"
      ]
     },
     "metadata": {},
     "output_type": "display_data"
    },
    {
     "data": {
      "text/plain": [
       "0    0.706065\n",
       "1    0.293935\n",
       "Name: is_ultra, dtype: float64"
      ]
     },
     "metadata": {},
     "output_type": "display_data"
    }
   ],
   "source": [
    "# дополнительно считаю время исполнения кода\n",
    "start_time= time.time()\n",
    "best_model_dt = None\n",
    "best_result_dt = 0\n",
    "best_depth_dt = 1\n",
    "for depth in range(1, 15):\n",
    "    model = DecisionTreeClassifier(random_state=12345, max_depth=depth)# обучаю модель с заданной глубиной\n",
    "    model.fit(features_train, target_train) # обучаю модель на тренировочной выборке\n",
    "    prediction_valid = model.predict(features_valid)# получаю предсказания модели\n",
    "    result = accuracy_score(target_valid, prediction_valid)# считаю качество модели на валидационной выборке\n",
    "    if result > best_result_dt:\n",
    "        best_model_dt = model # сохраняю наилучшую модель\n",
    "        best_result_dt = result#  сохраняю наилучшее значение метрики accuracy на валидационных данных\n",
    "        best_depth_dt = depth\n",
    "    print(\"max_depth =\", depth, \": \", end='')\n",
    "    print(accuracy_score(target_valid, prediction_valid)) \n",
    "\n",
    "print('Лучшая глубина :', best_depth_dt)\n",
    "print('Лучшая точность :', best_result_dt)\n",
    "\n",
    "end_time= time.time()\n",
    "timetaken = end_time - start_time\n",
    "\n",
    "print('Время исполнения кода: ', timetaken, 'с')\n",
    "# смотрим баланс классов на выборках\n",
    "display('Баланс классов на обучающей выборке: ', target_train.value_counts(normalize = 1))\n",
    "display('Баланс классов на валидационной выборке: ',target_valid.value_counts(normalize = 1))"
   ]
  },
  {
   "cell_type": "markdown",
   "metadata": {},
   "source": [
    "<div class=\"alert alert-info\">\n",
    "    \n",
    "<font size=\"3\"><b> Точность больше заданной.  Время почти 0,05 с. Увеличение глубины более 3 уменьшает точность. У обучающей и валидационной выборок наблюдается дисбалланс классов. Ответы 0 ≈ 70% , 1 ≈ 30%. Можно ожидать, что результаты предсказаний моделей будут склоняться к одному варианту ответов.\n",
    "     \n",
    "</b></font>\n",
    "    \n",
    "</div>"
   ]
  },
  {
   "cell_type": "markdown",
   "metadata": {},
   "source": [
    "### Обучим модель для случайного леса"
   ]
  },
  {
   "cell_type": "code",
   "execution_count": 8,
   "metadata": {},
   "outputs": [
    {
     "name": "stdout",
     "output_type": "stream",
     "text": [
      "n_estimators = 1 : 0.7107309486780715\n",
      "n_estimators = 2 : 0.7636080870917574\n",
      "n_estimators = 3 : 0.7387247278382582\n",
      "n_estimators = 4 : 0.7713841368584758\n",
      "n_estimators = 5 : 0.749611197511664\n",
      "n_estimators = 6 : 0.7807153965785381\n",
      "n_estimators = 7 : 0.7682737169517885\n",
      "n_estimators = 8 : 0.7822706065318819\n",
      "n_estimators = 9 : 0.7729393468118196\n",
      "n_estimators = 10 : 0.7853810264385692\n",
      "n_estimators = 11 : 0.7838258164852255\n",
      "n_estimators = 12 : 0.7869362363919129\n",
      "n_estimators = 13 : 0.7822706065318819\n",
      "n_estimators = 14 : 0.7838258164852255\n",
      "n_estimators = 15 : 0.7838258164852255\n",
      "n_estimators = 16 : 0.7869362363919129\n",
      "n_estimators = 17 : 0.7869362363919129\n",
      "n_estimators = 18 : 0.7931570762052877\n",
      "n_estimators = 19 : 0.7884914463452566\n",
      "n_estimators = 20 : 0.7869362363919129\n",
      "n_estimators = 21 : 0.7931570762052877\n",
      "n_estimators = 22 : 0.7884914463452566\n",
      "n_estimators = 23 : 0.7947122861586314\n",
      "n_estimators = 24 : 0.7900466562986003\n",
      "n_estimators = 25 : 0.7838258164852255\n",
      "n_estimators = 26 : 0.7853810264385692\n",
      "n_estimators = 27 : 0.7853810264385692\n",
      "n_estimators = 28 : 0.7838258164852255\n",
      "n_estimators = 29 : 0.7791601866251944\n",
      "Лучшeе количество деревьев : 23\n",
      "Лучшая точность : 0.7947122861586314\n",
      "Время исполнения кода:  2.0402982234954834 с\n"
     ]
    }
   ],
   "source": [
    "start_time= time.time()\n",
    "best_model_rf = None\n",
    "best_result_rf = 0\n",
    "best_n_estimators_rf = 1\n",
    "for est in range(1, 30):\n",
    "    model = RandomForestClassifier(random_state=12345, n_estimators=est) # обучаю модель с заданным количеством деревьев\n",
    "    model.fit(features_train, target_train) # обучаю модель на тренировочной выборке\n",
    "    result = model.score(features_valid, target_valid) # считаю качество модели на валидационной выборке\n",
    "    if result > best_result_rf:\n",
    "        best_model_rf = model # сохраняю наилучшую модель\n",
    "        best_result_rf = result#  сохраняю наилучшее значение метрики accuracy на валидационных данных\n",
    "        best_n_estimators_rf = est\n",
    "    print(\"n_estimators =\", est, \": \", end='')\n",
    "    print(result) \n",
    "        \n",
    "print('Лучшeе количество деревьев :', best_n_estimators_rf)\n",
    "print('Лучшая точность :', best_result_rf)\n",
    "\n",
    "end_time= time.time()\n",
    "timetaken = end_time - start_time\n",
    "\n",
    "print('Время исполнения кода: ', timetaken, 'с')  "
   ]
  },
  {
   "cell_type": "markdown",
   "metadata": {},
   "source": [
    "<div class=\"alert alert-info\">\n",
    "    \n",
    "<font size=\"3\"><b> Точность больше заданной.  Время 2,42 с. Увеличение количества деревьев более 23 уменьшает точность. \n",
    "     \n",
    "</b></font>\n",
    "    \n",
    "</div>"
   ]
  },
  {
   "cell_type": "markdown",
   "metadata": {},
   "source": [
    "### Обучим модель для логистической регрессии"
   ]
  },
  {
   "cell_type": "code",
   "execution_count": 9,
   "metadata": {},
   "outputs": [
    {
     "name": "stdout",
     "output_type": "stream",
     "text": [
      "Лучшая точность : 0.7589424572317263\n",
      "Время исполнения кода:  0.011889934539794922 с\n"
     ]
    }
   ],
   "source": [
    "start_time= time.time()\n",
    "# модель логистической регрессии \n",
    "model_lr = LogisticRegression(random_state=12345, solver='liblinear')\n",
    "# обучаем модель\n",
    "model_lr.fit(features_train, target_train)\n",
    "#  метрика качества модели на валидационной выборке\n",
    "result_lr = model_lr.score(features_valid, target_valid) \n",
    "\n",
    "print('Лучшая точность :', result_lr)\n",
    "\n",
    "end_time= time.time()\n",
    "timetaken = end_time - start_time\n",
    "\n",
    "print('Время исполнения кода: ', timetaken, 'с') \n"
   ]
  },
  {
   "cell_type": "markdown",
   "metadata": {},
   "source": [
    "<div class=\"alert alert-info\">\n",
    "    \n",
    "<font size=\"3\"><b> Точность чуть больше заданной.  Время почти 0,02 с.\n",
    "     \n",
    "</b></font>\n",
    "    \n",
    "</div>"
   ]
  },
  {
   "cell_type": "markdown",
   "metadata": {},
   "source": [
    "### Сводная таблица"
   ]
  },
  {
   "cell_type": "code",
   "execution_count": 10,
   "metadata": {},
   "outputs": [
    {
     "data": {
      "text/html": [
       "<div>\n",
       "<style scoped>\n",
       "    .dataframe tbody tr th:only-of-type {\n",
       "        vertical-align: middle;\n",
       "    }\n",
       "\n",
       "    .dataframe tbody tr th {\n",
       "        vertical-align: top;\n",
       "    }\n",
       "\n",
       "    .dataframe thead th {\n",
       "        text-align: right;\n",
       "    }\n",
       "</style>\n",
       "<table border=\"1\" class=\"dataframe\">\n",
       "  <thead>\n",
       "    <tr style=\"text-align: right;\">\n",
       "      <th></th>\n",
       "      <th>model</th>\n",
       "      <th>accuracy</th>\n",
       "      <th>time</th>\n",
       "      <th>depth_tree</th>\n",
       "    </tr>\n",
       "  </thead>\n",
       "  <tbody>\n",
       "    <tr>\n",
       "      <td>0</td>\n",
       "      <td>DecisionTree</td>\n",
       "      <td>0.785</td>\n",
       "      <td>0.046</td>\n",
       "      <td>3</td>\n",
       "    </tr>\n",
       "    <tr>\n",
       "      <td>1</td>\n",
       "      <td>RandomForest</td>\n",
       "      <td>0.795</td>\n",
       "      <td>2.418</td>\n",
       "      <td>23</td>\n",
       "    </tr>\n",
       "    <tr>\n",
       "      <td>2</td>\n",
       "      <td>LogisticRegression</td>\n",
       "      <td>0.759</td>\n",
       "      <td>0.029</td>\n",
       "      <td>0</td>\n",
       "    </tr>\n",
       "  </tbody>\n",
       "</table>\n",
       "</div>"
      ],
      "text/plain": [
       "                model accuracy   time depth_tree\n",
       "0        DecisionTree    0.785  0.046          3\n",
       "1        RandomForest    0.795  2.418         23\n",
       "2  LogisticRegression    0.759  0.029          0"
      ]
     },
     "metadata": {},
     "output_type": "display_data"
    }
   ],
   "source": [
    "# таблица для удобства\n",
    "data_accuracy=[\n",
    "    ['DecisionTree', '0.785', '0.046', '3'],\n",
    "    ['RandomForest', '0.795', '2.418', '23'],\n",
    "    ['LogisticRegression', '0.759', '0.029', '0'],\n",
    "    ]\n",
    "columns=['model', 'accuracy', 'time', 'depth_tree']\n",
    "results_accuracy = pd.DataFrame(data=data_accuracy, columns=columns)\n",
    "display(results_accuracy) # Таблица с результатами"
   ]
  },
  {
   "cell_type": "markdown",
   "metadata": {},
   "source": [
    "<div class=\"alert alert-info\">\n",
    "    \n",
    "<font size=\"3\"><b> Точность всех трех моделей удовлетворяет заданным условиям. Более высокая точность\n",
    "случайного леса компенсирует более длительное исполнение кода. Хуже всего по точности модель логистической\n",
    "регрессии, но она и самая быстрая. Оптимальнее всего использовать модель решающего дерева - близка по\n",
    "точности к максимальной, скорость выполнения чуть медленнее чем у логистической регрессии.\n",
    "</b></font>\n",
    "    \n",
    "</div>"
   ]
  },
  {
   "cell_type": "markdown",
   "metadata": {},
   "source": [
    "## Проверка модели на тестовой выборке"
   ]
  },
  {
   "cell_type": "markdown",
   "metadata": {},
   "source": [
    "### Проверка тестовой выборки на решающем дереве"
   ]
  },
  {
   "cell_type": "code",
   "execution_count": 11,
   "metadata": {},
   "outputs": [
    {
     "name": "stdout",
     "output_type": "stream",
     "text": [
      "Точность : 0.7791601866251944\n"
     ]
    }
   ],
   "source": [
    "prediction_test = best_model_dt.predict(features_test)# получаю предсказания модели\n",
    "result_dt = accuracy_score(target_test, prediction_test)# считаю качество модели на валидационной выборке\n",
    "\n",
    "print('Точность :', result_dt)\n"
   ]
  },
  {
   "cell_type": "markdown",
   "metadata": {},
   "source": [
    "### Проверка тестовой выборки на случайном лесе"
   ]
  },
  {
   "cell_type": "code",
   "execution_count": 12,
   "metadata": {},
   "outputs": [
    {
     "name": "stdout",
     "output_type": "stream",
     "text": [
      "Точность : 0.7807153965785381\n"
     ]
    }
   ],
   "source": [
    "result_rf = best_model_rf.score(features_test, target_test)\n",
    "\n",
    "print('Точность :', result_rf)"
   ]
  },
  {
   "cell_type": "markdown",
   "metadata": {},
   "source": [
    "### Проверка тестовой выборки на логистической регрессии"
   ]
  },
  {
   "cell_type": "code",
   "execution_count": 13,
   "metadata": {},
   "outputs": [
    {
     "name": "stdout",
     "output_type": "stream",
     "text": [
      "Точность : 0.7402799377916018\n"
     ]
    }
   ],
   "source": [
    "result_lr = model_lr.score(features_test, target_test) \n",
    "\n",
    "print('Точность :', result_lr)"
   ]
  },
  {
   "cell_type": "markdown",
   "metadata": {},
   "source": [
    "<div class=\"alert alert-info\">\n",
    "    \n",
    "<font size=\"3\"><b> Получили значение точность  хуже, чем на валидационной выборке. Заданной точности 0.75 не удовлетворяет.\n",
    "</b></font>\n",
    "    \n",
    "</div>"
   ]
  },
  {
   "cell_type": "markdown",
   "metadata": {},
   "source": [
    "### Сводная таблица"
   ]
  },
  {
   "cell_type": "code",
   "execution_count": 14,
   "metadata": {},
   "outputs": [
    {
     "data": {
      "text/html": [
       "<div>\n",
       "<style scoped>\n",
       "    .dataframe tbody tr th:only-of-type {\n",
       "        vertical-align: middle;\n",
       "    }\n",
       "\n",
       "    .dataframe tbody tr th {\n",
       "        vertical-align: top;\n",
       "    }\n",
       "\n",
       "    .dataframe thead th {\n",
       "        text-align: right;\n",
       "    }\n",
       "</style>\n",
       "<table border=\"1\" class=\"dataframe\">\n",
       "  <thead>\n",
       "    <tr style=\"text-align: right;\">\n",
       "      <th></th>\n",
       "      <th>model</th>\n",
       "      <th>accuracy_train</th>\n",
       "      <th>accuracy_test</th>\n",
       "      <th>time</th>\n",
       "      <th>depth_tree</th>\n",
       "    </tr>\n",
       "  </thead>\n",
       "  <tbody>\n",
       "    <tr>\n",
       "      <td>0</td>\n",
       "      <td>DecisionTree</td>\n",
       "      <td>0.785</td>\n",
       "      <td>0.779</td>\n",
       "      <td>0.046</td>\n",
       "      <td>3</td>\n",
       "    </tr>\n",
       "    <tr>\n",
       "      <td>1</td>\n",
       "      <td>RandomForest</td>\n",
       "      <td>0.795</td>\n",
       "      <td>0.781</td>\n",
       "      <td>2.418</td>\n",
       "      <td>23</td>\n",
       "    </tr>\n",
       "    <tr>\n",
       "      <td>2</td>\n",
       "      <td>LogisticRegression</td>\n",
       "      <td>0.759</td>\n",
       "      <td>0.740</td>\n",
       "      <td>0.029</td>\n",
       "      <td>0</td>\n",
       "    </tr>\n",
       "  </tbody>\n",
       "</table>\n",
       "</div>"
      ],
      "text/plain": [
       "                model accuracy_train accuracy_test   time depth_tree\n",
       "0        DecisionTree          0.785         0.779  0.046          3\n",
       "1        RandomForest          0.795         0.781  2.418         23\n",
       "2  LogisticRegression          0.759         0.740  0.029          0"
      ]
     },
     "metadata": {},
     "output_type": "display_data"
    }
   ],
   "source": [
    "# таблица для удобства\n",
    "data_accuracy=[\n",
    "    ['DecisionTree', '0.785', '0.779', '0.046', '3'],\n",
    "    ['RandomForest', '0.795', '0.781', '2.418', '23'],\n",
    "    ['LogisticRegression', '0.759', '0.740', '0.029', '0'],\n",
    "    ]\n",
    "columns=['model', 'accuracy_train', 'accuracy_test', 'time', 'depth_tree']\n",
    "results_accuracy = pd.DataFrame(data=data_accuracy, columns=columns)\n",
    "display(results_accuracy) # Таблица с результатами"
   ]
  },
  {
   "cell_type": "markdown",
   "metadata": {},
   "source": [
    "<div class=\"alert alert-info\">\n",
    "    \n",
    "<font size=\"3\"><b> В целом на тестовых выборках модели решающего дерева и случайного леса отработали\n",
    "хорошо. в пределах заданной точности.\n",
    "</b></font>\n",
    "    \n",
    "</div>"
   ]
  },
  {
   "cell_type": "markdown",
   "metadata": {},
   "source": [
    "## Проверка модели на адекватность"
   ]
  },
  {
   "cell_type": "markdown",
   "metadata": {},
   "source": [
    "### Проверка модели случайного леса"
   ]
  },
  {
   "cell_type": "markdown",
   "metadata": {},
   "source": [
    "<div class=\"alert alert-info\">\n",
    "    \n",
    "<font size=\"3\"><b> Проверим на адекватность модель случайного леса.\n",
    "</b></font>\n",
    "    \n",
    "</div>"
   ]
  },
  {
   "cell_type": "code",
   "execution_count": 15,
   "metadata": {},
   "outputs": [
    {
     "data": {
      "text/plain": [
       "'Доли ответов:'"
      ]
     },
     "metadata": {},
     "output_type": "display_data"
    },
    {
     "data": {
      "text/plain": [
       "0    0.786936\n",
       "1    0.213064\n",
       "dtype: float64"
      ]
     },
     "metadata": {},
     "output_type": "display_data"
    }
   ],
   "source": [
    "rf_share = pd.Series(best_model_rf.predict(features_valid)).value_counts(normalize = 1)\n",
    "display('Доли ответов:', rf_share)"
   ]
  },
  {
   "cell_type": "markdown",
   "metadata": {},
   "source": [
    "<div class=\"alert alert-info\">\n",
    "    \n",
    "<font size=\"3\"><b> Проверили соотношение ответов, которое нам выдала модель случайного леса.\n",
    "</b></font>\n",
    "    \n",
    "</div>"
   ]
  },
  {
   "cell_type": "code",
   "execution_count": 16,
   "metadata": {},
   "outputs": [
    {
     "data": {
      "text/plain": [
       "array([[414,  40],\n",
       "       [ 92,  97]])"
      ]
     },
     "execution_count": 16,
     "metadata": {},
     "output_type": "execute_result"
    }
   ],
   "source": [
    "# строим матрицу ошибок\n",
    "rf_prediction = best_model_rf.predict(features_valid)\n",
    "confusion_matrix(target_valid, rf_prediction)"
   ]
  },
  {
   "cell_type": "markdown",
   "metadata": {},
   "source": [
    "<div class=\"alert alert-info\">\n",
    "    \n",
    "<font size=\"3\"><b> Случайный лес склонен выдавать негативные предсказания,\n",
    "сильно склоняется к ложно негативным предсказаниям (FN). Модель склонна отдавать предпочтение тарифу Smart.\n",
    "</b></font>\n",
    "    \n",
    "</div>"
   ]
  },
  {
   "cell_type": "code",
   "execution_count": 17,
   "metadata": {},
   "outputs": [
    {
     "name": "stdout",
     "output_type": "stream",
     "text": [
      "Полнота 0.5132275132275133\n",
      "Точность 0.708029197080292\n",
      "F1-мера 0.5950920245398772\n",
      "AUC-ROC 0.7125608931776333\n"
     ]
    }
   ],
   "source": [
    "#метрики для случайного леса\n",
    "print('Полнота' , recall_score(target_valid, rf_prediction))\n",
    "print('Точность', precision_score(target_valid, rf_prediction))\n",
    "print('F1-мера', f1_score(target_valid, rf_prediction))\n",
    "print('AUC-ROC', roc_auc_score(target_valid, rf_prediction))\n",
    "\n"
   ]
  },
  {
   "cell_type": "markdown",
   "metadata": {},
   "source": [
    "<div class=\"alert alert-info\">\n",
    "    \n",
    "<font size=\"3\"><b> Низкое значние F1- меры свидетельствует о низком качестве модели, проблема в полноте.\n",
    "</b></font>\n",
    "    \n",
    "</div>"
   ]
  },
  {
   "cell_type": "markdown",
   "metadata": {},
   "source": [
    "### Проверка модели решающего дерева"
   ]
  },
  {
   "cell_type": "code",
   "execution_count": 18,
   "metadata": {},
   "outputs": [
    {
     "data": {
      "text/plain": [
       "'Доли ответов:'"
      ]
     },
     "metadata": {},
     "output_type": "display_data"
    },
    {
     "data": {
      "text/plain": [
       "0    0.821151\n",
       "1    0.178849\n",
       "dtype: float64"
      ]
     },
     "metadata": {},
     "output_type": "display_data"
    }
   ],
   "source": [
    "dt_share = pd.Series(best_model_dt.predict(features_valid)).value_counts(normalize = 1)\n",
    "display('Доли ответов:', dt_share)"
   ]
  },
  {
   "cell_type": "markdown",
   "metadata": {},
   "source": [
    "<div class=\"alert alert-info\">\n",
    "    \n",
    "<font size=\"3\"><b> Проверили соотношение ответов, которое нам выдала модель.\n",
    "</b></font>\n",
    "    \n",
    "</div>"
   ]
  },
  {
   "cell_type": "code",
   "execution_count": 19,
   "metadata": {},
   "outputs": [
    {
     "data": {
      "text/plain": [
       "array([[422,  32],\n",
       "       [106,  83]])"
      ]
     },
     "execution_count": 19,
     "metadata": {},
     "output_type": "execute_result"
    }
   ],
   "source": [
    "# строим матрицу ошибок\n",
    "dt_prediction = best_model_dt.predict(features_valid)\n",
    "confusion_matrix(target_valid, dt_prediction)"
   ]
  },
  {
   "cell_type": "markdown",
   "metadata": {},
   "source": [
    "<div class=\"alert alert-info\">\n",
    "    \n",
    "<font size=\"3\"><b> Решающее дерево склонно выдавать негативные предсказания, очень\n",
    "сильно склоняется к ложно негативным предсказаниям (FN). \n",
    "    \n",
    "</div>"
   ]
  },
  {
   "cell_type": "code",
   "execution_count": 20,
   "metadata": {},
   "outputs": [
    {
     "name": "stdout",
     "output_type": "stream",
     "text": [
      "Полнота 0.43915343915343913\n",
      "Точность 0.7217391304347827\n",
      "F1-мера 0.5460526315789473\n",
      "AUC-ROC 0.6843344288278208\n"
     ]
    }
   ],
   "source": [
    "#метрики для решающего дерева\n",
    "print('Полнота' , recall_score(target_valid, dt_prediction))\n",
    "print('Точность', precision_score(target_valid, dt_prediction))\n",
    "print('F1-мера', f1_score(target_valid, dt_prediction))\n",
    "print('AUC-ROC', roc_auc_score(target_valid, dt_prediction))"
   ]
  },
  {
   "cell_type": "markdown",
   "metadata": {},
   "source": [
    "<div class=\"alert alert-info\">\n",
    "    \n",
    "<font size=\"3\"><b> Низкое значние F1- меры свидетельствует о низком качестве модели, проблема в полноте.\n",
    "</b></font>\n",
    "    \n",
    "</div>"
   ]
  },
  {
   "cell_type": "markdown",
   "metadata": {},
   "source": [
    "### Проверка модели логистической регрессии"
   ]
  },
  {
   "cell_type": "code",
   "execution_count": 21,
   "metadata": {},
   "outputs": [
    {
     "data": {
      "text/plain": [
       "'Доли ответов:'"
      ]
     },
     "metadata": {},
     "output_type": "display_data"
    },
    {
     "data": {
      "text/plain": [
       "0    0.919129\n",
       "1    0.080871\n",
       "dtype: float64"
      ]
     },
     "metadata": {},
     "output_type": "display_data"
    }
   ],
   "source": [
    "lr_share = pd.Series(model_lr.predict(features_valid)).value_counts(normalize = 1)\n",
    "display('Доли ответов:', lr_share)"
   ]
  },
  {
   "cell_type": "markdown",
   "metadata": {},
   "source": [
    "<div class=\"alert alert-info\">\n",
    "    \n",
    "<font size=\"3\"><b> Проверили соотношение ответов, которое нам выдала модель.\n",
    "</b></font>\n",
    "    \n",
    "</div>"
   ]
  },
  {
   "cell_type": "code",
   "execution_count": 22,
   "metadata": {},
   "outputs": [
    {
     "data": {
      "text/plain": [
       "array([[445,   9],\n",
       "       [146,  43]])"
      ]
     },
     "execution_count": 22,
     "metadata": {},
     "output_type": "execute_result"
    }
   ],
   "source": [
    "# строим матрицу ошибок\n",
    "lr_prediction = model_lr.predict(features_valid)\n",
    "confusion_matrix(target_valid, lr_prediction)"
   ]
  },
  {
   "cell_type": "markdown",
   "metadata": {},
   "source": [
    "<div class=\"alert alert-info\">\n",
    "    \n",
    "<font size=\"3\"><b> Логистическая регрессия склонна выдавать негативные предсказания,\n",
    "очень сильно склоняется к ложно негативным предсказаниям (FN).\n",
    "</b></font>\n",
    "    \n",
    "</div>"
   ]
  },
  {
   "cell_type": "code",
   "execution_count": 23,
   "metadata": {},
   "outputs": [
    {
     "name": "stdout",
     "output_type": "stream",
     "text": [
      "Полнота 0.2275132275132275\n",
      "Точность 0.8269230769230769\n",
      "F1-мера 0.35684647302904565\n",
      "AUC-ROC 0.603844719483486\n"
     ]
    }
   ],
   "source": [
    "#метрики для логистической регрессии\n",
    "print('Полнота' , recall_score(target_valid, lr_prediction))\n",
    "print('Точность', precision_score(target_valid, lr_prediction))\n",
    "print('F1-мера', f1_score(target_valid, lr_prediction))\n",
    "print('AUC-ROC', roc_auc_score(target_valid, lr_prediction))"
   ]
  },
  {
   "cell_type": "markdown",
   "metadata": {},
   "source": [
    "<div class=\"alert alert-info\">\n",
    "    \n",
    "<font size=\"3\"><b> Низкое значние F1- меры свидетельствует о низком качестве модели, проблема в полноте.\n",
    "</b></font>\n",
    "    \n",
    "</div>"
   ]
  },
  {
   "cell_type": "code",
   "execution_count": 24,
   "metadata": {},
   "outputs": [
    {
     "data": {
      "text/html": [
       "<div>\n",
       "<style scoped>\n",
       "    .dataframe tbody tr th:only-of-type {\n",
       "        vertical-align: middle;\n",
       "    }\n",
       "\n",
       "    .dataframe tbody tr th {\n",
       "        vertical-align: top;\n",
       "    }\n",
       "\n",
       "    .dataframe thead th {\n",
       "        text-align: right;\n",
       "    }\n",
       "</style>\n",
       "<table border=\"1\" class=\"dataframe\">\n",
       "  <thead>\n",
       "    <tr style=\"text-align: right;\">\n",
       "      <th></th>\n",
       "      <th>share</th>\n",
       "      <th>accuracy</th>\n",
       "      <th>recall</th>\n",
       "      <th>precision</th>\n",
       "      <th>f1_score</th>\n",
       "      <th>auc_roc</th>\n",
       "    </tr>\n",
       "  </thead>\n",
       "  <tbody>\n",
       "    <tr>\n",
       "      <td>0</td>\n",
       "      <td>DecisionTree</td>\n",
       "      <td>0.785</td>\n",
       "      <td>0.513</td>\n",
       "      <td>0.708</td>\n",
       "      <td>0.595</td>\n",
       "      <td>0.712</td>\n",
       "    </tr>\n",
       "    <tr>\n",
       "      <td>1</td>\n",
       "      <td>RandomForest</td>\n",
       "      <td>0.795</td>\n",
       "      <td>0.439</td>\n",
       "      <td>0.721</td>\n",
       "      <td>0.546</td>\n",
       "      <td>0.684</td>\n",
       "    </tr>\n",
       "    <tr>\n",
       "      <td>2</td>\n",
       "      <td>LogisticRegression</td>\n",
       "      <td>0.759</td>\n",
       "      <td>0.228</td>\n",
       "      <td>0.826</td>\n",
       "      <td>0.356</td>\n",
       "      <td>0.603</td>\n",
       "    </tr>\n",
       "  </tbody>\n",
       "</table>\n",
       "</div>"
      ],
      "text/plain": [
       "                share accuracy recall precision f1_score auc_roc\n",
       "0        DecisionTree    0.785  0.513     0.708    0.595   0.712\n",
       "1        RandomForest    0.795  0.439     0.721    0.546   0.684\n",
       "2  LogisticRegression    0.759  0.228     0.826    0.356   0.603"
      ]
     },
     "metadata": {},
     "output_type": "display_data"
    }
   ],
   "source": [
    "# таблица для удобства\n",
    "data_adequacy=[\n",
    "    ['DecisionTree', '0.785', '0.513', '0.708', '0.595', '0.712'],\n",
    "    ['RandomForest', '0.795', '0.439', '0.721', '0.546', '0.684'],\n",
    "    ['LogisticRegression', '0.759', '0.228', '0.826', '0.356', '0.603'],\n",
    "    ]\n",
    "columns=['share', 'accuracy', 'recall', 'precision', 'f1_score', 'auc_roc']\n",
    "results_adequacy = pd.DataFrame(data=data_adequacy, columns=columns)\n",
    "display(results_adequacy) # Таблица с результатами"
   ]
  },
  {
   "cell_type": "markdown",
   "metadata": {},
   "source": [
    "### Выводы"
   ]
  },
  {
   "cell_type": "markdown",
   "metadata": {},
   "source": [
    "<div class=\"alert alert-info\">\n",
    "    \n",
    "<font size=\"3\"><b> Проведены исследования трех использованных моделей на адекватность. Получены метрики оценки качества модели. Как и в исследованиях на точность классификации (accuracy) наилучшие результаты по метрикам показала модель случайного леса. У нее наиболее высокое значение F1-меры. Более высокие значения точности (precision) моделей решающего дерева и логистической регрессии нивелируются худшими значения полноты и соответственно значениями F1-меры, где мы имеет увеличенное количество ложно отрицательных результатов. Данные по AUC-ROC тоже не слишком хороши у случайного леса, а у остальных моделей просто плохи. У логистической регрессии значение 0,603 на границе между плохим и случайным значениями. Все модели склонны отдавать предпочтению тарифу Smart. Впрочем, ничего удивительного, если еще раз посмотреть на матрицы рассеяния выше, где в левом нижнем углу значения тарифов перекрываются.\n",
    "    \n",
    "В общем случае я отказался бы делать решения на основе любой из трех моделей выше. Очень большой риск потерять клиентов. Обычно модели нужно улучшать. Но в данном случае сама задача по-моему не требует реализации в машинном обучении. Достаточно в данных прописать колоннку с платой за месяц по тарифам, и просто сделать отсечку по 1950 руб между двумя этими тарифами.\n",
    "По поставленным заданиям работа выполнена, в точность классификации 0,75 уложилась модель случайного леса.\n",
    "</b></font>\n",
    "    \n",
    "</div>"
   ]
  },
  {
   "cell_type": "code",
   "execution_count": null,
   "metadata": {},
   "outputs": [],
   "source": []
  }
 ],
 "metadata": {
  "ExecuteTimeLog": [
   {
    "duration": 1136,
    "start_time": "2022-02-14T16:05:57.827Z"
   },
   {
    "duration": 27,
    "start_time": "2022-02-14T16:05:59.370Z"
   },
   {
    "duration": 534,
    "start_time": "2022-02-14T16:06:45.245Z"
   },
   {
    "duration": 257,
    "start_time": "2022-02-14T16:06:52.167Z"
   },
   {
    "duration": 24,
    "start_time": "2022-02-14T16:07:01.615Z"
   },
   {
    "duration": 5,
    "start_time": "2022-02-14T16:12:31.694Z"
   },
   {
    "duration": 16,
    "start_time": "2022-02-14T16:12:54.607Z"
   },
   {
    "duration": 4,
    "start_time": "2022-02-14T16:13:50.973Z"
   },
   {
    "duration": 4,
    "start_time": "2022-02-14T16:39:21.335Z"
   },
   {
    "duration": 28,
    "start_time": "2022-02-14T16:39:26.039Z"
   },
   {
    "duration": 5,
    "start_time": "2022-02-14T16:39:31.088Z"
   },
   {
    "duration": 252,
    "start_time": "2022-02-14T16:39:33.224Z"
   },
   {
    "duration": 238,
    "start_time": "2022-02-14T16:39:53.416Z"
   },
   {
    "duration": 264,
    "start_time": "2022-02-14T16:42:03.070Z"
   },
   {
    "duration": 8,
    "start_time": "2022-02-14T16:44:41.265Z"
   },
   {
    "duration": 6,
    "start_time": "2022-02-14T16:51:26.186Z"
   },
   {
    "duration": 7,
    "start_time": "2022-02-14T16:52:24.633Z"
   },
   {
    "duration": 271,
    "start_time": "2022-02-14T17:05:09.266Z"
   },
   {
    "duration": 1498,
    "start_time": "2022-02-14T17:05:47.795Z"
   },
   {
    "duration": 200,
    "start_time": "2022-02-14T17:05:49.095Z"
   },
   {
    "duration": 199,
    "start_time": "2022-02-14T17:05:49.097Z"
   },
   {
    "duration": 165,
    "start_time": "2022-02-14T17:05:49.132Z"
   },
   {
    "duration": 165,
    "start_time": "2022-02-14T17:05:49.133Z"
   },
   {
    "duration": 164,
    "start_time": "2022-02-14T17:05:49.135Z"
   },
   {
    "duration": 163,
    "start_time": "2022-02-14T17:05:49.136Z"
   },
   {
    "duration": 162,
    "start_time": "2022-02-14T17:05:49.138Z"
   },
   {
    "duration": 4,
    "start_time": "2022-02-14T17:07:09.063Z"
   },
   {
    "duration": 4,
    "start_time": "2022-02-14T17:07:11.574Z"
   },
   {
    "duration": 1116,
    "start_time": "2022-02-14T17:07:20.544Z"
   },
   {
    "duration": 28,
    "start_time": "2022-02-14T17:07:21.662Z"
   },
   {
    "duration": 5,
    "start_time": "2022-02-14T17:07:21.693Z"
   },
   {
    "duration": 18,
    "start_time": "2022-02-14T17:07:21.700Z"
   },
   {
    "duration": 9,
    "start_time": "2022-02-14T17:07:21.720Z"
   },
   {
    "duration": 32,
    "start_time": "2022-02-14T17:07:21.730Z"
   },
   {
    "duration": 347,
    "start_time": "2022-02-14T17:07:21.764Z"
   },
   {
    "duration": 204,
    "start_time": "2022-02-14T17:07:21.909Z"
   },
   {
    "duration": 3,
    "start_time": "2022-02-14T17:07:54.663Z"
   },
   {
    "duration": 1104,
    "start_time": "2022-02-14T17:07:58.966Z"
   },
   {
    "duration": 34,
    "start_time": "2022-02-14T17:08:00.072Z"
   },
   {
    "duration": 4,
    "start_time": "2022-02-14T17:08:00.109Z"
   },
   {
    "duration": 15,
    "start_time": "2022-02-14T17:08:00.119Z"
   },
   {
    "duration": 30,
    "start_time": "2022-02-14T17:08:00.136Z"
   },
   {
    "duration": 47,
    "start_time": "2022-02-14T17:08:00.168Z"
   },
   {
    "duration": 244,
    "start_time": "2022-02-14T17:08:00.217Z"
   },
   {
    "duration": 336,
    "start_time": "2022-02-14T17:08:00.464Z"
   },
   {
    "duration": 1088,
    "start_time": "2022-02-14T17:09:38.111Z"
   },
   {
    "duration": 36,
    "start_time": "2022-02-14T17:09:39.201Z"
   },
   {
    "duration": 5,
    "start_time": "2022-02-14T17:09:39.239Z"
   },
   {
    "duration": 8,
    "start_time": "2022-02-14T17:09:39.247Z"
   },
   {
    "duration": 8,
    "start_time": "2022-02-14T17:09:39.256Z"
   },
   {
    "duration": 31,
    "start_time": "2022-02-14T17:09:39.266Z"
   },
   {
    "duration": 227,
    "start_time": "2022-02-14T17:09:39.319Z"
   },
   {
    "duration": 14,
    "start_time": "2022-02-14T17:09:39.548Z"
   },
   {
    "duration": 84,
    "start_time": "2022-02-14T17:12:37.702Z"
   },
   {
    "duration": 188,
    "start_time": "2022-02-14T17:12:37.601Z"
   },
   {
    "duration": 188,
    "start_time": "2022-02-14T17:12:37.602Z"
   },
   {
    "duration": 187,
    "start_time": "2022-02-14T17:12:37.604Z"
   },
   {
    "duration": 150,
    "start_time": "2022-02-14T17:12:37.642Z"
   },
   {
    "duration": 146,
    "start_time": "2022-02-14T17:12:37.646Z"
   },
   {
    "duration": 147,
    "start_time": "2022-02-14T17:12:37.647Z"
   },
   {
    "duration": 147,
    "start_time": "2022-02-14T17:12:37.648Z"
   },
   {
    "duration": 1032,
    "start_time": "2022-02-14T17:13:38.741Z"
   },
   {
    "duration": 39,
    "start_time": "2022-02-14T17:13:39.775Z"
   },
   {
    "duration": 5,
    "start_time": "2022-02-14T17:13:39.818Z"
   },
   {
    "duration": 10,
    "start_time": "2022-02-14T17:13:39.825Z"
   },
   {
    "duration": 7,
    "start_time": "2022-02-14T17:13:39.837Z"
   },
   {
    "duration": 32,
    "start_time": "2022-02-14T17:13:39.845Z"
   },
   {
    "duration": 258,
    "start_time": "2022-02-14T17:13:39.879Z"
   },
   {
    "duration": 14,
    "start_time": "2022-02-14T17:13:40.139Z"
   },
   {
    "duration": 356,
    "start_time": "2022-02-14T17:22:02.786Z"
   },
   {
    "duration": 30,
    "start_time": "2022-02-14T17:22:57.282Z"
   },
   {
    "duration": 296,
    "start_time": "2022-02-14T17:23:22.793Z"
   },
   {
    "duration": 31,
    "start_time": "2022-02-14T17:23:59.473Z"
   },
   {
    "duration": 313,
    "start_time": "2022-02-14T17:24:18.232Z"
   },
   {
    "duration": 1194,
    "start_time": "2022-02-14T17:24:33.183Z"
   },
   {
    "duration": 29,
    "start_time": "2022-02-14T17:24:34.379Z"
   },
   {
    "duration": 5,
    "start_time": "2022-02-14T17:24:34.418Z"
   },
   {
    "duration": 16,
    "start_time": "2022-02-14T17:24:34.425Z"
   },
   {
    "duration": 11,
    "start_time": "2022-02-14T17:24:34.443Z"
   },
   {
    "duration": 391,
    "start_time": "2022-02-14T17:24:34.456Z"
   },
   {
    "duration": 178,
    "start_time": "2022-02-14T17:24:34.671Z"
   },
   {
    "duration": 178,
    "start_time": "2022-02-14T17:24:34.672Z"
   },
   {
    "duration": 29,
    "start_time": "2022-02-14T17:25:12.420Z"
   },
   {
    "duration": 28,
    "start_time": "2022-02-14T17:25:26.267Z"
   },
   {
    "duration": 31,
    "start_time": "2022-02-14T17:25:34.043Z"
   },
   {
    "duration": 34,
    "start_time": "2022-02-14T17:25:54.061Z"
   },
   {
    "duration": 1000,
    "start_time": "2022-02-14T17:26:21.771Z"
   },
   {
    "duration": 28,
    "start_time": "2022-02-14T17:26:22.773Z"
   },
   {
    "duration": 4,
    "start_time": "2022-02-14T17:26:22.803Z"
   },
   {
    "duration": 16,
    "start_time": "2022-02-14T17:26:22.808Z"
   },
   {
    "duration": 10,
    "start_time": "2022-02-14T17:26:22.826Z"
   },
   {
    "duration": 35,
    "start_time": "2022-02-14T17:26:22.838Z"
   },
   {
    "duration": 266,
    "start_time": "2022-02-14T17:26:22.874Z"
   },
   {
    "duration": 14,
    "start_time": "2022-02-14T17:26:23.142Z"
   },
   {
    "duration": 1171,
    "start_time": "2022-02-14T17:26:58.092Z"
   },
   {
    "duration": 31,
    "start_time": "2022-02-14T17:26:59.265Z"
   },
   {
    "duration": 4,
    "start_time": "2022-02-14T17:26:59.299Z"
   },
   {
    "duration": 19,
    "start_time": "2022-02-14T17:26:59.306Z"
   },
   {
    "duration": 9,
    "start_time": "2022-02-14T17:26:59.326Z"
   },
   {
    "duration": 509,
    "start_time": "2022-02-14T17:26:59.336Z"
   },
   {
    "duration": 139,
    "start_time": "2022-02-14T17:26:59.708Z"
   },
   {
    "duration": 136,
    "start_time": "2022-02-14T17:26:59.712Z"
   },
   {
    "duration": 1095,
    "start_time": "2022-02-14T17:27:22.921Z"
   },
   {
    "duration": 30,
    "start_time": "2022-02-14T17:27:24.018Z"
   },
   {
    "duration": 5,
    "start_time": "2022-02-14T17:27:24.051Z"
   },
   {
    "duration": 11,
    "start_time": "2022-02-14T17:27:24.058Z"
   },
   {
    "duration": 9,
    "start_time": "2022-02-14T17:27:24.070Z"
   },
   {
    "duration": 45,
    "start_time": "2022-02-14T17:27:24.080Z"
   },
   {
    "duration": 241,
    "start_time": "2022-02-14T17:27:24.128Z"
   },
   {
    "duration": 16,
    "start_time": "2022-02-14T17:27:24.372Z"
   },
   {
    "duration": 1052,
    "start_time": "2022-02-14T17:27:39.228Z"
   },
   {
    "duration": 30,
    "start_time": "2022-02-14T17:27:40.283Z"
   },
   {
    "duration": 5,
    "start_time": "2022-02-14T17:27:40.315Z"
   },
   {
    "duration": 27,
    "start_time": "2022-02-14T17:27:40.322Z"
   },
   {
    "duration": 17,
    "start_time": "2022-02-14T17:27:40.352Z"
   },
   {
    "duration": 35,
    "start_time": "2022-02-14T17:27:40.370Z"
   },
   {
    "duration": 251,
    "start_time": "2022-02-14T17:27:40.407Z"
   },
   {
    "duration": 14,
    "start_time": "2022-02-14T17:27:40.660Z"
   },
   {
    "duration": 1009,
    "start_time": "2022-02-14T17:28:17.653Z"
   },
   {
    "duration": 29,
    "start_time": "2022-02-14T17:28:18.664Z"
   },
   {
    "duration": 4,
    "start_time": "2022-02-14T17:28:18.695Z"
   },
   {
    "duration": 20,
    "start_time": "2022-02-14T17:28:18.701Z"
   },
   {
    "duration": 6,
    "start_time": "2022-02-14T17:28:18.723Z"
   },
   {
    "duration": 27,
    "start_time": "2022-02-14T17:28:18.730Z"
   },
   {
    "duration": 236,
    "start_time": "2022-02-14T17:28:18.758Z"
   },
   {
    "duration": 23,
    "start_time": "2022-02-14T17:28:18.997Z"
   },
   {
    "duration": 382,
    "start_time": "2022-02-14T17:29:24.275Z"
   },
   {
    "duration": 27,
    "start_time": "2022-02-14T17:29:44.394Z"
   },
   {
    "duration": 1030,
    "start_time": "2022-02-14T17:33:59.040Z"
   },
   {
    "duration": 32,
    "start_time": "2022-02-14T17:34:00.072Z"
   },
   {
    "duration": 15,
    "start_time": "2022-02-14T17:34:00.106Z"
   },
   {
    "duration": 21,
    "start_time": "2022-02-14T17:34:00.123Z"
   },
   {
    "duration": 6,
    "start_time": "2022-02-14T17:34:00.146Z"
   },
   {
    "duration": 32,
    "start_time": "2022-02-14T17:34:00.154Z"
   },
   {
    "duration": 683,
    "start_time": "2022-02-14T17:34:00.188Z"
   },
   {
    "duration": 161,
    "start_time": "2022-02-14T17:34:00.712Z"
   },
   {
    "duration": 249,
    "start_time": "2022-02-14T17:34:36.982Z"
   },
   {
    "duration": 4690,
    "start_time": "2022-02-14T17:34:56.135Z"
   },
   {
    "duration": 18806,
    "start_time": "2022-02-14T17:35:11.517Z"
   },
   {
    "duration": 74789,
    "start_time": "2022-02-14T17:35:37.742Z"
   },
   {
    "duration": 1002,
    "start_time": "2022-02-14T17:37:04.069Z"
   },
   {
    "duration": 36,
    "start_time": "2022-02-14T17:37:05.074Z"
   },
   {
    "duration": 8,
    "start_time": "2022-02-14T17:37:05.112Z"
   },
   {
    "duration": 12,
    "start_time": "2022-02-14T17:37:05.122Z"
   },
   {
    "duration": 7,
    "start_time": "2022-02-14T17:37:05.136Z"
   },
   {
    "duration": 31,
    "start_time": "2022-02-14T17:37:05.145Z"
   },
   {
    "duration": 1703,
    "start_time": "2022-02-14T17:37:05.178Z"
   },
   {
    "duration": 14,
    "start_time": "2022-02-14T17:37:06.884Z"
   },
   {
    "duration": 50,
    "start_time": "2022-02-14T17:37:28.360Z"
   },
   {
    "duration": 316,
    "start_time": "2022-02-14T17:37:35.440Z"
   },
   {
    "duration": 26,
    "start_time": "2022-02-14T17:37:41.855Z"
   },
   {
    "duration": 510,
    "start_time": "2022-02-14T17:42:33.531Z"
   },
   {
    "duration": 1125,
    "start_time": "2022-02-14T17:43:46.112Z"
   },
   {
    "duration": 30,
    "start_time": "2022-02-14T17:43:47.239Z"
   },
   {
    "duration": 4,
    "start_time": "2022-02-14T17:43:47.274Z"
   },
   {
    "duration": 9,
    "start_time": "2022-02-14T17:43:47.280Z"
   },
   {
    "duration": 5,
    "start_time": "2022-02-14T17:43:47.291Z"
   },
   {
    "duration": 582,
    "start_time": "2022-02-14T17:43:47.298Z"
   },
   {
    "duration": 149,
    "start_time": "2022-02-14T17:43:47.734Z"
   },
   {
    "duration": 148,
    "start_time": "2022-02-14T17:43:47.736Z"
   },
   {
    "duration": 430,
    "start_time": "2022-02-14T17:44:54.295Z"
   },
   {
    "duration": 429,
    "start_time": "2022-02-14T17:46:31.309Z"
   },
   {
    "duration": 539,
    "start_time": "2022-02-14T17:46:58.566Z"
   },
   {
    "duration": 2681,
    "start_time": "2022-02-14T17:47:49.090Z"
   },
   {
    "duration": 2646,
    "start_time": "2022-02-14T17:48:09.376Z"
   },
   {
    "duration": 173663,
    "start_time": "2022-02-14T17:50:05.617Z"
   },
   {
    "duration": 1743,
    "start_time": "2022-02-14T17:53:57.045Z"
   },
   {
    "duration": 1621,
    "start_time": "2022-02-15T16:56:16.503Z"
   },
   {
    "duration": 52,
    "start_time": "2022-02-15T16:56:18.127Z"
   },
   {
    "duration": 5,
    "start_time": "2022-02-15T16:56:18.182Z"
   },
   {
    "duration": 22,
    "start_time": "2022-02-15T16:56:18.191Z"
   },
   {
    "duration": 10,
    "start_time": "2022-02-15T16:56:18.216Z"
   },
   {
    "duration": 607,
    "start_time": "2022-02-15T16:56:18.229Z"
   },
   {
    "duration": -124,
    "start_time": "2022-02-15T16:56:18.962Z"
   },
   {
    "duration": -123,
    "start_time": "2022-02-15T16:56:18.963Z"
   },
   {
    "duration": -155,
    "start_time": "2022-02-15T16:56:18.996Z"
   },
   {
    "duration": 424,
    "start_time": "2022-02-15T16:57:52.541Z"
   },
   {
    "duration": 398,
    "start_time": "2022-02-15T16:58:38.558Z"
   },
   {
    "duration": 4668,
    "start_time": "2022-02-15T16:59:13.524Z"
   },
   {
    "duration": 4145,
    "start_time": "2022-02-15T16:59:51.860Z"
   },
   {
    "duration": 3219,
    "start_time": "2022-02-15T17:00:28.707Z"
   },
   {
    "duration": 3579,
    "start_time": "2022-02-15T17:00:40.459Z"
   },
   {
    "duration": 3902,
    "start_time": "2022-02-15T17:01:41.993Z"
   },
   {
    "duration": 3579,
    "start_time": "2022-02-15T17:01:56.233Z"
   },
   {
    "duration": 129,
    "start_time": "2022-02-15T17:07:14.243Z"
   },
   {
    "duration": 1540,
    "start_time": "2022-02-15T17:08:46.072Z"
   },
   {
    "duration": 42,
    "start_time": "2022-02-15T17:08:47.614Z"
   },
   {
    "duration": 6,
    "start_time": "2022-02-15T17:08:47.659Z"
   },
   {
    "duration": 9,
    "start_time": "2022-02-15T17:08:47.667Z"
   },
   {
    "duration": 32,
    "start_time": "2022-02-15T17:08:47.679Z"
   },
   {
    "duration": 3122,
    "start_time": "2022-02-15T17:08:47.714Z"
   },
   {
    "duration": 3956,
    "start_time": "2022-02-15T17:08:50.839Z"
   },
   {
    "duration": 257162,
    "start_time": "2022-02-15T17:08:54.798Z"
   },
   {
    "duration": 541,
    "start_time": "2022-02-15T17:13:11.964Z"
   },
   {
    "duration": 32,
    "start_time": "2022-02-15T17:13:40.027Z"
   },
   {
    "duration": 1491,
    "start_time": "2022-02-15T17:15:18.156Z"
   },
   {
    "duration": 38,
    "start_time": "2022-02-15T17:15:19.651Z"
   },
   {
    "duration": 5,
    "start_time": "2022-02-15T17:15:19.694Z"
   },
   {
    "duration": 15,
    "start_time": "2022-02-15T17:15:19.702Z"
   },
   {
    "duration": 9,
    "start_time": "2022-02-15T17:15:19.720Z"
   },
   {
    "duration": 4018,
    "start_time": "2022-02-15T17:15:19.732Z"
   },
   {
    "duration": 62,
    "start_time": "2022-02-15T17:15:23.752Z"
   },
   {
    "duration": 2518,
    "start_time": "2022-02-15T17:15:23.816Z"
   },
   {
    "duration": 23,
    "start_time": "2022-02-15T17:15:26.338Z"
   },
   {
    "duration": 37,
    "start_time": "2022-02-15T17:26:19.167Z"
   },
   {
    "duration": 36,
    "start_time": "2022-02-15T17:26:28.192Z"
   },
   {
    "duration": 1543,
    "start_time": "2022-02-15T17:35:21.367Z"
   },
   {
    "duration": 13,
    "start_time": "2022-02-15T17:35:50.165Z"
   },
   {
    "duration": 1385,
    "start_time": "2022-02-15T17:50:06.246Z"
   },
   {
    "duration": 56,
    "start_time": "2022-02-15T17:50:07.633Z"
   },
   {
    "duration": 6,
    "start_time": "2022-02-15T17:50:07.691Z"
   },
   {
    "duration": 11,
    "start_time": "2022-02-15T17:50:07.699Z"
   },
   {
    "duration": 10,
    "start_time": "2022-02-15T17:50:07.713Z"
   },
   {
    "duration": 3360,
    "start_time": "2022-02-15T17:50:07.725Z"
   },
   {
    "duration": 529,
    "start_time": "2022-02-15T17:50:11.087Z"
   },
   {
    "duration": -1005,
    "start_time": "2022-02-15T17:50:12.624Z"
   },
   {
    "duration": -1006,
    "start_time": "2022-02-15T17:50:12.627Z"
   },
   {
    "duration": -1007,
    "start_time": "2022-02-15T17:50:12.629Z"
   },
   {
    "duration": -1006,
    "start_time": "2022-02-15T17:50:12.630Z"
   },
   {
    "duration": 1488,
    "start_time": "2022-02-15T17:50:53.400Z"
   },
   {
    "duration": 60,
    "start_time": "2022-02-15T17:50:54.891Z"
   },
   {
    "duration": 6,
    "start_time": "2022-02-15T17:50:54.954Z"
   },
   {
    "duration": 12,
    "start_time": "2022-02-15T17:50:54.963Z"
   },
   {
    "duration": 38,
    "start_time": "2022-02-15T17:50:54.978Z"
   },
   {
    "duration": 3440,
    "start_time": "2022-02-15T17:50:55.019Z"
   },
   {
    "duration": 86,
    "start_time": "2022-02-15T17:50:58.463Z"
   },
   {
    "duration": 2455,
    "start_time": "2022-02-15T17:50:58.552Z"
   },
   {
    "duration": 537,
    "start_time": "2022-02-15T17:51:01.011Z"
   },
   {
    "duration": -195,
    "start_time": "2022-02-15T17:51:01.746Z"
   },
   {
    "duration": -196,
    "start_time": "2022-02-15T17:51:01.748Z"
   },
   {
    "duration": 33,
    "start_time": "2022-02-15T17:52:15.712Z"
   },
   {
    "duration": 1691,
    "start_time": "2022-02-15T17:52:33.859Z"
   },
   {
    "duration": 76,
    "start_time": "2022-02-15T17:52:35.554Z"
   },
   {
    "duration": 8,
    "start_time": "2022-02-15T17:52:35.635Z"
   },
   {
    "duration": 15,
    "start_time": "2022-02-15T17:52:35.647Z"
   },
   {
    "duration": 13,
    "start_time": "2022-02-15T17:52:35.665Z"
   },
   {
    "duration": 3540,
    "start_time": "2022-02-15T17:52:35.680Z"
   },
   {
    "duration": 50,
    "start_time": "2022-02-15T17:52:39.223Z"
   },
   {
    "duration": 2484,
    "start_time": "2022-02-15T17:52:39.275Z"
   },
   {
    "duration": 25,
    "start_time": "2022-02-15T17:52:41.764Z"
   },
   {
    "duration": 14,
    "start_time": "2022-02-15T17:52:41.812Z"
   },
   {
    "duration": 9,
    "start_time": "2022-02-15T17:52:41.829Z"
   },
   {
    "duration": 1432,
    "start_time": "2022-02-15T17:54:22.447Z"
   },
   {
    "duration": 58,
    "start_time": "2022-02-15T17:54:23.881Z"
   },
   {
    "duration": 6,
    "start_time": "2022-02-15T17:54:23.942Z"
   },
   {
    "duration": 10,
    "start_time": "2022-02-15T17:54:23.952Z"
   },
   {
    "duration": 8,
    "start_time": "2022-02-15T17:54:23.965Z"
   },
   {
    "duration": 3615,
    "start_time": "2022-02-15T17:54:23.976Z"
   },
   {
    "duration": 53,
    "start_time": "2022-02-15T17:54:27.593Z"
   },
   {
    "duration": 2426,
    "start_time": "2022-02-15T17:54:27.652Z"
   },
   {
    "duration": 35,
    "start_time": "2022-02-15T17:54:30.081Z"
   },
   {
    "duration": 13,
    "start_time": "2022-02-15T17:54:30.119Z"
   },
   {
    "duration": 17,
    "start_time": "2022-02-15T17:54:30.135Z"
   },
   {
    "duration": 14,
    "start_time": "2022-02-15T17:55:54.440Z"
   },
   {
    "duration": 13,
    "start_time": "2022-02-15T17:59:45.254Z"
   },
   {
    "duration": 25,
    "start_time": "2022-02-15T18:03:00.704Z"
   },
   {
    "duration": 1521,
    "start_time": "2022-02-15T18:05:20.020Z"
   },
   {
    "duration": 55,
    "start_time": "2022-02-15T18:05:21.544Z"
   },
   {
    "duration": 5,
    "start_time": "2022-02-15T18:05:21.602Z"
   },
   {
    "duration": 11,
    "start_time": "2022-02-15T18:05:21.610Z"
   },
   {
    "duration": 8,
    "start_time": "2022-02-15T18:05:21.624Z"
   },
   {
    "duration": 3562,
    "start_time": "2022-02-15T18:05:21.634Z"
   },
   {
    "duration": 46,
    "start_time": "2022-02-15T18:05:25.198Z"
   },
   {
    "duration": 2394,
    "start_time": "2022-02-15T18:05:25.247Z"
   },
   {
    "duration": 22,
    "start_time": "2022-02-15T18:05:27.645Z"
   },
   {
    "duration": 13,
    "start_time": "2022-02-15T18:05:27.669Z"
   },
   {
    "duration": 9,
    "start_time": "2022-02-15T18:05:27.711Z"
   },
   {
    "duration": 13,
    "start_time": "2022-02-15T18:05:27.722Z"
   },
   {
    "duration": 7,
    "start_time": "2022-02-15T18:05:27.738Z"
   },
   {
    "duration": 596,
    "start_time": "2022-02-15T18:09:09.074Z"
   },
   {
    "duration": 16,
    "start_time": "2022-02-15T18:09:50.097Z"
   },
   {
    "duration": 1443,
    "start_time": "2022-02-15T18:11:12.301Z"
   },
   {
    "duration": 67,
    "start_time": "2022-02-15T18:11:13.748Z"
   },
   {
    "duration": 7,
    "start_time": "2022-02-15T18:11:13.819Z"
   },
   {
    "duration": 12,
    "start_time": "2022-02-15T18:11:13.829Z"
   },
   {
    "duration": 10,
    "start_time": "2022-02-15T18:11:13.844Z"
   },
   {
    "duration": 4217,
    "start_time": "2022-02-15T18:11:13.856Z"
   },
   {
    "duration": 122,
    "start_time": "2022-02-15T18:11:18.087Z"
   },
   {
    "duration": 3059,
    "start_time": "2022-02-15T18:11:18.214Z"
   },
   {
    "duration": 43,
    "start_time": "2022-02-15T18:11:21.277Z"
   },
   {
    "duration": 17,
    "start_time": "2022-02-15T18:11:21.324Z"
   },
   {
    "duration": 15,
    "start_time": "2022-02-15T18:11:21.343Z"
   },
   {
    "duration": 15,
    "start_time": "2022-02-15T18:11:21.361Z"
   },
   {
    "duration": 36,
    "start_time": "2022-02-15T18:11:21.379Z"
   },
   {
    "duration": 17,
    "start_time": "2022-02-15T18:11:21.418Z"
   },
   {
    "duration": 46,
    "start_time": "2022-02-15T18:17:46.027Z"
   },
   {
    "duration": 77,
    "start_time": "2022-02-15T18:18:55.402Z"
   },
   {
    "duration": 146,
    "start_time": "2022-02-15T18:19:09.338Z"
   },
   {
    "duration": 2684,
    "start_time": "2022-02-15T18:23:53.280Z"
   },
   {
    "duration": 2670,
    "start_time": "2022-02-15T18:25:42.819Z"
   },
   {
    "duration": 3665,
    "start_time": "2022-02-15T18:26:26.770Z"
   },
   {
    "duration": 3122,
    "start_time": "2022-02-15T18:27:56.552Z"
   },
   {
    "duration": 2915,
    "start_time": "2022-02-15T18:29:09.311Z"
   },
   {
    "duration": 9111,
    "start_time": "2022-02-15T18:29:52.518Z"
   },
   {
    "duration": 128853,
    "start_time": "2022-02-15T18:30:13.229Z"
   },
   {
    "duration": 2734,
    "start_time": "2022-02-15T18:32:33.186Z"
   },
   {
    "duration": 1505,
    "start_time": "2022-02-16T16:45:27.933Z"
   },
   {
    "duration": 47,
    "start_time": "2022-02-16T16:45:29.442Z"
   },
   {
    "duration": 7,
    "start_time": "2022-02-16T16:45:29.498Z"
   },
   {
    "duration": 14,
    "start_time": "2022-02-16T16:45:29.508Z"
   },
   {
    "duration": 46,
    "start_time": "2022-02-16T16:45:29.526Z"
   },
   {
    "duration": 3375,
    "start_time": "2022-02-16T16:45:29.575Z"
   },
   {
    "duration": 198,
    "start_time": "2022-02-16T16:45:32.954Z"
   },
   {
    "duration": 3306,
    "start_time": "2022-02-16T16:45:33.155Z"
   },
   {
    "duration": 26,
    "start_time": "2022-02-16T16:45:36.469Z"
   },
   {
    "duration": 15,
    "start_time": "2022-02-16T16:45:36.497Z"
   },
   {
    "duration": 16,
    "start_time": "2022-02-16T16:45:36.515Z"
   },
   {
    "duration": 20,
    "start_time": "2022-02-16T16:45:36.570Z"
   },
   {
    "duration": 9,
    "start_time": "2022-02-16T16:45:36.594Z"
   },
   {
    "duration": 31,
    "start_time": "2022-02-16T16:45:36.609Z"
   },
   {
    "duration": 136,
    "start_time": "2022-02-16T16:45:36.643Z"
   },
   {
    "duration": 85,
    "start_time": "2022-02-16T16:52:32.283Z"
   },
   {
    "duration": 35,
    "start_time": "2022-02-16T16:53:08.723Z"
   },
   {
    "duration": 2637,
    "start_time": "2022-02-16T16:57:18.623Z"
   },
   {
    "duration": 2664,
    "start_time": "2022-02-16T16:58:20.453Z"
   },
   {
    "duration": 62,
    "start_time": "2022-02-16T17:02:35.821Z"
   },
   {
    "duration": 248,
    "start_time": "2022-02-16T17:08:07.608Z"
   },
   {
    "duration": 559,
    "start_time": "2022-02-16T17:12:19.466Z"
   },
   {
    "duration": 164,
    "start_time": "2022-02-16T17:12:42.691Z"
   },
   {
    "duration": 138,
    "start_time": "2022-02-16T17:13:27.490Z"
   },
   {
    "duration": 152,
    "start_time": "2022-02-16T17:14:14.057Z"
   },
   {
    "duration": 26,
    "start_time": "2022-02-16T17:33:12.171Z"
   },
   {
    "duration": 9,
    "start_time": "2022-02-16T17:34:50.097Z"
   },
   {
    "duration": 8,
    "start_time": "2022-02-16T17:35:23.682Z"
   },
   {
    "duration": 283,
    "start_time": "2022-02-16T17:38:31.502Z"
   },
   {
    "duration": 1404,
    "start_time": "2022-02-16T17:39:42.528Z"
   },
   {
    "duration": 57,
    "start_time": "2022-02-16T17:39:43.935Z"
   },
   {
    "duration": 6,
    "start_time": "2022-02-16T17:39:43.995Z"
   },
   {
    "duration": 16,
    "start_time": "2022-02-16T17:39:44.004Z"
   },
   {
    "duration": 65,
    "start_time": "2022-02-16T17:39:44.022Z"
   },
   {
    "duration": 3707,
    "start_time": "2022-02-16T17:39:44.090Z"
   },
   {
    "duration": 222,
    "start_time": "2022-02-16T17:39:47.801Z"
   },
   {
    "duration": 2790,
    "start_time": "2022-02-16T17:39:48.027Z"
   },
   {
    "duration": 25,
    "start_time": "2022-02-16T17:39:50.820Z"
   },
   {
    "duration": 41,
    "start_time": "2022-02-16T17:39:50.848Z"
   },
   {
    "duration": 21,
    "start_time": "2022-02-16T17:39:50.892Z"
   },
   {
    "duration": 33,
    "start_time": "2022-02-16T17:39:50.917Z"
   },
   {
    "duration": 20,
    "start_time": "2022-02-16T17:39:50.953Z"
   },
   {
    "duration": 34,
    "start_time": "2022-02-16T17:39:50.977Z"
   },
   {
    "duration": 34,
    "start_time": "2022-02-16T17:39:51.013Z"
   },
   {
    "duration": 14,
    "start_time": "2022-02-16T17:39:51.049Z"
   },
   {
    "duration": 33,
    "start_time": "2022-02-16T17:39:51.065Z"
   },
   {
    "duration": 25,
    "start_time": "2022-02-16T17:39:51.101Z"
   },
   {
    "duration": 482,
    "start_time": "2022-02-16T18:02:15.246Z"
   },
   {
    "duration": 1680,
    "start_time": "2022-02-16T18:03:34.344Z"
   },
   {
    "duration": 68,
    "start_time": "2022-02-16T18:03:36.029Z"
   },
   {
    "duration": 12,
    "start_time": "2022-02-16T18:03:36.104Z"
   },
   {
    "duration": 20,
    "start_time": "2022-02-16T18:03:36.120Z"
   },
   {
    "duration": 60,
    "start_time": "2022-02-16T18:03:36.144Z"
   },
   {
    "duration": 4406,
    "start_time": "2022-02-16T18:03:36.207Z"
   },
   {
    "duration": 222,
    "start_time": "2022-02-16T18:03:40.615Z"
   },
   {
    "duration": 2872,
    "start_time": "2022-02-16T18:03:40.840Z"
   },
   {
    "duration": 24,
    "start_time": "2022-02-16T18:03:43.715Z"
   },
   {
    "duration": 40,
    "start_time": "2022-02-16T18:03:43.741Z"
   },
   {
    "duration": 35,
    "start_time": "2022-02-16T18:03:43.785Z"
   },
   {
    "duration": 16,
    "start_time": "2022-02-16T18:03:43.822Z"
   },
   {
    "duration": 7,
    "start_time": "2022-02-16T18:03:43.841Z"
   },
   {
    "duration": 45,
    "start_time": "2022-02-16T18:03:43.851Z"
   },
   {
    "duration": 22,
    "start_time": "2022-02-16T18:03:43.899Z"
   },
   {
    "duration": 6,
    "start_time": "2022-02-16T18:03:43.923Z"
   },
   {
    "duration": 7,
    "start_time": "2022-02-16T18:03:43.931Z"
   },
   {
    "duration": 24,
    "start_time": "2022-02-16T18:03:43.977Z"
   },
   {
    "duration": 435,
    "start_time": "2022-02-16T18:03:44.005Z"
   },
   {
    "duration": 105,
    "start_time": "2022-02-16T18:05:02.171Z"
   },
   {
    "duration": 475,
    "start_time": "2022-02-16T18:06:02.425Z"
   },
   {
    "duration": 1440,
    "start_time": "2022-02-16T18:07:05.990Z"
   },
   {
    "duration": 51,
    "start_time": "2022-02-16T18:07:07.434Z"
   },
   {
    "duration": 7,
    "start_time": "2022-02-16T18:07:07.489Z"
   },
   {
    "duration": 17,
    "start_time": "2022-02-16T18:07:07.499Z"
   },
   {
    "duration": 65,
    "start_time": "2022-02-16T18:07:07.521Z"
   },
   {
    "duration": 3524,
    "start_time": "2022-02-16T18:07:07.589Z"
   },
   {
    "duration": 213,
    "start_time": "2022-02-16T18:07:11.116Z"
   },
   {
    "duration": 2776,
    "start_time": "2022-02-16T18:07:11.332Z"
   },
   {
    "duration": 24,
    "start_time": "2022-02-16T18:07:14.111Z"
   },
   {
    "duration": 44,
    "start_time": "2022-02-16T18:07:14.138Z"
   },
   {
    "duration": 8,
    "start_time": "2022-02-16T18:07:14.185Z"
   },
   {
    "duration": 16,
    "start_time": "2022-02-16T18:07:14.196Z"
   },
   {
    "duration": 8,
    "start_time": "2022-02-16T18:07:14.214Z"
   },
   {
    "duration": 48,
    "start_time": "2022-02-16T18:07:14.224Z"
   },
   {
    "duration": 27,
    "start_time": "2022-02-16T18:07:14.277Z"
   },
   {
    "duration": 6,
    "start_time": "2022-02-16T18:07:14.307Z"
   },
   {
    "duration": 8,
    "start_time": "2022-02-16T18:07:14.315Z"
   },
   {
    "duration": 56,
    "start_time": "2022-02-16T18:07:14.325Z"
   },
   {
    "duration": 17,
    "start_time": "2022-02-16T18:07:14.384Z"
   },
   {
    "duration": 1108,
    "start_time": "2022-02-17T15:13:50.640Z"
   },
   {
    "duration": 35,
    "start_time": "2022-02-17T15:13:51.749Z"
   },
   {
    "duration": 4,
    "start_time": "2022-02-17T15:13:51.786Z"
   },
   {
    "duration": 12,
    "start_time": "2022-02-17T15:13:51.792Z"
   },
   {
    "duration": 24,
    "start_time": "2022-02-17T15:13:51.806Z"
   },
   {
    "duration": 2316,
    "start_time": "2022-02-17T15:13:51.831Z"
   },
   {
    "duration": 141,
    "start_time": "2022-02-17T15:13:54.149Z"
   },
   {
    "duration": 1833,
    "start_time": "2022-02-17T15:13:54.292Z"
   },
   {
    "duration": 13,
    "start_time": "2022-02-17T15:13:56.128Z"
   },
   {
    "duration": 21,
    "start_time": "2022-02-17T15:13:56.143Z"
   },
   {
    "duration": 32,
    "start_time": "2022-02-17T15:13:56.166Z"
   },
   {
    "duration": 22,
    "start_time": "2022-02-17T15:13:56.200Z"
   },
   {
    "duration": 26,
    "start_time": "2022-02-17T15:13:56.224Z"
   },
   {
    "duration": 30,
    "start_time": "2022-02-17T15:13:56.252Z"
   },
   {
    "duration": 20,
    "start_time": "2022-02-17T15:13:56.284Z"
   },
   {
    "duration": 19,
    "start_time": "2022-02-17T15:13:56.306Z"
   },
   {
    "duration": 19,
    "start_time": "2022-02-17T15:13:56.327Z"
   },
   {
    "duration": 21,
    "start_time": "2022-02-17T15:13:56.347Z"
   },
   {
    "duration": 19,
    "start_time": "2022-02-17T15:13:56.370Z"
   },
   {
    "duration": 4,
    "start_time": "2022-02-17T15:26:09.834Z"
   },
   {
    "duration": 5,
    "start_time": "2022-02-17T15:26:12.075Z"
   },
   {
    "duration": 11,
    "start_time": "2022-02-17T15:42:04.103Z"
   },
   {
    "duration": 392,
    "start_time": "2022-02-17T15:56:28.721Z"
   },
   {
    "duration": 11,
    "start_time": "2022-02-17T15:57:00.703Z"
   },
   {
    "duration": 1172,
    "start_time": "2022-02-19T06:01:36.511Z"
   },
   {
    "duration": 44,
    "start_time": "2022-02-19T06:01:37.685Z"
   },
   {
    "duration": 6,
    "start_time": "2022-02-19T06:01:37.731Z"
   },
   {
    "duration": 13,
    "start_time": "2022-02-19T06:01:37.739Z"
   },
   {
    "duration": 55,
    "start_time": "2022-02-19T06:01:37.754Z"
   },
   {
    "duration": 2293,
    "start_time": "2022-02-19T06:01:37.810Z"
   },
   {
    "duration": 158,
    "start_time": "2022-02-19T06:01:40.107Z"
   },
   {
    "duration": 1979,
    "start_time": "2022-02-19T06:01:40.268Z"
   },
   {
    "duration": 16,
    "start_time": "2022-02-19T06:01:42.249Z"
   },
   {
    "duration": 11,
    "start_time": "2022-02-19T06:01:42.267Z"
   },
   {
    "duration": 30,
    "start_time": "2022-02-19T06:01:42.280Z"
   },
   {
    "duration": 11,
    "start_time": "2022-02-19T06:01:42.312Z"
   },
   {
    "duration": 6,
    "start_time": "2022-02-19T06:01:42.325Z"
   },
   {
    "duration": 15,
    "start_time": "2022-02-19T06:01:42.332Z"
   },
   {
    "duration": 15,
    "start_time": "2022-02-19T06:01:42.349Z"
   },
   {
    "duration": 49,
    "start_time": "2022-02-19T06:01:42.366Z"
   },
   {
    "duration": 12,
    "start_time": "2022-02-19T06:01:42.417Z"
   },
   {
    "duration": 33,
    "start_time": "2022-02-19T06:01:42.431Z"
   },
   {
    "duration": 90,
    "start_time": "2022-02-19T06:01:42.466Z"
   },
   {
    "duration": 1848,
    "start_time": "2022-02-19T06:01:40.711Z"
   },
   {
    "duration": 1847,
    "start_time": "2022-02-19T06:01:40.713Z"
   },
   {
    "duration": 1845,
    "start_time": "2022-02-19T06:01:40.716Z"
   },
   {
    "duration": 1843,
    "start_time": "2022-02-19T06:01:40.719Z"
   },
   {
    "duration": 1830,
    "start_time": "2022-02-19T06:01:40.733Z"
   },
   {
    "duration": 1829,
    "start_time": "2022-02-19T06:01:40.735Z"
   },
   {
    "duration": 1828,
    "start_time": "2022-02-19T06:01:40.737Z"
   },
   {
    "duration": 1828,
    "start_time": "2022-02-19T06:01:40.739Z"
   },
   {
    "duration": 1827,
    "start_time": "2022-02-19T06:01:40.741Z"
   },
   {
    "duration": 1822,
    "start_time": "2022-02-19T06:01:40.747Z"
   },
   {
    "duration": 1162,
    "start_time": "2022-02-19T06:02:26.217Z"
   },
   {
    "duration": 33,
    "start_time": "2022-02-19T06:02:27.381Z"
   },
   {
    "duration": 5,
    "start_time": "2022-02-19T06:02:27.416Z"
   },
   {
    "duration": 13,
    "start_time": "2022-02-19T06:02:27.423Z"
   },
   {
    "duration": 22,
    "start_time": "2022-02-19T06:02:27.438Z"
   },
   {
    "duration": 2319,
    "start_time": "2022-02-19T06:02:27.462Z"
   },
   {
    "duration": 168,
    "start_time": "2022-02-19T06:02:29.784Z"
   },
   {
    "duration": 2020,
    "start_time": "2022-02-19T06:02:29.955Z"
   },
   {
    "duration": 30,
    "start_time": "2022-02-19T06:02:31.978Z"
   },
   {
    "duration": 11,
    "start_time": "2022-02-19T06:02:32.010Z"
   },
   {
    "duration": 18,
    "start_time": "2022-02-19T06:02:32.023Z"
   },
   {
    "duration": 21,
    "start_time": "2022-02-19T06:02:32.043Z"
   },
   {
    "duration": 16,
    "start_time": "2022-02-19T06:02:32.066Z"
   },
   {
    "duration": 21,
    "start_time": "2022-02-19T06:02:32.084Z"
   },
   {
    "duration": 22,
    "start_time": "2022-02-19T06:02:32.107Z"
   },
   {
    "duration": 18,
    "start_time": "2022-02-19T06:02:32.130Z"
   },
   {
    "duration": 19,
    "start_time": "2022-02-19T06:02:32.150Z"
   },
   {
    "duration": 21,
    "start_time": "2022-02-19T06:02:32.171Z"
   },
   {
    "duration": 22,
    "start_time": "2022-02-19T06:02:32.194Z"
   },
   {
    "duration": 35,
    "start_time": "2022-02-19T06:02:32.217Z"
   },
   {
    "duration": 17,
    "start_time": "2022-02-19T06:02:32.254Z"
   },
   {
    "duration": 14,
    "start_time": "2022-02-19T06:02:32.273Z"
   },
   {
    "duration": 23,
    "start_time": "2022-02-19T06:02:32.291Z"
   },
   {
    "duration": 1134,
    "start_time": "2022-02-19T06:06:06.749Z"
   },
   {
    "duration": 38,
    "start_time": "2022-02-19T06:06:07.886Z"
   },
   {
    "duration": 5,
    "start_time": "2022-02-19T06:06:07.926Z"
   },
   {
    "duration": 11,
    "start_time": "2022-02-19T06:06:07.933Z"
   },
   {
    "duration": 18,
    "start_time": "2022-02-19T06:06:07.947Z"
   },
   {
    "duration": 2292,
    "start_time": "2022-02-19T06:06:07.967Z"
   },
   {
    "duration": 163,
    "start_time": "2022-02-19T06:06:10.261Z"
   },
   {
    "duration": 2075,
    "start_time": "2022-02-19T06:06:10.428Z"
   },
   {
    "duration": 19,
    "start_time": "2022-02-19T06:06:12.505Z"
   },
   {
    "duration": 11,
    "start_time": "2022-02-19T06:06:12.526Z"
   },
   {
    "duration": 24,
    "start_time": "2022-02-19T06:06:12.539Z"
   },
   {
    "duration": 11,
    "start_time": "2022-02-19T06:06:12.566Z"
   },
   {
    "duration": 6,
    "start_time": "2022-02-19T06:06:12.579Z"
   },
   {
    "duration": 11,
    "start_time": "2022-02-19T06:06:12.607Z"
   },
   {
    "duration": 16,
    "start_time": "2022-02-19T06:06:12.620Z"
   },
   {
    "duration": 13,
    "start_time": "2022-02-19T06:06:12.638Z"
   },
   {
    "duration": 12,
    "start_time": "2022-02-19T06:06:12.653Z"
   },
   {
    "duration": 47,
    "start_time": "2022-02-19T06:06:12.667Z"
   },
   {
    "duration": 12,
    "start_time": "2022-02-19T06:06:12.716Z"
   },
   {
    "duration": 18,
    "start_time": "2022-02-19T06:06:12.729Z"
   },
   {
    "duration": 11,
    "start_time": "2022-02-19T06:06:12.748Z"
   },
   {
    "duration": 7,
    "start_time": "2022-02-19T06:06:12.761Z"
   },
   {
    "duration": 43,
    "start_time": "2022-02-19T06:06:12.772Z"
   },
   {
    "duration": 1132,
    "start_time": "2022-02-19T06:14:38.242Z"
   },
   {
    "duration": 33,
    "start_time": "2022-02-19T06:14:39.377Z"
   },
   {
    "duration": 5,
    "start_time": "2022-02-19T06:14:39.413Z"
   },
   {
    "duration": 18,
    "start_time": "2022-02-19T06:14:39.420Z"
   },
   {
    "duration": 23,
    "start_time": "2022-02-19T06:14:39.441Z"
   },
   {
    "duration": 2354,
    "start_time": "2022-02-19T06:14:39.466Z"
   },
   {
    "duration": 159,
    "start_time": "2022-02-19T06:14:41.823Z"
   },
   {
    "duration": 2059,
    "start_time": "2022-02-19T06:14:41.984Z"
   },
   {
    "duration": 16,
    "start_time": "2022-02-19T06:14:44.046Z"
   },
   {
    "duration": 10,
    "start_time": "2022-02-19T06:14:44.064Z"
   },
   {
    "duration": 31,
    "start_time": "2022-02-19T06:14:44.076Z"
   },
   {
    "duration": 11,
    "start_time": "2022-02-19T06:14:44.109Z"
   },
   {
    "duration": 5,
    "start_time": "2022-02-19T06:14:44.122Z"
   },
   {
    "duration": 13,
    "start_time": "2022-02-19T06:14:44.129Z"
   },
   {
    "duration": 16,
    "start_time": "2022-02-19T06:14:44.143Z"
   },
   {
    "duration": 12,
    "start_time": "2022-02-19T06:14:44.160Z"
   },
   {
    "duration": 12,
    "start_time": "2022-02-19T06:14:44.208Z"
   },
   {
    "duration": 9,
    "start_time": "2022-02-19T06:14:44.222Z"
   },
   {
    "duration": 9,
    "start_time": "2022-02-19T06:14:44.233Z"
   },
   {
    "duration": 14,
    "start_time": "2022-02-19T06:14:44.244Z"
   },
   {
    "duration": 9,
    "start_time": "2022-02-19T06:14:44.260Z"
   },
   {
    "duration": 42,
    "start_time": "2022-02-19T06:14:44.271Z"
   },
   {
    "duration": 11,
    "start_time": "2022-02-19T06:14:44.315Z"
   },
   {
    "duration": 86,
    "start_time": "2022-02-19T06:14:44.328Z"
   },
   {
    "duration": 1827,
    "start_time": "2022-02-19T06:14:42.589Z"
   },
   {
    "duration": 104,
    "start_time": "2022-02-19T06:15:23.643Z"
   },
   {
    "duration": 1246,
    "start_time": "2022-02-19T06:22:41.701Z"
   },
   {
    "duration": 34,
    "start_time": "2022-02-19T06:22:42.949Z"
   },
   {
    "duration": 5,
    "start_time": "2022-02-19T06:22:42.985Z"
   },
   {
    "duration": 19,
    "start_time": "2022-02-19T06:22:42.993Z"
   },
   {
    "duration": 19,
    "start_time": "2022-02-19T06:22:43.015Z"
   },
   {
    "duration": 2703,
    "start_time": "2022-02-19T06:22:43.036Z"
   },
   {
    "duration": 166,
    "start_time": "2022-02-19T06:22:45.741Z"
   },
   {
    "duration": 1991,
    "start_time": "2022-02-19T06:22:45.909Z"
   },
   {
    "duration": 19,
    "start_time": "2022-02-19T06:22:47.909Z"
   },
   {
    "duration": 11,
    "start_time": "2022-02-19T06:22:47.930Z"
   },
   {
    "duration": 19,
    "start_time": "2022-02-19T06:22:47.943Z"
   },
   {
    "duration": 15,
    "start_time": "2022-02-19T06:22:47.964Z"
   },
   {
    "duration": 27,
    "start_time": "2022-02-19T06:22:47.981Z"
   },
   {
    "duration": 14,
    "start_time": "2022-02-19T06:22:48.010Z"
   },
   {
    "duration": 16,
    "start_time": "2022-02-19T06:22:48.026Z"
   },
   {
    "duration": 16,
    "start_time": "2022-02-19T06:22:48.045Z"
   },
   {
    "duration": 51,
    "start_time": "2022-02-19T06:22:48.063Z"
   },
   {
    "duration": 10,
    "start_time": "2022-02-19T06:22:48.116Z"
   },
   {
    "duration": 9,
    "start_time": "2022-02-19T06:22:48.128Z"
   },
   {
    "duration": 12,
    "start_time": "2022-02-19T06:22:48.139Z"
   },
   {
    "duration": 9,
    "start_time": "2022-02-19T06:22:48.153Z"
   },
   {
    "duration": 50,
    "start_time": "2022-02-19T06:22:48.164Z"
   },
   {
    "duration": 12,
    "start_time": "2022-02-19T06:22:48.216Z"
   },
   {
    "duration": 387,
    "start_time": "2022-02-19T06:22:48.230Z"
   },
   {
    "duration": 131,
    "start_time": "2022-02-19T06:25:27.038Z"
   },
   {
    "duration": 18,
    "start_time": "2022-02-19T06:30:45.112Z"
   },
   {
    "duration": 1195,
    "start_time": "2022-02-19T06:53:41.397Z"
   },
   {
    "duration": 38,
    "start_time": "2022-02-19T06:53:42.594Z"
   },
   {
    "duration": 4,
    "start_time": "2022-02-19T06:53:42.634Z"
   },
   {
    "duration": 10,
    "start_time": "2022-02-19T06:53:42.640Z"
   },
   {
    "duration": 57,
    "start_time": "2022-02-19T06:53:42.652Z"
   },
   {
    "duration": 2323,
    "start_time": "2022-02-19T06:53:42.711Z"
   },
   {
    "duration": 172,
    "start_time": "2022-02-19T06:53:45.036Z"
   },
   {
    "duration": 1929,
    "start_time": "2022-02-19T06:53:45.211Z"
   },
   {
    "duration": 15,
    "start_time": "2022-02-19T06:53:47.142Z"
   },
   {
    "duration": 11,
    "start_time": "2022-02-19T06:53:47.159Z"
   },
   {
    "duration": 14,
    "start_time": "2022-02-19T06:53:47.172Z"
   },
   {
    "duration": 11,
    "start_time": "2022-02-19T06:53:47.208Z"
   },
   {
    "duration": 6,
    "start_time": "2022-02-19T06:53:47.222Z"
   },
   {
    "duration": 12,
    "start_time": "2022-02-19T06:53:47.230Z"
   },
   {
    "duration": 18,
    "start_time": "2022-02-19T06:53:47.245Z"
   },
   {
    "duration": 44,
    "start_time": "2022-02-19T06:53:47.265Z"
   },
   {
    "duration": 13,
    "start_time": "2022-02-19T06:53:47.311Z"
   },
   {
    "duration": 9,
    "start_time": "2022-02-19T06:53:47.326Z"
   },
   {
    "duration": 9,
    "start_time": "2022-02-19T06:53:47.337Z"
   },
   {
    "duration": 13,
    "start_time": "2022-02-19T06:53:47.348Z"
   },
   {
    "duration": 52,
    "start_time": "2022-02-19T06:53:47.363Z"
   },
   {
    "duration": 7,
    "start_time": "2022-02-19T06:53:47.417Z"
   },
   {
    "duration": 11,
    "start_time": "2022-02-19T06:53:47.427Z"
   },
   {
    "duration": 11,
    "start_time": "2022-02-19T06:53:47.440Z"
   },
   {
    "duration": 1271,
    "start_time": "2022-02-19T06:57:49.090Z"
   },
   {
    "duration": 32,
    "start_time": "2022-02-19T06:57:50.363Z"
   },
   {
    "duration": 14,
    "start_time": "2022-02-19T06:57:50.397Z"
   },
   {
    "duration": 17,
    "start_time": "2022-02-19T06:57:50.414Z"
   },
   {
    "duration": 39,
    "start_time": "2022-02-19T06:57:50.433Z"
   },
   {
    "duration": 2222,
    "start_time": "2022-02-19T06:57:50.474Z"
   },
   {
    "duration": 169,
    "start_time": "2022-02-19T06:57:52.698Z"
   },
   {
    "duration": 2048,
    "start_time": "2022-02-19T06:57:52.869Z"
   },
   {
    "duration": 18,
    "start_time": "2022-02-19T06:57:54.921Z"
   },
   {
    "duration": 11,
    "start_time": "2022-02-19T06:57:54.941Z"
   },
   {
    "duration": 12,
    "start_time": "2022-02-19T06:57:54.955Z"
   },
   {
    "duration": 37,
    "start_time": "2022-02-19T06:57:54.970Z"
   },
   {
    "duration": 6,
    "start_time": "2022-02-19T06:57:55.010Z"
   },
   {
    "duration": 15,
    "start_time": "2022-02-19T06:57:55.018Z"
   },
   {
    "duration": 17,
    "start_time": "2022-02-19T06:57:55.035Z"
   },
   {
    "duration": 12,
    "start_time": "2022-02-19T06:57:55.054Z"
   },
   {
    "duration": 51,
    "start_time": "2022-02-19T06:57:55.068Z"
   },
   {
    "duration": 9,
    "start_time": "2022-02-19T06:57:55.121Z"
   },
   {
    "duration": 12,
    "start_time": "2022-02-19T06:57:55.132Z"
   },
   {
    "duration": 11,
    "start_time": "2022-02-19T06:57:55.146Z"
   },
   {
    "duration": 10,
    "start_time": "2022-02-19T06:57:55.159Z"
   },
   {
    "duration": 8,
    "start_time": "2022-02-19T06:57:55.208Z"
   },
   {
    "duration": 17,
    "start_time": "2022-02-19T06:57:55.218Z"
   },
   {
    "duration": 18,
    "start_time": "2022-02-19T06:57:55.238Z"
   }
  ],
  "kernelspec": {
   "display_name": "Python 3 (ipykernel)",
   "language": "python",
   "name": "python3"
  },
  "language_info": {
   "codemirror_mode": {
    "name": "ipython",
    "version": 3
   },
   "file_extension": ".py",
   "mimetype": "text/x-python",
   "name": "python",
   "nbconvert_exporter": "python",
   "pygments_lexer": "ipython3",
   "version": "3.9.5"
  },
  "toc": {
   "base_numbering": 1,
   "nav_menu": {
    "height": "141px",
    "width": "331px"
   },
   "number_sections": true,
   "sideBar": true,
   "skip_h1_title": true,
   "title_cell": "Table of Contents",
   "title_sidebar": "Contents",
   "toc_cell": true,
   "toc_position": {},
   "toc_section_display": true,
   "toc_window_display": true
  }
 },
 "nbformat": 4,
 "nbformat_minor": 2
}
